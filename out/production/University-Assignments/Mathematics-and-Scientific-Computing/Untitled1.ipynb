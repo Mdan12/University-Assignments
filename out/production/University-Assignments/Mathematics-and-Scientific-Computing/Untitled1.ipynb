{
 "cells": [
  {
   "cell_type": "code",
   "execution_count": 6,
   "id": "3fd6ea05-98f0-4aee-a0ce-ba1cb030af2e",
   "metadata": {},
   "outputs": [
    {
     "name": "stdout",
     "output_type": "stream",
     "text": [
      "rúmmál kúlu með radíus 2 er  33.51\n",
      "Radíus hrings með ummálið 100 er 15.92\n",
      "Eðlismassi gulltenings sem er 20 á kant og eðlisþyng 19.3 er 154.4\n",
      "63661977.236758135\n",
      "Massi jarðar með ummálið 400000 og eðlismassan 5500.0 er 5.944176107017149e+24\n"
     ]
    }
   ],
   "source": [
    "import math\n",
    "def volumeOfSphere(radius):\n",
    "    return (4/3)*math.pi*(radius**3)\n",
    "\n",
    "def radiusOfSphere(circumference):\n",
    "    return circumference/(2*math.pi)\n",
    "\n",
    "def weightOfGold(side, densityOfGold):\n",
    "    return (side**3) * densityOfGold/1000\n",
    "\n",
    "radius = 2\n",
    "print(f\"rúmmál kúlu með radíus {radius} er \", round(volumeOfSphere(radius), 2))\n",
    "\n",
    "circumference = 100\n",
    "print(f\"Radíus hrings með ummálið {circumference} er\", round(radiusOfSphere(circumference), 2))\n",
    "\n",
    "side = 20\n",
    "densityOfGold = 19.30\n",
    "\n",
    "\n",
    "print(f\"Eðlismassi gulltenings sem er {side} á kant og eðlisþyng {densityOfGold} er\", weightOfGold(20, 19.3))\n",
    "circumference = 40000 * 10**4\n",
    "density = 5.5 * 10**3\n",
    "radiusOfEarth = radiusOfSphere(circumference)\n",
    "volueOfEarth = volumeOfSphere(radiusOfEarth)\n",
    "massOfEarth = volueOfEarth * density\n",
    "print(radiusOfEarth)\n",
    "print(f\"Massi jarðar með ummálið {(circumference/1000):.0f} og eðlismassan {density} er {massOfEarth/1000}\")"
   ]
  }
 ],
 "metadata": {
  "kernelspec": {
   "display_name": "Python 3 (ipykernel)",
   "language": "python",
   "name": "python3"
  },
  "language_info": {
   "codemirror_mode": {
    "name": "ipython",
    "version": 3
   },
   "file_extension": ".py",
   "mimetype": "text/x-python",
   "name": "python",
   "nbconvert_exporter": "python",
   "pygments_lexer": "ipython3",
   "version": "3.9.13"
  }
 },
 "nbformat": 4,
 "nbformat_minor": 5
}
