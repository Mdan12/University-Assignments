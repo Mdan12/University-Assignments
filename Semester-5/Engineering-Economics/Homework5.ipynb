{
 "cells": [
  {
   "cell_type": "markdown",
   "metadata": {},
   "source": [
    "1. Fyrirtæki skilar 100000 í rekstrartekjur á 12 mánaða tímabili. Rekstrargjöld eru 60000. Viðskiptakröfur lækka um 10000. Skatturinn er 20% og er helmingur hagnaðar greiddur út sem arður. Hvaða fullyrðing er rétt? Rökstyðjið svarið!\n",
    "\n",
    "    Hagnaður fyrir skatta er 50000\n",
    "    EBITDA fyrirtækisins er 40000 og EBIT 40000\n",
    "    Reiknaður skattur af hagnaði er 10000"
   ]
  },
  {
   "cell_type": "code",
   "execution_count": 8,
   "metadata": {},
   "outputs": [
    {
     "name": "stdout",
     "output_type": "stream",
     "text": [
      "Hagnaður fyrir skatta: 40000 kr\n",
      "EBITDA: 40000 kr\n",
      "EBIT: 40000 kr\n",
      "Reiknaður skattur af hagnaði: 8000.0 kr\n",
      "Hagnaður eftir skatta: 32000.0 kr\n",
      "Arður: 16000.0 kr\n",
      "\n",
      "Hagnaður fyrir skatta er 50000: Rangt\n",
      "EBITDA fyrirtækisins er 40000 og EBIT 40000: Rétt\n",
      "Reiknaður skattur af hagnaði er 10000: Rangt\n"
     ]
    }
   ],
   "source": [
    "rekstrartekjur = 100_000\n",
    "rekstrargjold = 60_000 \n",
    "vidskiptakrofur_laekkkun = 10_000\n",
    "skattur_hlutfall = 0.20\n",
    "\n",
    "hagnadur_fyrir_skatt = rekstrartekjur - rekstrargjold\n",
    "\n",
    "# Engin munur á EBITDA og EBIT\n",
    "EBITDA = hagnadur_fyrir_skatt\n",
    "EBIT = hagnadur_fyrir_skatt\n",
    "\n",
    "reiknadur_skattur = hagnadur_fyrir_skatt * skattur_hlutfall\n",
    "\n",
    "hagnadur_eftir_skatt = hagnadur_fyrir_skatt - reiknadur_skattur\n",
    "\n",
    "ardur = hagnadur_eftir_skatt / 2\n",
    "\n",
    "print(f\"Hagnaður fyrir skatta: {hagnadur_fyrir_skatt} kr\")\n",
    "print(f\"EBITDA: {EBITDA} kr\")\n",
    "print(f\"EBIT: {EBIT} kr\")\n",
    "print(f\"Reiknaður skattur af hagnaði: {reiknadur_skattur} kr\")\n",
    "print(f\"Hagnaður eftir skatta: {hagnadur_eftir_skatt} kr\")\n",
    "print(f\"Arður: {ardur} kr\\n\")\n",
    "\n",
    "fullyrdingar = {\n",
    "    \"Hagnaður fyrir skatta er 50000\": hagnadur_fyrir_skatt == 50000,\n",
    "    \"EBITDA fyrirtækisins er 40000 og EBIT 40000\": EBITDA == 40000 and EBIT == 40000,\n",
    "    \"Reiknaður skattur af hagnaði er 10000\": reiknadur_skattur == 10000\n",
    "}\n",
    "\n",
    "for fullyrding, rett in fullyrdingar.items():\n",
    "    print(f\"{fullyrding}: {'Rétt' if rett else 'Rangt'}\")"
   ]
  },
  {
   "cell_type": "markdown",
   "metadata": {},
   "source": [
    "Hlutafé fyrirtækis er 10.000, óráðstafað eigið fé 5.000. Aðrir liðir eru ekki undir eigið fé. Langtímaskuldir eru 50.000. Skammtímaskuldir eru alls 10.000 og þar með taldar viðskiptaskuldir upp á 3.000. Hvaða fullyrðing er rétt? Rökstyðjið svarið!\n",
    "\n",
    "    Eignir fyrirtækis eru 70.000\n",
    "    Samtals skuldir fyrirtækis eru 60.000\n",
    "    Samtals skuldir og eigið fé er 70.000\n",
    "    Vaxtaberandi skuldir eru 50.000\n"
   ]
  },
  {
   "cell_type": "code",
   "execution_count": 9,
   "metadata": {},
   "outputs": [
    {
     "name": "stdout",
     "output_type": "stream",
     "text": [
      "Eignir fyrirtækis: 75000 kr\n",
      "Samtals skuldir fyrirtækis: 60000 kr\n",
      "Samtals skuldir og eigið fé: 75000 kr\n",
      "Vaxtaberandi skuldir: 50000 kr\n",
      "\n",
      "Eignir fyrirtækis eru 70.000: Rangt\n",
      "Samtals skuldir fyrirtækis eru 60.000: Rétt\n",
      "Samtals skuldir og eigið fé er 70.000: Rangt\n",
      "Vaxtaberandi skuldir eru 50.000: Rétt\n"
     ]
    }
   ],
   "source": [
    "hlutafe = 10000  \n",
    "oradstafad_eigid_fe = 5000 \n",
    "langtimaskuldir = 50000 \n",
    "skammtimaskuldir = 10000 \n",
    "vidskiptaskuldir = 3000  \n",
    "\n",
    "eigid_fe = hlutafe + oradstafad_eigid_fe\n",
    "\n",
    "samtals_skuldir = langtimaskuldir + skammtimaskuldir\n",
    "\n",
    "eignir = eigid_fe + samtals_skuldir\n",
    "\n",
    "samtals_skuldir_og_eigid_fe = samtals_skuldir + eigid_fe\n",
    "\n",
    "vaxtaberandi_skuldir = langtimaskuldir\n",
    "\n",
    "print(f\"Eignir fyrirtækis: {eignir} kr\")\n",
    "print(f\"Samtals skuldir fyrirtækis: {samtals_skuldir} kr\")\n",
    "print(f\"Samtals skuldir og eigið fé: {samtals_skuldir_og_eigid_fe} kr\")\n",
    "print(f\"Vaxtaberandi skuldir: {vaxtaberandi_skuldir} kr\\n\")\n",
    "\n",
    "fullyrdingar = {\n",
    "    \"Eignir fyrirtækis eru 70.000\": eignir == 70000,\n",
    "    \"Samtals skuldir fyrirtækis eru 60.000\": samtals_skuldir == 60000,\n",
    "    \"Samtals skuldir og eigið fé er 70.000\": samtals_skuldir_og_eigid_fe == 70000,\n",
    "    \"Vaxtaberandi skuldir eru 50.000\": vaxtaberandi_skuldir == 50000\n",
    "}\n",
    "\n",
    "for fullyrding, rett in fullyrdingar.items():\n",
    "    print(f\"{fullyrding}: {'Rétt' if rett else 'Rangt'}\")"
   ]
  },
  {
   "cell_type": "markdown",
   "metadata": {},
   "source": [
    "Að neðan er rekstrarreikningur fyrirtækis. Skattprósentan er 20%\n",
    "\n",
    "    Rekstrartekjur: 150.000\n",
    "    Rekstrargjöld: -80.000\n",
    "    Fjármagnsgjöld: -15.000\n",
    "    Afskriftir: -20.000\n",
    "\n",
    "Reiknið veltufé frá rekstri og EBITA framlegð."
   ]
  },
  {
   "cell_type": "code",
   "execution_count": 10,
   "metadata": {},
   "outputs": [
    {
     "name": "stdout",
     "output_type": "stream",
     "text": [
      "Veltufé frá rekstri: 8000.0 kr\n",
      "EBITA framlegð: 30000 kr\n"
     ]
    }
   ],
   "source": [
    "rekstrartekjur = 150000\n",
    "rekstrargjold = -80000\n",
    "fjarmagnsgjold = -15000\n",
    "afskriftir = -20000\n",
    "skattur_hlutfall = 0.20\n",
    "\n",
    "ebit = rekstrartekjur + rekstrargjold + afskriftir\n",
    "ebita = ebit + afskriftir\n",
    "\n",
    "hagnadur_fyrir_skatt = ebit + fjarmagnsgjold\n",
    "skattur = hagnadur_fyrir_skatt * skattur_hlutfall\n",
    "hagnadur_eftir_skatt = hagnadur_fyrir_skatt - skattur\n",
    "\n",
    "veltufe_fra_rekstri = hagnadur_eftir_skatt + afskriftir\n",
    "\n",
    "print(f\"Veltufé frá rekstri: {veltufe_fra_rekstri} kr\")\n",
    "print(f\"EBITA framlegð: {ebita} kr\")"
   ]
  },
  {
   "cell_type": "markdown",
   "metadata": {},
   "source": [
    "Í ársreikningi fyrurtækis má finna eftirfarandi liði fyrir eitt rekstrarár: Rekstrartekjur 275.000, vaxtaberandi skuldir 450.000, vaxtaprósenta 5%, rekstrargjörld 85.000. Greiddar afborganir af skuldum á rekstrarári voru 50.000. Afskriftir voru 15.000 á árinu. Skattar eru 20%. Hver var hagnaður eftir skatta?"
   ]
  },
  {
   "cell_type": "code",
   "execution_count": 11,
   "metadata": {},
   "outputs": [
    {
     "name": "stdout",
     "output_type": "stream",
     "text": [
      "Hagnaður eftir skatta: 122000.0 kr\n"
     ]
    }
   ],
   "source": [
    "rekstrartekjur = 275000\n",
    "vaxtaberandi_skuldir = 450000\n",
    "vaxtaprocenta = 0.05\n",
    "rekstrargjold = 85000\n",
    "greiddar_afborganir = 50000\n",
    "afskriftir = 15000\n",
    "skattar_hlutfall = 0.20\n",
    "\n",
    "vaxtagjold = vaxtaberandi_skuldir * vaxtaprocenta\n",
    "ebit = rekstrartekjur - rekstrargjold - afskriftir\n",
    "hagnadur_fyrir_skatt = ebit - vaxtagjold\n",
    "skattur = hagnadur_fyrir_skatt * skattar_hlutfall\n",
    "hagnadur_eftir_skatt = hagnadur_fyrir_skatt - skattur\n",
    "\n",
    "print(f\"Hagnaður eftir skatta: {hagnadur_eftir_skatt} kr\")"
   ]
  },
  {
   "cell_type": "markdown",
   "metadata": {},
   "source": [
    "Hagnaður fyrirtækis eftir skatt er 15.000, afskriftir eru 2.500. Birgðir hafa aukist um 1.000 sem og viðskiptakröfur. Vaxtakostnaður ársins er 1.500 og afborganir af lánum 500. Einnig voru fastafjármunir endurnýjaðir fyrir 1.000.\n",
    "\n",
    "Reiknið handbært fé frá rekstri."
   ]
  },
  {
   "cell_type": "code",
   "execution_count": 12,
   "metadata": {},
   "outputs": [
    {
     "name": "stdout",
     "output_type": "stream",
     "text": [
      "Handbært fé frá rekstri: 15500 kr\n"
     ]
    }
   ],
   "source": [
    "hagnadur_eftir_skatt = 15000\n",
    "afskriftir = 2500\n",
    "aukning_birgda = 1000\n",
    "aukning_vidskiptakrafa = 1000\n",
    "vaxtakostnadur = 1500\n",
    "afborganir_af_lanum = 500\n",
    "endurnyding_fastafjarmuna = 1000\n",
    "\n",
    "handbaert_fe_fra_rekstri = hagnadur_eftir_skatt + afskriftir - aukning_birgda - aukning_vidskiptakrafa\n",
    "\n",
    "print(f\"Handbært fé frá rekstri: {handbaert_fe_fra_rekstri} kr\")"
   ]
  }
 ],
 "metadata": {
  "kernelspec": {
   "display_name": "base",
   "language": "python",
   "name": "python3"
  },
  "language_info": {
   "codemirror_mode": {
    "name": "ipython",
    "version": 3
   },
   "file_extension": ".py",
   "mimetype": "text/x-python",
   "name": "python",
   "nbconvert_exporter": "python",
   "pygments_lexer": "ipython3",
   "version": "3.9.13"
  }
 },
 "nbformat": 4,
 "nbformat_minor": 2
}
