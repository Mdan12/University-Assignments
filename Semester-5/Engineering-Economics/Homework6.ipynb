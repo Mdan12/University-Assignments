{
 "cells": [
  {
   "cell_type": "markdown",
   "metadata": {},
   "source": [
    "1. Bréf A er með beta-gildið 1,78. Áhættulausir vextir eru metnir 8% og vænt ávöxtun markaðssafns M er 12%. Hver er vænt ávöxtun bréfs A samkvæmt CAPM módelinu?"
   ]
  },
  {
   "cell_type": "code",
   "execution_count": 4,
   "metadata": {},
   "outputs": [
    {
     "name": "stdout",
     "output_type": "stream",
     "text": [
      "15.12%\n"
     ]
    }
   ],
   "source": [
    "beta = 1.78\n",
    "risk_free_rate = 0.08\n",
    "market_return = 0.12\n",
    "\n",
    "expected_return = risk_free_rate + beta * (market_return - risk_free_rate)\n",
    "print(f\"{expected_return*100:.2f}%\")"
   ]
  },
  {
   "cell_type": "markdown",
   "metadata": {},
   "source": [
    "2. Gerum ráð fyrir að fjármagnskostnaður eigin fjár fyrirtækis sé 18% og fjármagnskostnaður fyrir skatta sé 8%. Ef markmið um skuldahlutfall (debt ratio) er 0,2 og skattaprósentan er 38%, hvert er þá vegið meðaltal fjármagnskostnaðar (WACC) fyrir fyrirtækið?"
   ]
  },
  {
   "cell_type": "code",
   "execution_count": 14,
   "metadata": {},
   "outputs": [
    {
     "name": "stdout",
     "output_type": "stream",
     "text": [
      "15.39%\n"
     ]
    }
   ],
   "source": [
    "cost_of_equity = 0.18\n",
    "cost_of_debt = 0.08\n",
    "debt_ratio = 0.2\n",
    "tax_rate = 0.38\n",
    "\n",
    "equity_ratio = 1 - debt_ratio\n",
    "after_tax_cost_of_debt = cost_of_debt * (1 - tax_rate)\n",
    "\n",
    "WACC = (equity_ratio * cost_of_equity) + (debt_ratio * after_tax_cost_of_debt)\n",
    "print(f\"{WACC*100:.2f}%\")"
   ]
  },
  {
   "cell_type": "markdown",
   "metadata": {},
   "source": [
    "3. Valgerði býðst að kaupa hlutafé í framleiðslufyrirtæki á genginu 1,2. Fyrirtækið sem um ræðir á eignir upp á 50.000.000 og skuldir upp á 25.000.000. Hlutafé fyrirtækis er 5.000.000 og óráðstafað eigið fé er 20.000.000. Fyrirtækið er í stöðugum rekstri. Rekstrartekjur eru áætlaðar 20.000.000 á ári, hráefniskostnaður 10.000.000 og önnur rekstrargjöld 4.000.000. Afskriftir 500.000 á ári. Gert er ráð fyrir birgðaaukningu upp á 400.000 á fyrsta ári en síðan ekki meir. Viðskiptakröfur munu á öðru ári lækka um 500.000 og ekki breytast eftir það. Fjárfesta þarf 500.000 árlega. Eftir þriðja ár er gert ráð fyrir 2% árlegum vexti. Skattprósentan er 15%, ávöxtun eigin fjár 15% og lánsvextir 10% Út frá gefnum upplýsingum á Valgerður að kaupa hlutafé fyrirtækis á genginu 1,2? Rökstyðjið svar ykkar."
   ]
  },
  {
   "cell_type": "code",
   "execution_count": 13,
   "metadata": {},
   "outputs": [
    {
     "name": "stdout",
     "output_type": "stream",
     "text": [
      "Núvirði fyrirtækis: 37338199.80 kr.\n",
      "Eiginfjárvirði: 12338199.80 kr.\n",
      "Verðmæti á hlutabréfi: 2.47 kr.\n",
      "Ráðlegging: Já, Valgerður ætti að kaupa hlutaféð.\n"
     ]
    }
   ],
   "source": [
    "tekjur = 20000000\n",
    "hraefniskostnadur = 10000000 \n",
    "rekstrargjold = 4000000 \n",
    "afskriftir = 500000  \n",
    "birgdaaukning = 400000 \n",
    "vidskiptakrofur_breyting = -500000 \n",
    "fjárfestingar = 500000  \n",
    "skattur = 0.15  \n",
    "lanavextir = 0.10\n",
    "avextun_eigin_fjars = 0.15 \n",
    "vextir_a_sjodstreyminu = 0.02\n",
    "\n",
    "wacc = 0.15\n",
    "\n",
    "sjodstreymi_ar_1 = (tekjur - hraefniskostnadur - rekstrargjold - fjárfestingar - birgdaaukning + afskriftir) * (1 - skattur)\n",
    "sjodstreymi_ar_2 = (tekjur - hraefniskostnadur - rekstrargjold - fjárfestingar + vidskiptakrofur_breyting + afskriftir) * (1 - skattur)\n",
    "sjodstreymi_ar_3 = (tekjur - hraefniskostnadur - rekstrargjold - fjárfestingar + afskriftir) * (1 - skattur)\n",
    "\n",
    "nv_sjodstreymi_1 = sjodstreymi_ar_1 / (1 + wacc)\n",
    "nv_sjodstreymi_2 = sjodstreymi_ar_2 / (1 + wacc)**2\n",
    "nv_sjodstreymi_3 = sjodstreymi_ar_3 / (1 + wacc)**3\n",
    "\n",
    "framvirkt_sjodstreymi = sjodstreymi_ar_3 * (1 + vextir_a_sjodstreyminu) / (wacc - vextir_a_sjodstreyminu)\n",
    "\n",
    "nv_framvirkt_sjodstreymi = framvirkt_sjodstreymi / (1 + wacc)**3\n",
    "\n",
    "heildarvirði_fyrirtaekis = nv_sjodstreymi_1 + nv_sjodstreymi_2 + nv_sjodstreymi_3 + nv_framvirkt_sjodstreymi\n",
    "\n",
    "eiginfjarvirdi = heildarvirði_fyrirtaekis - 25000000\n",
    "\n",
    "hlutafel_gengi = 1.2\n",
    "\n",
    "hlutafel = 5000000\n",
    "\n",
    "verdmaeti_hlutabrefs = eiginfjarvirdi / hlutafel\n",
    "\n",
    "if verdmaeti_hlutabrefs > hlutafel_gengi:\n",
    "    radlegging = \"Já, Valgerður ætti að kaupa hlutaféð.\"\n",
    "else:\n",
    "    radlegging = \"Nei, Valgerður ætti ekki að kaupa hlutaféð.\"\n",
    "\n",
    "print(f\"Núvirði fyrirtækis: {heildarvirði_fyrirtaekis:.2f} kr.\")\n",
    "print(f\"Eiginfjárvirði: {eiginfjarvirdi:.2f} kr.\")\n",
    "print(f\"Verðmæti á hlutabréfi: {verdmaeti_hlutabrefs:.2f} kr.\")\n",
    "print(f\"Ráðlegging: {radlegging}\")\n"
   ]
  }
 ],
 "metadata": {
  "kernelspec": {
   "display_name": "base",
   "language": "python",
   "name": "python3"
  },
  "language_info": {
   "codemirror_mode": {
    "name": "ipython",
    "version": 3
   },
   "file_extension": ".py",
   "mimetype": "text/x-python",
   "name": "python",
   "nbconvert_exporter": "python",
   "pygments_lexer": "ipython3",
   "version": "3.9.13"
  }
 },
 "nbformat": 4,
 "nbformat_minor": 2
}
