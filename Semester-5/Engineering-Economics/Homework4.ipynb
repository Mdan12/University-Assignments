{
 "cells": [
  {
   "cell_type": "markdown",
   "metadata": {},
   "source": [
    "1. Í lok mars 2020 var gengi Arion banka 787. Ári síðar var gengi bankans komið í 935. Á sama tímabili hækkaði vísitala neysluverðs úr 266,1 í 279,9. Hver var raunávöxtun hlutabréfa Arion banka skv. þessum gögnum?"
   ]
  },
  {
   "cell_type": "code",
   "execution_count": 12,
   "metadata": {},
   "outputs": [
    {
     "name": "stdout",
     "output_type": "stream",
     "text": [
      "12.948%\n"
     ]
    }
   ],
   "source": [
    "Nafnavoxtun = (935/787) - 1\n",
    "Verdbolga = (279.9/266.1) - 1\n",
    "\n",
    "Raunavoxtun = ((1+Nafnavoxtun) / (1+Verdbolga))-1\n",
    "print(f\"{Raunavoxtun*100:.3f}%\")"
   ]
  },
  {
   "cell_type": "markdown",
   "metadata": {},
   "source": [
    "2. Búð býður vaxtalaust neyslulán til 6 mánaða. Lánið, 10.000 kr, er greitt með einni greiðslu eftir 6 mánuði en er með 3,5% lántökugjaldi sem er dregið frá þegar lánið er fyrst greitt út. Greiðslugjald upp á 400 kr. er einnig lagt á hverja greiðslu. Hver er árleg hlutfallstala kostnaðar lánsins? "
   ]
  },
  {
   "cell_type": "code",
   "execution_count": 24,
   "metadata": {},
   "outputs": [
    {
     "name": "stdout",
     "output_type": "stream",
     "text": [
      "16.15%\n"
     ]
    }
   ],
   "source": [
    "Utlan = 10_000 - (3.5/100) * 10_000\n",
    "Endurgreidsla = 10_000 + 400\n",
    "\n",
    "AHK = ((Endurgreidsla / Utlan) ** (12/6)) - 1\n",
    "print(f\"{AHK*100:.2f}%\")\n"
   ]
  },
  {
   "cell_type": "markdown",
   "metadata": {},
   "source": [
    "3. Tveggja ára skuldabréf, höfuðstól 100 krónur, með 10% vöxtum greiðir vexti tvisvar á ári (vaxtagreiðslubréf). Reiknið verðið á bréfinu ásamt meðaltíma bréfsins miðað við 5% ávöxtunarkröfu"
   ]
  },
  {
   "cell_type": "code",
   "execution_count": 26,
   "metadata": {},
   "outputs": [
    {
     "name": "stdout",
     "output_type": "stream",
     "text": [
      "Verð skuldabréfsins: 109.40 kr\n",
      "Meðaltími skuldabréfsins: 1.87 ár\n"
     ]
    }
   ],
   "source": [
    "nafnvirði = 100  \n",
    "vextir = 0.10  \n",
    "avextunarkrafa = 0.05  \n",
    "ar = 2  \n",
    "greidslur_a_ari = 2  \n",
    "\n",
    "vaxtagreidsla = nafnvirði * vextir / greidslur_a_ari\n",
    "\n",
    "heildar_timabil = ar * greidslur_a_ari\n",
    "\n",
    "verd_skuldabrefs = 0\n",
    "for t in range(1, heildar_timabil + 1):\n",
    "    verd_skuldabrefs += vaxtagreidsla / (1 + avextunarkrafa / greidslur_a_ari) ** t\n",
    "verd_skuldabrefs += nafnvirði / (1 + avextunarkrafa / greidslur_a_ari) ** heildar_timabil\n",
    "\n",
    "medaltimi = 0\n",
    "for t in range(1, heildar_timabil + 1):\n",
    "    medaltimi += t * vaxtagreidsla / (1 + avextunarkrafa / greidslur_a_ari) ** t\n",
    "medaltimi += heildar_timabil * nafnvirði / (1 + avextunarkrafa / greidslur_a_ari) ** heildar_timabil\n",
    "medaltimi /= verd_skuldabrefs\n",
    "medaltimi /= greidslur_a_ari  \n",
    "\n",
    "print(f\"Verð skuldabréfsins: {verd_skuldabrefs:.2f} kr\")\n",
    "print(f\"Meðaltími skuldabréfsins: {medaltimi:.2f} ár\")"
   ]
  },
  {
   "cell_type": "markdown",
   "metadata": {},
   "source": [
    "4. Níutíu þúsund króna skuldabréf með jöfnum afborgunum til 3ja ára ber 10% nafnvexti, sem greiddir eru út árlega á gjalddögum. Beint er að því 8% ávöxtunarkröfu. Leiðið út og sýnið sjóðstreymi bréfsins. Notið sjóðstreymið ofl. upplýsingar til þess að leiða út meðaltíma bréfsins."
   ]
  },
  {
   "cell_type": "code",
   "execution_count": 29,
   "metadata": {},
   "outputs": [
    {
     "name": "stdout",
     "output_type": "stream",
     "text": [
      "Sjóðstreymi skuldabréfsins:\n",
      "Ár 1: 39000 kr\n",
      "Ár 2: 36000 kr\n",
      "Ár 3: 33000 kr\n",
      "\n",
      "Verð skuldabréfsins: 93171.77 kr\n",
      "Meðaltími skuldabréfsins: 1.89 ár\n"
     ]
    }
   ],
   "source": [
    "nafnvirði = 90_000 \n",
    "vextir = 0.10 \n",
    "avextunarkrafa = 0.08 \n",
    "ar = 3 \n",
    "\n",
    "afborgun = nafnvirði / ar\n",
    "\n",
    "sjodstreymi = []\n",
    "for t in range(1, ar + 1):\n",
    "    vaxtagreidsla = (nafnvirði - (t - 1) * afborgun) * vextir\n",
    "    heildargreidsla = afborgun + vaxtagreidsla\n",
    "    sjodstreymi.append(heildargreidsla)\n",
    "\n",
    "verd_skuldabrefs = 0\n",
    "for t in range(1, ar + 1):\n",
    "    verd_skuldabrefs += sjodstreymi[t - 1] / (1 + avextunarkrafa) ** t\n",
    "\n",
    "medaltimi = 0\n",
    "for t in range(1, ar + 1):\n",
    "    medaltimi += t * sjodstreymi[t - 1] / (1 + avextunarkrafa) ** t\n",
    "medaltimi /= verd_skuldabrefs\n",
    "\n",
    "print(\"Sjóðstreymi skuldabréfsins:\")\n",
    "for t in range(1, ar + 1):\n",
    "    print(f\"Ár {t}: {sjodstreymi[t - 1]:.0f} kr\")\n",
    "\n",
    "print(f\"\\nVerð skuldabréfsins: {verd_skuldabrefs:.2f} kr\")\n",
    "print(f\"Meðaltími skuldabréfsins: {medaltimi:.2f} ár\")"
   ]
  },
  {
   "cell_type": "markdown",
   "metadata": {},
   "source": [
    "5. Vaxtagreiðslubréf með lokadag eftir þrjú ár ber 6% árlega nafnvexti sem eru greiddir árlega. Nafnvirðið er 100 kr. Í dag er hreint verð bréfsins 107 krónur. Hver er ávöxtunarkrafa skuldabréfsins í dag og hver er meðaltíminn."
   ]
  },
  {
   "cell_type": "code",
   "execution_count": 34,
   "metadata": {},
   "outputs": [
    {
     "name": "stdout",
     "output_type": "stream",
     "text": [
      "Ávöxtunarkrafa skuldabréfsins: 2.69%\n",
      "Meðaltími skuldabréfsins: 3.68 ár\n"
     ]
    }
   ],
   "source": [
    "import numpy as np\n",
    "import numpy_financial as npf\n",
    "\n",
    "nafnvirði = 100 \n",
    "vextir = 0.06 \n",
    "hreint_verd = 107 \n",
    "ar = 3 \n",
    "\n",
    "vaxtagreidsla = nafnvirði * vextir\n",
    "\n",
    "def ytm(hreint_verd, nafnvirði, vaxtagreidsla, ar):\n",
    "    cash_flows = [-hreint_verd] + [vaxtagreidsla] * ar + [nafnvirði]\n",
    "    return npf.irr(cash_flows)\n",
    "\n",
    "def duration(hreint_verd, nafnvirði, vaxtagreidsla, ytm, ar):\n",
    "    cash_flows = [vaxtagreidsla] * ar + [nafnvirði]\n",
    "    discounted_cash_flows = [cf / (1 + ytm) ** t for t, cf in enumerate(cash_flows, 1)]\n",
    "    weighted_cash_flows = [t * cf for t, cf in enumerate(discounted_cash_flows, 1)]\n",
    "    return sum(weighted_cash_flows) / hreint_verd\n",
    "\n",
    "ytm_value = ytm(hreint_verd, nafnvirði, vaxtagreidsla, ar)\n",
    "\n",
    "medaltimi = duration(hreint_verd, nafnvirði, vaxtagreidsla, ytm_value, ar)\n",
    "\n",
    "print(f\"Ávöxtunarkrafa skuldabréfsins: {ytm_value * 100:.2f}%\")\n",
    "print(f\"Meðaltími skuldabréfsins: {medaltimi:.2f} ár\")"
   ]
  },
  {
   "cell_type": "markdown",
   "metadata": {},
   "source": [
    "6. Á 8 vikum hækkar verð á ólíutunnum úr $52 í $62. Ávöxtun á ársgrundvelli er?"
   ]
  },
  {
   "cell_type": "code",
   "execution_count": 36,
   "metadata": {},
   "outputs": [
    {
     "name": "stdout",
     "output_type": "stream",
     "text": [
      "Ávöxtun á ársgrundvelli: 213.71%\n"
     ]
    }
   ],
   "source": [
    "upphafsverd = 52\n",
    "lokaverð = 62 \n",
    "vikur = 8 \n",
    "\n",
    "avoxtun_8_vikur = (lokaverð / upphafsverd) - 1\n",
    "\n",
    "ar = 52 / vikur\n",
    "arleg_avoxtun = (1 + avoxtun_8_vikur) ** ar - 1\n",
    "\n",
    "print(f\"Ávöxtun á ársgrundvelli: {arleg_avoxtun * 100:.2f}%\")"
   ]
  }
 ],
 "metadata": {
  "kernelspec": {
   "display_name": "Python 3",
   "language": "python",
   "name": "python3"
  },
  "language_info": {
   "codemirror_mode": {
    "name": "ipython",
    "version": 3
   },
   "file_extension": ".py",
   "mimetype": "text/x-python",
   "name": "python",
   "nbconvert_exporter": "python",
   "pygments_lexer": "ipython3",
   "version": "3.9.13"
  }
 },
 "nbformat": 4,
 "nbformat_minor": 2
}
