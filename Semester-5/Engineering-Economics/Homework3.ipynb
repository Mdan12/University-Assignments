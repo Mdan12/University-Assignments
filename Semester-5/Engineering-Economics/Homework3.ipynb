{
 "cells": [
  {
   "cell_type": "markdown",
   "metadata": {},
   "source": [
    "1. Til skoðunar er jafngreiðslubréf til 3ja ára, með árlegum greiðslum og 9% nafnvöxtum. Hver er árleg jafngreiðsla af 100 króna bréfi og hvernig skiptist þriðja greiðan í afborgun af höfuðstól og vaxtagreiðslu?"
   ]
  },
  {
   "cell_type": "code",
   "execution_count": 16,
   "metadata": {},
   "outputs": [
    {
     "name": "stdout",
     "output_type": "stream",
     "text": [
      "Árleg jafngreiðsla af 100kr er 39.51 kr.\n",
      "Afborgun af höfuðstól er 36.24 kr.\n",
      "Vaxtagreiðsla er 3.26 kr.\n"
     ]
    }
   ],
   "source": [
    "P = 100 \n",
    "r = 0.09\n",
    "n = 3 \n",
    "\n",
    "def calculate_annuity_payment(P, r, n):\n",
    "    A = (P * r * (1 + r) ** n) / ((1 + r) ** n - 1)\n",
    "    return A\n",
    "\n",
    "def breakdown_payment(P, r, n, A):\n",
    "    remaining_principal = P\n",
    "    for _ in range(1, n + 1):\n",
    "        interest_payment = remaining_principal * r\n",
    "        principal_payment = A - interest_payment\n",
    "        remaining_principal -= principal_payment\n",
    "    return principal_payment, interest_payment\n",
    "\n",
    "A = calculate_annuity_payment(P, r, n)\n",
    "print(f\"Árleg jafngreiðsla af 100kr er {A:.2f} kr.\")\n",
    "\n",
    "third_principal, third_interest = breakdown_payment(P, r, n, A)\n",
    "print(f\"Afborgun af höfuðstól er {third_principal:.2f} kr.\")\n",
    "print(f\"Vaxtagreiðsla er {third_interest:.2f} kr.\")\n"
   ]
  },
  {
   "cell_type": "markdown",
   "metadata": {},
   "source": [
    "2. Lán A er með jöfnum afborgunum til tveggja ára. Höfuðstóllinn er 1.000 og vextirnir eru 6%, árlegar greiðlur. Hvert er núvirði lánsins m.v. 6% ávöxtunarkröfu"
   ]
  },
  {
   "cell_type": "code",
   "execution_count": 17,
   "metadata": {},
   "outputs": [
    {
     "name": "stdout",
     "output_type": "stream",
     "text": [
      "Núvirði láns er 1000.0 kr.\n"
     ]
    }
   ],
   "source": [
    "principal = 1000\n",
    "r = 0.06 \n",
    "n = 2 \n",
    "\n",
    "principal_payment = principal / n\n",
    "\n",
    "def discount_payment(payment, rate, year):\n",
    "    return payment / (1 + rate) ** year\n",
    "\n",
    "def present_value_of_loan(principal, r, n):\n",
    "    pv = 0  \n",
    "    remaining_principal = principal\n",
    "    \n",
    "    for year in range(1, n + 1):\n",
    "        interest_payment = remaining_principal * r\n",
    "        \n",
    "        total_payment = principal_payment + interest_payment\n",
    "        \n",
    "        discounted_payment = discount_payment(total_payment, r, year)\n",
    "        pv += discounted_payment\n",
    "        remaining_principal -= principal_payment\n",
    "    \n",
    "    return pv\n",
    "\n",
    "pv = present_value_of_loan(principal, r, n)\n",
    "print(f\"Núvirði láns er {pv} kr.\")\n"
   ]
  },
  {
   "cell_type": "markdown",
   "metadata": {},
   "source": [
    "3. Lán A er jafngreiðslulán með tveimur gjalddögum, eftir 1 ár og svo eftir 2 ár. Höfuðstóll er 100 og árlegir vextir eru 5%. Hvert er núvirði láns m.v. ávöxtunarkröfuna 4%?"
   ]
  },
  {
   "cell_type": "code",
   "execution_count": 18,
   "metadata": {},
   "outputs": [
    {
     "name": "stdout",
     "output_type": "stream",
     "text": [
      "Núvirði láns er 101.44 kr.\n"
     ]
    }
   ],
   "source": [
    "P = 100  \n",
    "r = 0.05 \n",
    "n = 2 \n",
    "discount_rate = 0.04\n",
    "\n",
    "def calculate_annuity_payment(P, r, n):\n",
    "    A = (P * r * (1 + r) ** n) / ((1 + r) ** n - 1)\n",
    "    return A\n",
    "\n",
    "\n",
    "def discount_payment(payment, rate, year):\n",
    "    return payment / (1 + rate) ** year\n",
    "\n",
    "\n",
    "def present_value_of_loan(P, r, n, discount_rate):\n",
    "    A = calculate_annuity_payment(P, r, n)\n",
    "    \n",
    "    pv = 0 \n",
    "    for year in range(1, n + 1):\n",
    "        discounted_payment = discount_payment(A, discount_rate, year)\n",
    "        pv += discounted_payment\n",
    "    \n",
    "    return pv\n",
    "\n",
    "pv = present_value_of_loan(P, r, n, discount_rate)\n",
    "print(f\"Núvirði láns er {pv:.2f} kr.\")\n"
   ]
  },
  {
   "cell_type": "markdown",
   "metadata": {},
   "source": [
    "4. Skuldabréf á markaði greiðir vexti einu sinni á ári (vaxtagreiðslubréf) og er til þriggja ára. Nafnverð bréfsins er 100 kr. Nafnvextir bréfsins eru 9%. Ef ávöxtunarkrafa til bréfsins er 7% hvert ætti markaðsverð þess að vera?"
   ]
  },
  {
   "cell_type": "code",
   "execution_count": 19,
   "metadata": {},
   "outputs": [
    {
     "name": "stdout",
     "output_type": "stream",
     "text": [
      "Markaðsverð ætti að vera 105.25 kr.\n"
     ]
    }
   ],
   "source": [
    "face_value = 100  \n",
    "coupon_rate = 0.09 \n",
    "discount_rate = 0.07 \n",
    "n = 3 \n",
    "\n",
    "coupon_payment = face_value * coupon_rate\n",
    "\n",
    "def calculate_bond_price(face_value, coupon_payment, discount_rate, n):\n",
    "    bond_price = 0\n",
    "    for t in range(1, n + 1):\n",
    "        bond_price += coupon_payment / (1 + discount_rate) ** t\n",
    "    \n",
    "    bond_price += face_value / (1 + discount_rate) ** n\n",
    "    \n",
    "    return bond_price\n",
    "\n",
    "bond_price = calculate_bond_price(face_value, coupon_payment, discount_rate, n)\n",
    "print(f\"Markaðsverð ætti að vera {bond_price:.2f} kr.\")\n"
   ]
  },
  {
   "cell_type": "markdown",
   "metadata": {},
   "source": [
    "5. Lán A er jafngreiðslulán með einum gjalddaga eftir 1 ár, höfuðstól 100 og vexti 5%. Hvert er núvirði láns m.v. ávöxtunarkröfuna 4%"
   ]
  },
  {
   "cell_type": "code",
   "execution_count": 20,
   "metadata": {},
   "outputs": [
    {
     "name": "stdout",
     "output_type": "stream",
     "text": [
      "Núvirði láns er 100.96 kr.\n"
     ]
    }
   ],
   "source": [
    "principal = 100 \n",
    "interest_rate = 0.05 \n",
    "discount_rate = 0.04 \n",
    "n = 1  \n",
    "\n",
    "total_payment = principal + (principal * interest_rate)\n",
    "\n",
    "present_value = total_payment / (1 + discount_rate) ** n\n",
    "\n",
    "print(f\"Núvirði láns er {present_value:.2f} kr.\")\n"
   ]
  },
  {
   "cell_type": "markdown",
   "metadata": {},
   "source": [
    "6. Skuldabréf á markaði greiðir vexti einu sinni á ári (vaxtagreiðslubréf) og er til þriggja ára. Nafnverð bréfsins er 100 kr. og nafnvextir bréfsins eru 15%. Ávöxtunarkrafa bréfsins við útgáfu er 15%. Eftir fyrstu vaxtagreiðslu er ávöxtunarkrafan 16%, hvert ætti markaðsverðið að vera þá?"
   ]
  },
  {
   "cell_type": "code",
   "execution_count": 21,
   "metadata": {},
   "outputs": [
    {
     "name": "stdout",
     "output_type": "stream",
     "text": [
      "Markaðsvirði ætti að vera 98.39 kr.\n"
     ]
    }
   ],
   "source": [
    "face_value = 100 \n",
    "coupon_rate = 0.15 \n",
    "new_yield = 0.16 \n",
    "n = 2 \n",
    "\n",
    "coupon_payment = face_value * coupon_rate\n",
    "\n",
    "def calculate_bond_price(face_value, coupon_payment, new_yield, n):\n",
    "    bond_price = 0\n",
    "    for t in range(1, n + 1):\n",
    "        bond_price += coupon_payment / (1 + new_yield) ** t\n",
    "    \n",
    "    bond_price += face_value / (1 + new_yield) ** n\n",
    "    \n",
    "    return bond_price\n",
    "\n",
    "bond_price = calculate_bond_price(face_value, coupon_payment, new_yield, n)\n",
    "print(f\"Markaðsvirði ætti að vera {bond_price:.2f} kr.\")\n"
   ]
  }
 ],
 "metadata": {
  "kernelspec": {
   "display_name": "base",
   "language": "python",
   "name": "python3"
  },
  "language_info": {
   "codemirror_mode": {
    "name": "ipython",
    "version": 3
   },
   "file_extension": ".py",
   "mimetype": "text/x-python",
   "name": "python",
   "nbconvert_exporter": "python",
   "pygments_lexer": "ipython3",
   "version": "3.9.13"
  }
 },
 "nbformat": 4,
 "nbformat_minor": 2
}
