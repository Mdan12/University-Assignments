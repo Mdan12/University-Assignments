{
 "cells": [
  {
   "cell_type": "markdown",
   "metadata": {},
   "source": [
    "1. Hverjir eru ársvextirnir ef þú lánar einhverjum 1000 kr. og færð endurgreitt 2055 kr. eftir 7 ár?\n",
    "\n",
    "$$ F = P(1+i)^N \\\\\n",
    "i =\\sqrt{\\frac{F}{P}}-1 $$"
   ]
  },
  {
   "cell_type": "code",
   "execution_count": 10,
   "metadata": {},
   "outputs": [
    {
     "name": "stdout",
     "output_type": "stream",
     "text": [
      "Ársvextir eru 10.84%\n"
     ]
    }
   ],
   "source": [
    "P = 1000 # Upphafs greiðsla, núvirði\n",
    "F = 2055 # Framtíðarvirði\n",
    "N = 7    # Tími \n",
    "\n",
    "print(f\"Ársvextir eru {((F/P)**(1/N)-1)*100:.2f}%\")"
   ]
  },
  {
   "cell_type": "markdown",
   "metadata": {},
   "source": [
    "2. Hversu mikið þarf einstaklingur að eiga að lágmarki í dag á bankabók með 5% vöxtum ef hann ætlar að taka út 120 á ári 3 og 120 á ári 6?\n",
    "\n",
    "$$ F = P(1+i)^N \\\\\n",
    "P = \\frac{F}{(1+i)^N}$$"
   ]
  },
  {
   "cell_type": "code",
   "execution_count": 34,
   "metadata": {},
   "outputs": [
    {
     "name": "stdout",
     "output_type": "stream",
     "text": [
      "Einstaklingur þarf að lágmarki eiga 103.66 til að geta tekið út 120 eftir 3 ár.\n",
      "Einstaklingur þarf að lágmarki eiga 89.55 til að geta tekið út 120 eftir 6 ár.\n",
      "Allt í allt þar einstaklingurinn að eiga 193.21 kr.\n"
     ]
    }
   ],
   "source": [
    "i = 5/100   # Vaxtaprósenta\n",
    "F = 120     # Framtíðarvirði\n",
    "N = 3       # Tími (3 ár)\n",
    "n = 6       # Tími (6 ár)\n",
    "\n",
    "# a)\n",
    "print(f\"Einstaklingur þarf að lágmarki eiga {F/((1+i)**N):.2f} til að geta tekið út {F} eftir {N} ár.\")\n",
    "\n",
    "# b)\n",
    "print(f\"Einstaklingur þarf að lágmarki eiga {F/((1+i)**n):.2f} til að geta tekið út {F} eftir {n} ár.\")\n",
    "\n",
    "print(f\"Allt í allt þar einstaklingurinn að eiga {F/((1+i)**N)+F/((1+i)**n):.2f} kr.\")"
   ]
  },
  {
   "cell_type": "markdown",
   "metadata": {},
   "source": [
    "3. Hvert er framtíðarvirði 500 kr. eftir 12 ár við 1% mánaðarlega vexti og reiknað er með árlegum flötum vöxtum?\n",
    "\n",
    "$$ F = P(1+i*N)$$"
   ]
  },
  {
   "cell_type": "code",
   "execution_count": 22,
   "metadata": {},
   "outputs": [
    {
     "name": "stdout",
     "output_type": "stream",
     "text": [
      "Framtíðarvirði 500 kr. eftir 12 ár er 1220 kr.\n"
     ]
    }
   ],
   "source": [
    "P = 500     # Upphafs greiðsla, núvirði\n",
    "N = 12      # Tími \n",
    "i = 1/100   # Vaxtaprósenta\n",
    "\n",
    "print(f\"Framtíðarvirði 500 kr. eftir 12 ár er {int(P*(1+i*N*12))} kr.\")"
   ]
  },
  {
   "cell_type": "markdown",
   "metadata": {},
   "source": [
    "4. Bankareikningur ber 18% ársvexti með 18 vaxtatímabilum. Ef lagt er  inn 1.000.000, hver er staðan á reikninginum eftir 18 mánuði?\n",
    "\n",
    "$$ F = P(1+(\\frac{i}{m}))^{N*m} $$"
   ]
  },
  {
   "cell_type": "code",
   "execution_count": 24,
   "metadata": {},
   "outputs": [
    {
     "name": "stdout",
     "output_type": "stream",
     "text": [
      "Staðan á reikningnum eftir 18 mánuði er 1308209 kr.\n"
     ]
    }
   ],
   "source": [
    "P = 1_000_000   # Upphafs greiðsla, núvirði\n",
    "i = 18/100      # Vaxtaprósenta\n",
    "m = 18          # Vaxtatímabil\n",
    "N = 18 / 12     # Tími\n",
    "\n",
    "print(f\"Staðan á reikningnum eftir 18 mánuði er {P * (1 + i / m) ** (N * m):.0f} kr.\")\n"
   ]
  },
  {
   "cell_type": "markdown",
   "metadata": {},
   "source": [
    "5. Ef lagt er inn 1.000.000 inn á reikning sem gefur 4,15% árlega ávöxtun (m.v. veldisvexti) þá er staðan hver eftir 15 ár?\n",
    "\n",
    "$$F = P(1+i)^N$$"
   ]
  },
  {
   "cell_type": "code",
   "execution_count": 27,
   "metadata": {},
   "outputs": [
    {
     "name": "stdout",
     "output_type": "stream",
     "text": [
      "Staðan eftir 15 ár er 1840302 kr.\n"
     ]
    }
   ],
   "source": [
    "P = 1000000     # Upphafs greiðsla, núvirði\n",
    "i = 4.15/100    # Vaxtaprósenta\n",
    "N = 15          # Tími\n",
    "\n",
    "print(f\"Staðan eftir 15 ár er {P*(1+i)**N:.0f} kr.\")"
   ]
  },
  {
   "cell_type": "markdown",
   "metadata": {},
   "source": [
    "6. Einstaklingur leggur fyrir 10.000 í dag inn á sparnaðarreikning og ætlar að taka út allan sparnaðinn með þremur jöfnum greiðslum yfir 3 ára tímabil eftir 5 ár (semsagt tekur út sömu greiðslu á ári 6, 7 og 8). Gera skal ráð fyrir að um veldisvexti sé að ræða sem reiknast einu sinni á ári og nafnvextir eru 12%. Hversu há er greiðslan sem hann getur tekið út árlega (á ári 6, 7 og 8)?\n",
    "\n",
    "$$F = P(1+i)^N \\\\\n",
    "A = F * \\frac{i}{1-(1+i)^{-m}}$$"
   ]
  },
  {
   "cell_type": "code",
   "execution_count": 31,
   "metadata": {},
   "outputs": [
    {
     "name": "stdout",
     "output_type": "stream",
     "text": [
      "Upphæð greiðslu sem er tekin út árlega er 7337.5 kr.\n"
     ]
    }
   ],
   "source": [
    "P = 10000       # Upphafs greiðsla, núvirði\n",
    "i = 12/100      # Vaxtaprósenta\n",
    "N = 5           # Tími \n",
    "m = 3           # Fjöldi úttekta\n",
    "\n",
    "\n",
    "F = P * (1 + i) ** N\n",
    "A = F * i / (1 - (1 + i) ** -m)\n",
    "\n",
    "print(f\"Upphæð greiðslu sem er tekin út árlega er {round(A,1)} kr.\")\n"
   ]
  }
 ],
 "metadata": {
  "kernelspec": {
   "display_name": "base",
   "language": "python",
   "name": "python3"
  },
  "language_info": {
   "codemirror_mode": {
    "name": "ipython",
    "version": 3
   },
   "file_extension": ".py",
   "mimetype": "text/x-python",
   "name": "python",
   "nbconvert_exporter": "python",
   "pygments_lexer": "ipython3",
   "version": "3.9.13"
  }
 },
 "nbformat": 4,
 "nbformat_minor": 2
}
