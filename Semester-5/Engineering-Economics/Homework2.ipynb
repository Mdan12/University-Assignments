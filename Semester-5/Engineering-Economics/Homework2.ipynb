{
 "cells": [
  {
   "cell_type": "markdown",
   "metadata": {},
   "source": [
    "1. Verkefni eitt er til þriggja ára og eru tekjur metnar 50 fyrsta árið og 90 annað árið og 20 þriðja árið. Kostnaður á öðru ári er 40. Stofnkostnaður er 10. Er fjárfestingin arðbær m.v. 7% ávöxtunarkröfu?  Rökstyðjið svarið.\n",
    "\n",
    "$$ NPV = -C_0+\\frac{A_1}{(1+i)^1}+\\frac{A_2}{(1+i)^2}+\\frac{A_3}{(1+i)^3}$$"
   ]
  },
  {
   "cell_type": "code",
   "execution_count": 4,
   "metadata": {},
   "outputs": [
    {
     "name": "stdout",
     "output_type": "stream",
     "text": [
      "96.73\n"
     ]
    }
   ],
   "source": [
    "C0 = 10     # Stofnkostnaður\n",
    "A1 = 50     # Tekjur\n",
    "A2 = 90-40  # Tekjur\n",
    "A3 = 20     # Tekjur\n",
    "i = 7/100   # Vextir\n",
    "\n",
    "print(f\"{-C0+(A1/(1+i)**1)+(A2/(1+i)**2)+(A3/(1+i)**3):.2f}\")"
   ]
  },
  {
   "cell_type": "markdown",
   "metadata": {},
   "source": [
    "2. Skuldabréf ber 12% vexti sem eru reiknaðir 18 sinnum á ári. Hverjir eru virkir (e. effective) vextir skuldabréfsins?\n",
    "\n",
    "$$ \\text{Virkir Vextir} = (1 + \\frac{i}{N})^N - 1 $$"
   ]
  },
  {
   "cell_type": "code",
   "execution_count": 9,
   "metadata": {},
   "outputs": [
    {
     "name": "stdout",
     "output_type": "stream",
     "text": [
      "12.7%\n"
     ]
    }
   ],
   "source": [
    "N = 18      # Tími\n",
    "i = 12/100  # Vextir\n",
    "\n",
    "print(f\"{(((1+(i/N))**N)-1)*100:.1f}%\")"
   ]
  },
  {
   "cell_type": "markdown",
   "metadata": {},
   "source": [
    "3. Lán eitt er vaxtagreiðslulán, með vaxtaprósentu 15% og árlegar greiðslur. Gjalddagi láns er eftir 5 ár og upphaflegur höfuðstóll er 100. Hvað er greitt mikið í afborgun höfuðstóls á ári 2?"
   ]
  },
  {
   "cell_type": "markdown",
   "metadata": {},
   "source": [
    "Þar sem vaxtagreiðslulán eru með 0 í afborgun þar til á síðasta ári þá endar afborgun í 0 á ári 2."
   ]
  },
  {
   "cell_type": "markdown",
   "metadata": {},
   "source": [
    "4. Greiðsluflæði gefur 100 eftir tvö ár og 200 eftir 3,5 ár. Hvað er framtíðarvirði greiðsluflæðis á ári 1 er m.v. 10% ávöxtunarkröfu?\n",
    "\n",
    "$$ P = \\frac{F}{(1+i)^N}$$"
   ]
  },
  {
   "cell_type": "code",
   "execution_count": 17,
   "metadata": {},
   "outputs": [
    {
     "name": "stdout",
     "output_type": "stream",
     "text": [
      "Heildarframtíðarvirði greiðsluflæðisins á ári 1 er 241.2 kr.\n"
     ]
    }
   ],
   "source": [
    "i = 0.10  # Ávöxtunarkrafa (10%)\n",
    "p1 = 100  # Greiðsla eftir 2 ár\n",
    "p2 = 200  # Greiðsla eftir 3,5 (4) ár\n",
    "\n",
    "F = p1 / (1 + i) + p2 / (1 + i)**3\n",
    "print(f\"Heildarframtíðarvirði greiðsluflæðisins á ári 1 er {F:.1f} kr.\")\n"
   ]
  },
  {
   "cell_type": "markdown",
   "metadata": {},
   "source": [
    "5. Á markaði er bréf með jöfnum afborgunum til 4 ára og með árlegum greiðslum. Árlegir nafnvextir eru 10% og höfuðstóllinn er 100.000. Hversu mikið er greitt í vexti af þessu bréfi yfir þetta 4 ára tímabil?"
   ]
  },
  {
   "cell_type": "code",
   "execution_count": 22,
   "metadata": {},
   "outputs": [
    {
     "name": "stdout",
     "output_type": "stream",
     "text": [
      "25000\n"
     ]
    }
   ],
   "source": [
    "P = 100_000 # Höfuðstóll 100.000 kr.\n",
    "n = 4       # Heildarfjöldi ára\n",
    "i = 0.10    # Nafnvextir\n",
    "\n",
    "sum = 0\n",
    "\n",
    "sum += P*i\n",
    "for j in range(1,n+1):\n",
    "    sum+= (P-j*(P/n))*i\n",
    "print(int(sum))"
   ]
  },
  {
   "cell_type": "markdown",
   "metadata": {},
   "source": [
    "6.  Óverðtryggt jafngreiðslulán með 6,15% ársvöxtum, höfuðstól 35 milljón krónur til 40 ára og mánaðarlegum greiðslum. Hver er þriðja greiðsla lánsins?\n",
    "\n",
    "$$ A = \\frac{rp(1+r)^n}{(1+r)^n-1}$$"
   ]
  },
  {
   "cell_type": "code",
   "execution_count": 28,
   "metadata": {},
   "outputs": [
    {
     "name": "stdout",
     "output_type": "stream",
     "text": [
      "196247.0170077521\n"
     ]
    }
   ],
   "source": [
    "P = 35_000_000  # Höfuðstóll 35 milljónir kr.\n",
    "i = 0.0615  # Ársvextir 6,15%\n",
    "n = 40 * 12  # Heildarfjöldi mánaða (40 ár)\n",
    "r = i / 12  # Mánaðarlegir vextir\n",
    "\n",
    "monthly_payment = P * (r * (1 + r) ** n) / ((1 + r) ** n - 1)\n",
    "\n",
    "\n",
    "print(f\"Þriðja greiðslan er: {monthly_payment:.2f} kr.\")\n"
   ]
  }
 ],
 "metadata": {
  "kernelspec": {
   "display_name": "base",
   "language": "python",
   "name": "python3"
  },
  "language_info": {
   "codemirror_mode": {
    "name": "ipython",
    "version": 3
   },
   "file_extension": ".py",
   "mimetype": "text/x-python",
   "name": "python",
   "nbconvert_exporter": "python",
   "pygments_lexer": "ipython3",
   "version": "3.9.13"
  }
 },
 "nbformat": 4,
 "nbformat_minor": 2
}
