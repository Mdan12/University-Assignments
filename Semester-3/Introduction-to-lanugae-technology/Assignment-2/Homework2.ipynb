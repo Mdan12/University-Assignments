{
 "cells": [
  {
   "cell_type": "code",
   "execution_count": 36,
   "metadata": {},
   "outputs": [
    {
     "name": "stderr",
     "output_type": "stream",
     "text": [
      "[nltk_data] Downloading package stopwords to\n",
      "[nltk_data]     /Users/magnusde93/nltk_data...\n",
      "[nltk_data]   Package stopwords is already up-to-date!\n",
      "[nltk_data] Downloading package punkt to\n",
      "[nltk_data]     /Users/magnusde93/nltk_data...\n",
      "[nltk_data]   Package punkt is already up-to-date!\n",
      "[nltk_data] Downloading package averaged_perceptron_tagger to\n",
      "[nltk_data]     /Users/magnusde93/nltk_data...\n",
      "[nltk_data]   Package averaged_perceptron_tagger is already up-to-\n",
      "[nltk_data]       date!\n",
      "[nltk_data] Downloading package wordnet to\n",
      "[nltk_data]     /Users/magnusde93/nltk_data...\n",
      "[nltk_data]   Package wordnet is already up-to-date!\n",
      "[nltk_data] Downloading package omw-1.4 to\n",
      "[nltk_data]     /Users/magnusde93/nltk_data...\n",
      "[nltk_data]   Package omw-1.4 is already up-to-date!\n"
     ]
    },
    {
     "data": {
      "text/plain": [
       "True"
      ]
     },
     "execution_count": 36,
     "metadata": {},
     "output_type": "execute_result"
    }
   ],
   "source": [
    "from nltk.stem import WordNetLemmatizer\n",
    "import nltk\n",
    "from collections import Counter, defaultdict\n",
    "from nltk.corpus import stopwords\n",
    "from nltk import RegexpParser, pos_tag\n",
    "from nltk.tokenize import word_tokenize, sent_tokenize\n",
    " \n",
    "nltk.download('stopwords')\n",
    "nltk.download(\"punkt\")\n",
    "nltk.download('averaged_perceptron_tagger')\n",
    "nltk.download('wordnet')\n",
    "nltk.download('omw-1.4')"
   ]
  },
  {
   "cell_type": "code",
   "execution_count": 4,
   "metadata": {},
   "outputs": [
    {
     "name": "stdout",
     "output_type": "stream",
     "text": [
      "10 of the most common lemmatized tokens are [(',', 15084), ('a', 6353), ('.', 4605), ('az', 2719), ('hogy', 1867), ('nem', 1777), ('és', 1698), ('–', 1491), ('is', 1310), ('volt', 923)]\n"
     ]
    }
   ],
   "source": [
    "lemmatizer = WordNetLemmatizer()\n",
    "\n",
    "with open(\"abigel.txt\", \"r\") as file:\n",
    "    text = file.read()\n",
    "    \n",
    "tokenized_words = word_tokenize(text)\n",
    "lemmatized_words = []\n",
    "\n",
    "for i in tokenized_words:\n",
    "    lemmatized_words.append(lemmatizer.lemmatize(i))\n",
    "    \n",
    "print(\"10 of the most common lemmatized tokens are\", Counter(lemmatized_words).most_common(10))"
   ]
  },
  {
   "cell_type": "markdown",
   "metadata": {},
   "source": [
    "10 of the most common tokens are [(',', 15085), ('a', 6355), ('.', 4731), ('az', 2719), ('hogy', 1867), ('nem', 1777), ('és', 1698), ('is', 1313), ('volt', 925), ('meg', 707)] from assignment 1.\n",
    "\n",
    "This just shows that my regex was not as bad as I thought, or that my text didn't have anything complicated in it. The \"-\" is not a part of my tokens which is something I forgot to accomodate for."
   ]
  },
  {
   "cell_type": "code",
   "execution_count": 25,
   "metadata": {},
   "outputs": [
    {
     "name": "stdout",
     "output_type": "stream",
     "text": [
      "10 of the most common tokens are [(',', 15084), ('a', 6353), ('.', 4605), ('az', 2719), ('hogy', 1867), ('nem', 1777), ('és', 1698), ('–', 1491), ('is', 1310), ('volt', 923)]\n",
      "10 of the most common tokens are [(',', 15084), ('a', 6353), ('.', 4605), ('az', 2719), ('hogy', 1867), ('nem', 1777), ('és', 1698), ('–', 1491), ('is', 1310), ('volt', 923)]\n"
     ]
    }
   ],
   "source": [
    "with open(\"abigel.txt\", \"r\") as file:\n",
    "    text = file.read()\n",
    "\n",
    "tokenized_words = word_tokenize(text)\n",
    "tokens_lower = [token.lower() for token in tokenized_words]\n",
    "stop_words = set(stopwords.words('hungarian'))\n",
    "\n",
    "filtered_words = []\n",
    "\n",
    "for w in tokens_lower:\n",
    "    if w not in stop_words:\n",
    "        filtered_words.append(w)\n",
    "\n",
    "\n",
    "print(\"10 of the most common tokens are\", Counter(tokenized_words).most_common(10))\n",
    "print(\"10 of the most common tokens are\", Counter(lemmatized_words).most_common(10))"
   ]
  },
  {
   "cell_type": "markdown",
   "metadata": {},
   "source": [
    "The tokens without the stop words consist mainly of punctuation marks. There are a few words in there, is (as well), ha (if), gina and zsuzsanna (both names).\n",
    "When we remove the stop words from the text we can focus on the important words."
   ]
  },
  {
   "cell_type": "markdown",
   "metadata": {},
   "source": [
    "### The utility of leematization.\n",
    "Normalizing text by reducing words to their standard form.\n",
    "\n",
    "Reducing the vocabulary size.\n",
    "\n",
    "NLP tasks are more accurate.\n",
    "\n",
    "### Lemmas are more useful.\n",
    "When the meaning of words are essential in a task.\n",
    "\n",
    "When using a search engine.\n",
    "\n",
    "For topic modeling or document clustering.\n",
    "\n",
    "### Lemmas are not more useful.\n",
    "When we have names of people, places\n",
    "\n",
    "When reducing words to their stems is more appropriate.\n",
    "\n",
    "When we have languages with complex morphology"
   ]
  },
  {
   "cell_type": "code",
   "execution_count": 32,
   "metadata": {},
   "outputs": [],
   "source": [
    "from nltk.tokenize import word_tokenize, sent_tokenize\n",
    "from nltk import pos_tag\n",
    "\n",
    "with open('of-mice-and-men.txt', 'r') as file:\n",
    "    text = file.read()\n",
    "    \n",
    "\n",
    "sentences = sent_tokenize(text)\n",
    "\n",
    "tagged_sentences = []\n",
    "for sentence in sentences:\n",
    "    words = word_tokenize(sentence)\n",
    "    tags = pos_tag(words, lang='eng') \n",
    "    tagged_sentences.append(tags)"
   ]
  },
  {
   "cell_type": "code",
   "execution_count": 34,
   "metadata": {},
   "outputs": [],
   "source": [
    "from nltk.chunk import RegexpParser\n",
    "\n",
    "def extract_noun_phrases(tagged_sentence):\n",
    "    grammar = r'NP: {<DT>?<JJ>*<NN.*>+}' \n",
    "    chunk_parser = RegexpParser(grammar)\n",
    "    tree = chunk_parser.parse(tagged_sentence)\n",
    "    noun_phrases = []\n",
    "    for subtree in tree.subtrees(filter=lambda t: t.label() == 'NP'):\n",
    "        noun_phrases.append(' '.join(word for word, tag in subtree.leaves()))\n",
    "    return noun_phrases\n",
    "\n",
    "def extract_verb_phrases(tagged_sentence):\n",
    "    grammar = r'VP: {<VB.*><NP|PP>*}'\n",
    "    chunk_parser = RegexpParser(grammar)\n",
    "    tree = chunk_parser.parse(tagged_sentence)\n",
    "    verb_phrases = []\n",
    "    for subtree in tree.subtrees(filter=lambda t: t.label() == 'VP'):\n",
    "        verb_phrases.append(' '.join(word for word, tag in subtree.leaves()))\n",
    "    return verb_phrases"
   ]
  },
  {
   "cell_type": "code",
   "execution_count": 35,
   "metadata": {},
   "outputs": [
    {
     "name": "stdout",
     "output_type": "stream",
     "text": [
      "Top 10 Noun Phrases: [('George', 422), ('Lennie', 336), ('Slim', 115), ('Curley', 109), ('Candy', 85), ('’ t', 67), ('nothing', 67), ('Crooks', 63), ('face', 40), ('hand', 40)]\n",
      "Top 10 Verb Phrases: [('said', 391), ('was', 312), ('do', 199), ('got', 197), ('ai', 151), ('get', 138), (\"'s\", 126), ('’', 121), ('looked', 93), ('go', 89)]\n"
     ]
    }
   ],
   "source": [
    "all_noun_phrases = []\n",
    "all_verb_phrases = []\n",
    "\n",
    "for tagged_sentence in tagged_sentences:\n",
    "    noun_phrases = extract_noun_phrases(tagged_sentence)\n",
    "    verb_phrases = extract_verb_phrases(tagged_sentence)\n",
    "    all_noun_phrases.extend(noun_phrases)\n",
    "    all_verb_phrases.extend(verb_phrases)\n",
    "\n",
    "noun_phrase_counts = Counter(all_noun_phrases)\n",
    "verb_phrase_counts = Counter(all_verb_phrases)\n",
    "\n",
    "top_noun_phrases = noun_phrase_counts.most_common(10)\n",
    "top_verb_phrases = verb_phrase_counts.most_common(10)\n",
    "\n",
    "print(\"Top 10 Noun Phrases:\", top_noun_phrases)\n",
    "print(\"Top 10 Verb Phrases:\", top_verb_phrases)\n"
   ]
  },
  {
   "cell_type": "code",
   "execution_count": 47,
   "metadata": {},
   "outputs": [
    {
     "name": "stdout",
     "output_type": "stream",
     "text": [
      "[[('I', 'PRP'), ('saw', 'VBD'), ('the', 'DT'), ('man', 'NN'), ('with', 'IN'), ('the', 'DT'), ('telescope', 'NN'), ('.', '.')]]\n"
     ]
    }
   ],
   "source": [
    "text1 = \"I saw the man with the telescope.\"\n",
    "\n",
    "sentences = sent_tokenize(text1)\n",
    "\n",
    "tagged_sentences = []\n",
    "for sentence in sentences:\n",
    "    words = word_tokenize(sentence)\n",
    "    tags = pos_tag(words, lang='eng') \n",
    "    tagged_sentences.append(tags)\n",
    "\n",
    "print(tagged_sentences)"
   ]
  },
  {
   "cell_type": "markdown",
   "metadata": {},
   "source": [
    "This could lead to two possible outcomes.\n",
    "\n",
    "\"I saw the man with the telescope\" (where \"telescope\" is the direct object)\n",
    "\n",
    "\"I saw the man who had the telescope\" (where \"with the telescope\" is a prepositional phrase modifying \"man\")"
   ]
  },
  {
   "cell_type": "code",
   "execution_count": 58,
   "metadata": {},
   "outputs": [],
   "source": [
    "lemmatizer = WordNetLemmatizer()\n",
    "stop_words = set(stopwords.words('english'))\n",
    "\n",
    "def split_text_into_paragraphs(text):\n",
    "    # Split the text into sentences\n",
    "    sentences = sent_tokenize(text)\n",
    "    \n",
    "    # Initialize a list to store the paragraphs\n",
    "    paragraphs = []\n",
    "    \n",
    "    # Initialize a variable to store the current paragraph\n",
    "    current_paragraph = \"\"\n",
    "    \n",
    "    for sentence in sentences:\n",
    "        # Add the current sentence to the current paragraph\n",
    "        current_paragraph += sentence + \" \"\n",
    "        \n",
    "        # Check if the current sentence ends a paragraph\n",
    "        if sentence.endswith(\".\"):\n",
    "            # Add the current paragraph to the list and reset the current paragraph\n",
    "            paragraphs.append(current_paragraph)\n",
    "            current_paragraph = \"\"\n",
    "    \n",
    "    return paragraphs\n",
    "\n",
    "# Read the large text file\n",
    "with open('of-mice-and-men.txt', 'r', encoding='utf-8') as file:\n",
    "    corpus_text = file.read()\n",
    "\n",
    "# Preprocess the text to create the corpus\n",
    "corpus = split_text_into_paragraphs(corpus_text)"
   ]
  },
  {
   "cell_type": "code",
   "execution_count": 59,
   "metadata": {},
   "outputs": [],
   "source": [
    "lemmatizer = WordNetLemmatizer()\n",
    "stop_words = set(stopwords.words('english'))\n",
    "\n",
    "index = defaultdict(list)\n",
    "\n",
    "for idx, paragraph in enumerate(corpus):\n",
    "    \n",
    "    words = word_tokenize(paragraph.lower())\n",
    "    words = [lemmatizer.lemmatize(word) for word in words if word.isalnum() and word not in stop_words]\n",
    "    \n",
    "    for word in words:\n",
    "        index[word].append(idx)"
   ]
  },
  {
   "cell_type": "code",
   "execution_count": 63,
   "metadata": {},
   "outputs": [
    {
     "name": "stdout",
     "output_type": "stream",
     "text": [
      "['\"You drink some, George. ', 'George unslung his bindle and dropped it gently on the bank. ', '\"Look, George. ', 'Look what I done.\" George knelt beside the pool and drank from his hand with quick\\nscoops. ', 'Lennie, who had\\nbeen watching, imitated George exactly. ', 'He pushed himself back,\\ndrew up his knees, embraced them, looked over to George to see\\nwhether he had it just right. ', 'He pulled his hat down a little more\\nover his eyes, the way George’s hat was. ', 'George stared morosely at the water. ', '\"George?\" \"Yeah, what ya want?\" \"Where we goin’, George?\" The little man jerked down the brim of his hat and scowled over\\nat Lennie. ', 'Honest to God I\\ndid, George.\" \"O.K.- O.K. ', 'I\\nremember about the rabbits, George.\" \"The hell with the rabbits. ', '\"Why sure, George. ', 'You remember about us goin’ into\\nMurray and Ready’s, and they give us work cards and bus\\ntickets?\" \"Oh, sure, George. ', 'He said gently, \"George.... ', 'George looked sharply at him. ', 'What you got in your\\nhand - hidin’ it?\" \"I ain’t got nothin’, George, Honest.\" \"Come on, give it here.\" Lennie held his closed hand away from George\\'s direction. ', '\"It’s\\nonly a mouse, George.\" \"A mouse? A live mouse?\" \"Uh-uh. ', 'Jus’ a dead mouse, George. ', 'I found it dead.\" \"Give it here!\" said George. ', '\"Aw, leave me have it, George.\" \"Give it\\nhere!\" Lennie’s closed hand slowly obeyed. ', 'George took the mouse and\\nthrew it across the pool to the other side, among the brush. ', '\"I forgot again.\" \"Jesus Christ,\" George said resignedly. ', 'Ya got that?\" \"Sure, George. ', 'I ain’t gonna say nothin’.\" \"O.K.,\" said George. ', '\"Run us out, hell,\" said George disgustedly. ', '\"I didn’t forget that, you bet.\" George lay back on the sand and crossed his hands under his\\nhead, and Lennie imitated him, raising his head to see whether he\\nwere doing it right. ', '\"God, you’re a lot of trouble,\" said George. ', 'I\\ncould live so easy and maybe have a girl.\" For a moment Lennie lay quiet, and then he said hopefully, \"We\\ngonna work on a ranch, George.\" \"Awright. ', '\"George - why ain’t we goin’ on to the ranch and get some supper? They got supper at the ranch.\" George rolled on his side. ', 'I like it.\" Lennie got up on his knees and looked down at George. ', 'George\\nlay where he was and whistled softly to himself. ', 'George stopped whistling and listened, \"Poor bastard,\" he\\nsaid softly, and then went on whistling again. ', 'George sat up. ', '\"What\\nmouse, George? I ain’t got no mouse.\" George held out his hand. ', 'George said\\ncoldly, \"You gonna give me that mouse or do I have to sock you?\" \"Give you what, George?\" \"You know God damn well what. ', 'I found it lyin’ right beside the road.\" George’s hand remained outstretched imperiously. ', 'George snapped his\\nfingers sharply, and at the sound Lennie laid the mouse in his\\nhand. ', '\"I wasn’t doin’ nothing bad with it, George. ', 'Jus’ strokin’ it.\" George stood up and threw the mouse as far as he could into the\\ndarkening brush, and then he stepped to the pool and washed his\\nhands. ', '\"Aw, Lennie!\" George put his hand on Lennie’s\\nshoulder. ', 'But that lady ain’t here.\" George scoffed. ', '\"I wish’t we’d get the rabbits pretty soon, George. ', 'Over-head the leaves\\nwhisked again and little puffs of willow cotton blew down and\\nlanded on the pool’s surface,\\n\"You gonna get that wood?\" George demanded. ', 'George walked to the fire pile and\\nlighted the dry leaves. ', 'George undid his bindle and brought out three cans of\\nbeans. ', '\"There’s enough beans for four men,\" George said. ', 'He said patiently, \"I like\\n’em with ketchup.\" \"Well, we ain’t got any,\" George exploded. ', 'Get a gallon of whisky, or set in a pool room\\nand play cards or shoot pool.\" Lennie knelt and looked over the\\nfire at the angry George. ', '\"An’ whatta I got,\" George went on furiously. ', 'Lennie crawled slowly and\\ncautiously around the fire until he was close to George. ', 'George turned the bean cans so that another\\nside faced the fire. ', '\"George,\" very softly. ', '\"George!\" \"Whatta you want?\" \"I was only foolin’, George. ', 'I wouldn’t eat\\nno ketchup if it was right here beside me.\" \"If it was here, you could have some.\" \"But I wouldn’t eat none, George. ', 'You could\\ncover your beans with it and I wouldn’t touch none of it.\" George still stared morosely at the fire. ', 'He looked off into the darkness across the\\nriver, \"George, you want I should go away and leave you alone?\" \"Where the hell could you go?\" \"Well, I could. ', 'You ain’t got sense enough to find nothing\\nto eat.\" \"I’d find things, George. ', 'Nobody’d take it away from me.\" George looked quickly and searchingly at him. ', 'An’ I\\nwon’t get no mice stole from me.\" George said, \"I want you to stay with me, Lennie. ', 'Your Aunt Clara wouldn’t like you running off by\\nyourself, even if she is dead.\" Lennie spoke craftily, \"Tell me - like you done before.\" \"Tell you what?\" \"About the rabbits.\" George snapped, \"You ain’t gonna put nothing over on me.\" Lennie pleads \"Come on, George. ', 'Please, George. ', 'Like\\nyou done before.\" \"You get a kick outta that, don’t you? Awright, I’ll tell you, and\\nthen we’ll eat our supper....\"\\nGeorge’s voice became deeper. ', 'Now tell how it is with\\nus.\" George went on. ', '\"Go on now, George!\" \"You got it by heart. ', 'Go on, George! Tell about what we’re gonna have in the garden\\nand about the rabbits in the cages and about the rain in the\\nwinter and the stove, and how thick the cream is an the milk like\\nyou can hardly cut it. ', 'Tell about that, George.\" \"Why’n’t you do it yourself? You know all of it.\" \"No.... you tell it. ', 'Go on.... George. ', 'How I get to tend the rabbits.\" \"Well,\" said George, \"we’ll have a big vegetable patch and a rabbit\\nhutch and chickens. ', 'George gestured with his spoon. ', 'George motioned with his spoon again. ', 'Can you remember that?\" \"Sure I can, George. ', '\"I won’t get in no trouble, George. ', 'From the darkness Lennie called, \"George - you\\nasleep?\" \"No. ', 'Whatta you want?\" \"Let’s have different color rabbits, George.\" \"Sure we will,\" George said sleepily. ', 'Millions of ’em.\" \"Furry ones, George, like I seen in the fair in Sacramento.\" \"Sure, furry ones.\" \"’Cause I can jus’ as well go away, George, an’, live in a cave.\" \"You can jus’ as well go to hell,\" said George. ', 'Behind him came\\nGeorge, and behind George, Lennie. ', 'George stepped over and threw his blankets do on the burlap sack\\nof straw that was a mattress. ', 'Used to wash his hands even\\nafter he ate.\" \"Then how come he got graybacks?\" George working up a slow\\nanger. ', 'He watched George with open mouth. ', 'Used ta dress up Sundays even when he wasn’t going no place, put\\non a necktie even, and then set in the bunk house.\" \"I ain’t so sure,\" said George skeptically. ', 'Just says ‘gimme my\\ntime’ one night, the way any guy would.\" George lifted his tick and looked underneath it, He leaned over\\nand inspected the sacking closely. ', 'Finally George seemed satisfied. ', 'Come right in when\\nwe was eatin’ breakfast and says, ‘Where the hell’s them new\\nmen?’ An’ he give the stable buck hell, too.\" George patted a wrinkle out of his bed, and sat \\' down. ', 'Got books in his\\nroom.\" \"What kind of a guy is the boss?\" George asked. ', 'You got your work slips?\" George reached into his pocket\\nand produced the slips and handed them to the boss. ', 'Says right here on the slip that you\\nwas to be here for work this morning.\" George looked down at his feet. ', 'George scowled\\nmeaningfully at Lennie, and Lennie nodded to show that he\\nunderstood. ', '\"What’s your name?\" \"George Milton.\" \"And what’s yours?\" George said, \"His name’s Lennie Small.\" The names were entered in the book. ', '\"Where you\\nboys been working?\" \"Up around Weed,\" said George. ', '\"Yeah, him too,\" said George. ', 'George\\nscowled at him, and Lennie dropped his head in shame at having\\nforgotten. ', 'What can you do?\" In a panic, Lennie looked at George for help. ', '\"He can do anything\\nyou.tell him,\" said George. ', 'Just give him a\\ntry.\" The boss turned on George. ', '\"Then why don’t you let him answer? What are you trying to put over?\" George broke in loudly, \"Oh! I ain’t saying he’s bright. ', 'I just like to know what your interest is.\" George said, \"He’s my.... cousin. ', 'Why’d you quit in Weed?\" \"Job was done,\" said George promptly. ', 'When the sound of his footsteps had died away George turned on\\nLennie. ', '\"I forgot George.\" \"Yeah, you forgot. ', '\"George.\" \"What you want now?\" \"I wasn’t kicked in the head with no horse, was I, George?\" \"Be a damn good thing if you was,\" George said viciously. ', '\"Save\\never’body a hell of a lot of trouble.\" \"You said I was your cousin, George.\" \"Well, that was a lie. ', 'I jus’ now finished\\nswampin\\' out the wash house.\" \"You was pokin’ your big ears into our business,\" George said. ', '\"I\\ndon’t like nobody to get nosey.\" The old man looked uneasily from George to Lennie, and then\\nback \"I jus’ come there,\" he said. ', 'A guy on a\\nranch don’t never listen nor he don’t ast no questions.\" \"Damn right he don’t,\" said George, slightly mollified, \"not if he\\nwants to stay. ', 'He glanced coldly at George and then at\\nLennie. ', '\"You the new guys the old man was waitin\\'\\nfor?\" \"We just come in,\" said George. ', 'George said, \"S’pose he don\\'t want to talk?\" Curley lashed his body around. ', 'What the hell are you gettin’ into it for?\" \"We travel together,\" said George coldly. ', '\"Oh, so it’s that way.\" George was tense, and motionless. ', '\"Yeah, it’s that way.\" Lennie was looking helplessly to George for instruction. ', 'George watched him out, and then he turned back to the\\nswamper. ', 'He’s a lightweight,\\nand he’s handy.\" \"Well, let him be handy,\" said George, \"He don’t have to take after\\nLennie. ', 'You seen little guys like that, ain’t you? Always scrappy?\" \"Sure,\" said George. ', 'Seems like Curley\\nain’t givin’ nobody a chance.\" George was watching the door. ', 'Won’t\\never get canned ’cause his old man’s the boss.\" George cut the cards and began turning them over, looking at\\neach one and throwing it down on a pile. ', 'Seems like CurIey is cockier’n ever since he got married.\" George grunted, \"Maybe he’s showin’ off for his wife.\" The swamper warmed to his gossip. ', 'I seen it.\" \"Well, that glove’s fulla vaseline.\" \"Vaseline? What the hell for?\" \"Well, I tell ya what - Curley says he’s keepin’ that hand soft for\\nhis wife.\" George studied the cards absorbedly. ', 'He had drawn a derogatory\\nstatement from George. ', '\"Wait\\'ll you see Curley\\'s wife.\" George cut the cards again and put out a solitaire lay, slowly and\\ndeliberately. ', 'Purty . . . . but-\"\\nGeorge studied his cards. ', 'An\\' I seen\\nher give Carlson the eye.\" George pretended a lack of interest. ', '\"Know what I think?\" George\\ndid not answer. ', '\"Well, I think Curley\\'s married . . . . a tart.\" \"He ain\\'t the first,\" said George. ', 'George laid down his cards thoughtfully, turned his piles of three. ', '\"Stable Buck--ooh,\\nsta-able Buck!\" And then, \" Where the hell is that God damn\\nnigger?\" George stared at his solitaire lay, and then he flounced the cards\\ntogether and turned around to Lennie. ', '\"Don\\'t let him sock me, George.\" George got up and went over to Lennie\\'s bunk and sat down on it. ', 'Will you\\nremember?\" \"Sure, George. ', 'George,\\nsitting on the bunk beside Lennie, frowned as he thought Lennie\\nasked timidly, \"You ain\\'t mad, George?\" \"I ain\\'t mad at you. ', '\"You keep away from Curley,\\nLennie.\" \"Sure I will, George. ', 'I won\\'t say a word.\" \"Don\\'t let him pull you in-but-if the son-of-abitch socks you-let \\'im\\nhave it.\" \"Let \\'im have what, George?\" \"Never mind, never mind. ', \"Then his eyes moved sadly to George's face. \", 'Oh! Sta-able\\nBuck.\" George said, \"Say it over to yourself, Lennie, so you won\\'t forget\\nit.\" Both men glanced up, for the rectangle of sunshine in the\\ndoorway was cut off. ', 'George looked away from her and then back. ', 'George said brusquely, \"Well he ain\\'t now.\" \"If he ain\\'t, I guess I better look some place else,\" she said\\nplayfully. ', 'George said, \"If I see him, I\\'ll\\npass the word you was looking for him. ', 'George looked around at Lennie. ', 'George looked quickly down at\\nhim and then he took him by an ear and shook him. ', '\"I never done nothing, George.\" \"No, you never. ', 'But when she was standin\\' in the doorway\\nshowin\\' her legs, you wasn\\'t lookin\\' the other way, neither.\" \"I never meant no harm, George. ', 'Glove fulla vaseline,\" George said disgustedly. ', '\"An\\' I bet he\\'s eatin\\'\\nraw eggs and writin\\' to the patent medicine houses.\" Lennie cried out suddenly-\"I don\\' like this place, George. ', '\"Le\\'s go, George. ', 'It\\'s mean here.\" \"We gotta stay,\" George said shortly. ', 'George studied the cards. ', 'You the new guys?\" \"Just come,\" said George. ', '\"Gonna buck barley?\" \"That\\'s what the boss says.\" Slim sat down on a box across the table from\\nGeorge. ', 'You guys ever bucked any barley?\" \"Hell, yes,\" said George. ', 'Slim looked\\napprovingly at George for having given the compliment. ', '\"Sure,\" said George. ', 'I\\'ve knew\\nhim for a long time.\" Slim looked through George and beyond him. ', 'Maybe\\never\\'body in the whole damn world is scared of each other.\" \"It\\'s a lot nicer to go around with a guy you know,\" said George. ', '\"Hi,\\nSlim,\" he said, and then stopped and stared at George and Lennie. ', '\"My name\\'s Carlson.\" \"I\\'m George Milton. ', 'He can\\'t chew nothing else.\" George had been staring intently at Slim. ', 'Lennie was watching George excitedly. ', 'George rumpled his cards\\ninto a messy pile. ', '\"Yeah!\" George said, \"I heard him, Lennie. ', '\"You ask him right away,\\nGeorge, so he won\\'t kill no more of em.\" \"Sure. ', 'George said coldly. ', '\"\\'Bout half an hour ago maybe.\" \"Well what the hell was she doin\\'?\" George stood still, watching the angry little man. ', 'He said\\ninsultingly, \"She said--she was lookin\\' for you.\" Curley seemed really to see George for the first time. ', 'His eyes\\nflashed over George, took in his height, measured his reach,\\nlooked at his trim middle. ', '\"I dunno,\" said George. ', 'George said, \"Ya know, Lennie, I\\'m scared I\\'m gonna tangle with\\nthat bastard myself. ', 'Slim and George came into the darkening bunk house together. ', 'Slim sat down on a box\\nand George took his place opposite. ', 'No need to thank me about that.\" George said, \"It wasn\\'t much to you, maybe, but it was a hell of a\\nlot to him. ', 'God awmighty I never seen such a strong\\nguy.\" George spoke proudly. ', '\"What\\'s funny about it?\" George demanded defensively. ', 'It jus\\' seems kinda funny a cuckoo like him\\nand a smart little guy like you travelin\\' together.\" \"He ain\\'t no cuckoo,\" said George. ', 'If I was bright, if I was even a little bit\\nsmart, I\\'d have my own little place, an\\' I\\'d be bringin\\' in my own\\ncrops, \\'stead of doin\\' all the work and not getting what comes up\\nouta the ground.\" George fell silent. ', '\"It ain\\'t so funny, him an\\' me goin\\' aroun\\' together,\" George said\\nat last. ', 'George looked over at Slim and saw the calm, Godlike eyes\\nfastened on him. ', '\"Funny,\" said George. ', 'I\\'ve\\nbeat the hell outa him, and he coulda bust every bone in my body\\njus\\' with his han\\'s, but he never lifted a finger against me.\" George\\'s voice was taking on the tone of confession. ', 'Take a real smart guy and he ain\\'t hardly ever a nice fella.\" George stacked the scattered cards and began to lay out his\\nsolitaire hand. ', '\"I ain\\'t got no people,\" George said. ', '\"They get so they don\\'t want\\nto talk to nobody.\" \"\\'Course Lennie\\'s a God damn nuisance most of the time,\" said\\nGeorge. ', '\"So\\nwhat happens?\" George carefully built his line of solitaire cards. ', '\"Hi, Lennie,\" said George. ', 'George put down his cards very deliberately. ', '\"Huh? What you want, George?\" \"I tol\\' you you couldn\\'t bring that pup in here.\" \"What pup, George? I ain\\'t got no pup.\" George went quickly to him, grabbed him by the shoulder and\\nrolled him over. ', '\"Give \\'um to me, George.\" George said, \"You get right up an\\' take this pup back to the nest. ', '\"Give \\'um to me, George. ', \"I didn't mean no harm, George. \", 'I jus\\' wanted to pet \\'um a little.\" George handed the pup to him. ', 'Hello, George. ', 'I herded sheep with him.\" He\\nsaid proudly, \"You wouldn\\'t think it to look at him now, but he\\nwas the best damn sheep dog I ever seen.\" George said, \"I seen a guy in Weed that had an Airedale could\\nherd sheep. ', '\"Got it right in the book.\" George held out his hand for the magazine. ', 'George followed to the door and shut the door and set the latch\\ngently in its place. ', 'George chuckled, \"I bet Lennie\\'s right out there in the barn with\\nhis pup. ', 'George said, \"Anybody like\\nto play a little euchre?\" \"I\\'ll play out a few with you,\" said Whit. ', 'They took places opposite each other at the table under the light,\\nbut George did not shuffle the cards. ', '\"We ought\\nto get a trap down there.\" Whit broke out, \"What the hell\\'s takin\\' him so long? Lay out some\\ncards, why don\\'t you? We ain\\'t going to get no euchre played this\\nway.\" George brought the cards together tightly and studied the backs\\nof them. ', 'George shuffled the cards noisily and dealt them. ', 'Whit said, \"I guess\\nyou guys really come here to work.\" \"How do ya mean?\" George asked. ', 'You got two days to\\nwork till Sunday.\" \"I don\\'t see how you figure,\" said George. ', 'George looked at him levelly. ', '\"I\\'ll come along with you now.\" George looked up. ', 'George dealt and Whit picked up his cards and examined them. ', '\"What kid?\" George asked. ', '\"Why, Curley\\'s new wife.\" \"Yeah, I seen her.\" \"Well, ain\\'t she a looloo?\" \"I ain\\'t seen that much of her,\" said George. ', 'I\\ndon\\'t know what the hell she wants.\" George asked casually, \"Been any trouble since she got here?\" It was obvious that Whit was not interested in his cards. ', 'He laid\\nhis hand down and George scooped it in. ', 'George laid out his\\ndeliberate solitaire handseven cards, and six on top, and five on\\ntop of those. ', 'An\\' Curley\\'s pants is\\njust crawlin\\' with ants, but they ain\\'t nothing come of it yet.\" George said, \"She\\'s gonna make a mess. ', 'Got\\nfive girls there.\" \"What\\'s it set you back?\" George asked. ', 'She ain\\'t rushin\\' guys through\\nand kickin\\' \\'em out if they don\\'t want a flop.\" \"Might go in and look the joint over,\" said George. ', '\\'If any you guys\\nwanta look at a kewpie doll lamp an\\' take your own chance gettin\\'\\nburned, why you know where to go.\\' An\\' she says, \\'There\\'s guys\\naround here walkin\\' bow-legged \\'cause they like to look at a\\nkewpie doll lamp.\"\\' George asked, \"Clara runs the other house, huh?\" \"Yeah,\" said Whit. ', 'Don\\'t let\\nno googoos in, neither.\" \"Me an\\' Lennie\\'s rollin\\' up a stake,\" said George. ', '\"Where the hell\\'s\\nSlim?\" \"Went out in the barn,\" said George. ', 'Nobody don\\'t know what Slim\\ncan do.\" \"Thinks Slim\\'s with his wife, don\\'t he?\" said George. ', 'Come on, le\\'s go.\" George said, \"I\\'m stayin\\' right here. ', 'Old Candy lay still, and Lennie, from his bunk,\\nwatched George cautiously. ', 'When Whit and Carlson were gone and the door closed after\\nthem, George turned to Lennie. ', '\"What you got on your mind?\" \"I ain\\'t done nothing, George. ', 'I been good, George.\" \"I coulda told you that,\" said George. ', 'I jus\\' had mine in my lap pettin\\'\\nit.\" George asked, \"Did you see Slim out in the barn?\" \"Sure I did. ', 'She ain\\'t been in the barn.\" \"O.K.,\" said George. ', 'He got up from his bunk and\\nsat down at the table, across from George. ', 'Almost automatically\\nGeorge shuffled the cards and laid out his solitaire hand. ', '\"George, why is it both end\\'s the same?\" \"I don\\'t know,\" said George. ', 'She never come.\" George sighed. ', 'George continued, \"You remember Andy Cushman,\\nLennie? Went to grammar school?\" \"The one that his old lady used to make hot cakes for the kids?\" Lennie asked. ', 'You can remember anything if there\\'s\\nanything to eat in it.\" George looked carefully at the solitaire\\nhand. ', '\"Andy\\'s in San Quentin right now on\\naccount of a tart,\" said George. ', '\"George?\" \"Huh?\" \"George, how long\\'s it gonna be till we get that little place an\\' live\\non the fatta the lan-an\\' rabbits?\" \"I don\\' know,\" said George. ', 'He\\nwatched George carefully. ', 'Lennie said, \"Tell about that place, George.\" \"I jus\\' tol\\' you, jus\\' las\\' night.\" \"Go on-tell again, George.\" \"Well, it\\'s ten acres,\" said George. ', 'They\\'s a pig pen-\\'\\n\"An\\' rabbits, George.\" \"No place for rabbits now, but I could easy build a few hutches\\nand you could feed alfalfa to the rabbits.\" \"Damn right, I could,\" said Lennie. ', '\"You God damn right I could.\" George\\'s hands stopped working with the cards. ', 'Lennie said softly, \"We could live offa the fatta the lan\\'.\" \"Sure,\" said George. ', 'No, sir, we\\'d have our own place where we belonged and not\\nsleep in no bunt house.\" \"Tell about the house, George,\" Lennie begged. ', 'Tell\\nhow I\\'d do that, George.\" \"Sure, you\\'d go out in the alfalfa patch an\\' you\\'d have a sack. ', 'I\\nseen\\'em.\" \"Ever\\' six weeks or so,\" George continued, \"them does would\\nthrow a litter so we\\'d have plenty rabbits to eat an\\' to sell. ', 'George sat entranced with his own picture. ', 'Candy said, \"You know\\nwhere\\'s a place like that?\" George was on guard immediately. ', 'Might be any place.\" \"Sure,\" said George. ', 'You couldn\\'t find it in a\\nhundred years.\" Candy went on excitedly, \"How much they want for a place like\\nthat?\" George watched him suspiciously. ', 'How\\'d that be?\" George half-closed his eyes. ', 'You guys got any money? Maybe we could do her right now?\" George spat on the floor disgustedly. ', 'George\\nsaid reverently, \"Jesus Christ! I bet we could swing her.\" His eyes\\nwere full of wonder. ', 'I\\'ll\\nhave thirty dollars more comin\\', time you guys is ready to quit.\" George stood up. ', 'George said wonderingly, \"S\\'pose they was a carnival or a circus\\ncome to town, or a ball game, or any damn thing.\" Old Candy\\nnodded in appreciation of the idea. ', '\"We\\'d just go to her,\" George\\nsaid. ', 'When we gon\\'ta do it, George?\" \"In one month. ', 'George said quickly,\\n\"Don\\'t tell nobody about it. ', 'Candy said, \"George.\" \"Huh?\" \"I ought to of shot that dog myself, George. ', 'I\\'ll show ya\\nwho\\'s yella.\" Lennie looked helplessly at George, and then he got up and tried\\nto retreat. ', '\"George,\"\\nhe cried. ', '\"Make \\'um let me alone, George.\" He backed until he was\\nagainst the wall, and Curley followed, slugging him in the face. ', 'George was on his feet yelling, \"Get him, Lennie. ', 'He cried, \"Make \\'um stop, George.\" Then Curley attacked\\nhis stomach and cut off his wind. ', '\"The dirty little rat,\" he cried, \"I\\'ll get \\'um\\nmyself.\" George put out his hand and grabbed Slim. ', 'He cupped his hands around his mouth and yelled, \"Get\\n\\'em, Lennie! \" Lennie took his hands away from his face and looked about for\\nGeorge, and Curley slashed at his eyes. ', 'George yelled again, \"I said get him.\" Curley\\'s fist was swinging when Lennie reached for it. ', 'George ran down the room. ', 'George slapped him in the face again and again, and still\\nLennie held on to the closed fist. ', 'George shouted over and over, \"Leggo his hand, Lennie. ', '\"You tol\\' me to, George,\" he said miserably. ', 'George said, \"Slim, will we get canned now? We need the stake. ', 'George broke in, \"Lennie was jus\\' scairt,\" he explained. ', '\"Right this morning when Curley first lit into your fren\\', you says,\\n\\'He better not fool with Lennie if he knows what\\'s good for \\'um.\\' That\\'s jus\\' what you says to me.\" George turned to Lennie. ', '\"George?\" \"What you want?\" \"I can still tend the rabbits, George?\" \"Sure. ', 'You ain\\'t done nothing wrong.\" \"I di\\'n\\'t mean no harm, George.\" \"Well, get the hell out and wash your face.\" CROOKS, the Negro stable buck, had his bunk in the harness\\nroom; a little shed that leaned off the wall of the barn. ', '\"Slim an\\' George an\\' ever\\'body. ', \"George says I gotta\\nstay here an' not get in no trouble. \", 'Ever\\' word\\'s the truth, an\\' you can\\nast George.\" Crooks put his dark chin into his pink palm. ', '\"You travel aroun\\'\\nwith George, don\\'t ya?\" \"Sure. ', \"George knows what he's about. \", '\"George can tell you screwy things, and it don\\'t matter. ', '\"S\\'pose George don\\'t come\\nback no more. ', '\"I said s\\'pose George went into town tonight and you never heard\\nof him no more.\" Crooks pressed forward some kind of private\\nvictory. ', '\"George wouldn\\'t do nothing like\\nthat. ', 'I been with George a long time. ', '\"George won\\'t do nothing like\\nthat,\" he repeated..\"George is careful. ', 'George ain\\'t\\ngot hurt.\" Crooks bored in on him. ', '\"Who hurt\\nGeorge?\" he demanded. ', '\"George ain\\'t hurt. ', '\"What you supposin\\' for? Ain\\'t nobody\\ngoin\\' to suppose no hurt to George.\" Crooks removed his glasses and wiped his eyes with his fingers. ', '\"George ain\\'t hurt.\" Lennie growled back to his seat on the nail keg. ', '\"Ain\\'t nobody\\ngoin\\' to talk no hurt to George,\" he grumbled. ', 'You got George. ', 'I tell ya,\" he cried, \"I tell ya a guy gets too lonely an\\' he\\ngets sick.\" \"George gonna come back,\" Lennie reassured himself in a\\nfrightened voice. ', '\"Maybe George come back already. ', 'Lennie said miserably, \"George won\\'t go away and leave me. ', 'I\\nknow George wun\\'t do that.\" The stable buck went on dreamily, \"I remember when I was a\\nlittle kid on my old man\\'s chicken ranch. ', '\"George says we\\'re gonna have alfalfa for the rabbits.\" \"What rabbits?\" \"We\\'re gonna have rabbits an\\' a berry patch.\" \"You\\'re nuts.\" \"We are too. ', 'You ast George.\" \"You\\'re nuts.\" Crooks was scornful. ', '\"George says I get to tend\\n\\'em. ', 'George says we are. ', '\"An\\' where\\'s George now? In town in a\\nwhore house. ', \"George ain't got the money in town. \", \"Me an' Lennie an' George. \", 'George got the land all picked out, too.\" Crooks reached around and explored his spine with his hand. ', \"I'm gonna tell George what you says. \", 'George\\nwon\\'t have you messin\\' with Lennie.\" \"Who\\'s George?\" she asked. ', '\"Nobody\\'d listen to us.\" Lennie whined, \"I wisht George was here. ', 'I wisht George was\\nhere.\" Candy stepped over to him. ', 'George\\'ll be in the bunk house right\\nnow, I bet.\" He turned to Curley\\'s wife. ', 'You in the barn?\" \"It\\'s George,\" Lennie cried. ', 'And he answered, \"Here, George. ', 'I\\'m\\nright in here.\" In a second George stood framed in the door, and he looked\\ndisapprovingly about. ', '\"Oh, George! I been figurin\\' and\\nfigurin\\'. ', 'I got it doped out how we can even make some money on\\nthem rabbits.\" George scowled. ', '\"Didn\\'t tell nobody but Crooks.\" George said, \"Well you guys get outta here. ', 'I didn\\'t bounce you hard.\" He\\nbent the pup\\'s head up and looked in its face, and he said to it,\\n\"Now maybe George ain\\'t gonna let me tend no rabbits, if he fin\\'s\\nout you got killed.\" He scooped a little hollow and laid the puppy in it and covered it\\nover with hay, out of sight; but he continued to stare at the mound\\nhe had made. ', 'I\\'ll tell George I foun\\' it dead.\" He unburied the puppy and inspected it, and he stroked it from\\nears to tail. ', 'George\\nalways knows. ', '\"Maybe George won\\'t care,\" he said. ', '\"This here God damn little son-of-a-bitch wasn\\'t nothing to\\nGeorge.\" Curley\\'s wife came around the end of the last stall. ', '\"George says I ain\\'t to have nothing to do\\nwith you-talk to you or nothing.\" She laughed \"George giving you orders about everything?\" Lennie looked down at the hay. ', 'George\\'s scared I\\'ll get in\\ntrouble.\" She changed the subject. ', '\"George ain\\'t\\ngonna let me tend no rabbits now.\" \"Why don\\'t he?\" \"Well, he said if I done any more bad things he ain\\'t gonna let me\\ntend the rabbits.\" She moved closer to him and she spoke soothingly. ', 'None of them ain\\'t gonna\\nleave till it\\'s over.\" \"If George sees me talkin\\' to you he\\'ll give me hell,\" Lennie said\\ncautiously. ', 'I\\nain\\'t doin\\' no harm to you.\" \"Well, George says you\\'ll get us in a mess.\" \"Aw, nuts!\" she said. ', 'Lennie said, \"Maybe if I took this pup out and throwed him away\\nGeorge wouldn\\'t never know: An\\' then I could tend the rabbits\\nwithout n\\ntrouble.\" Curley\\'s wife said angrily, \"Don\\'t you think of nothing but\\nrabbits?\" \"We gonna have a little place,\" Lennie explained patiently. ', '\"George says I ain\\'t. ', 'George\\'ll be\\nmad.\" She struggled violently under his hands. ', '\"George gonna say I done\\na bad thing. ', \"You gonna\\nget me in trouble jus' like George says you will. \", '\"I don\\'t want to hurt you,\" he\\nsaid, \"but George\\'ll be mad if you yell.\" When she didn\\'t answer\\nnor move he bent closely over her. ', \"George'll be mad. \", 'In a moment Candy came back, and\\nGeorge was with him. ', 'George said, \"What was it you wanted to see me about?\" Candy pointed at Curley\\'s wife. ', 'George stared. ', 'Candy said, \"What done it?\" George looked coldly at him. ', '\"I should of knew,\" George said hopelessly. ', '\"I guess maybe way back in my head I did.\" Candy asked, \"What we gonna do now, George? What we gonna\\ndo now?\" George was a long time in answering. ', 'Curley\\'ll\\nget \\'im killed.\" George watched Candy\\'s lips. ', '\"You an\\' me can get that little\\nplace, can\\'t we, George? You an\\' me can go there an\\' live nice, can\\'t\\nwe, George? Can\\'t we?\" Before George answered, Candy dropped his head and looked\\ndown at the hay. ', 'George said softly, \"-I think I knowed from the very first I think I\\nknowed we\\'d never do her. ', \"George didn't answer his question. \", 'George said, \"I\\'ll work my\\nmonth an\\' I\\'ll take my fifty bucks an\\' I\\'ll stay all night in some\\nlousy cat house. ', 'I didn\\' think he\\'d do nothing\\nlike this.\" George still stared at Curley\\'s wife. ', 'Will you do\\nthat? So the guys won\\'t think I was in on it?\" Candy said, \"Sure, George. ', 'I\\'m going now.\" George turned and\\nwent quickly out of the barn. ', 'Candy came after them, and\\nlast of all came George. ', 'George had put on his blue denim coat and\\nbuttoned it, and his black hat was pulled down low over his eyes. ', 'Slim turned quietly to George. ', 'Lennie coulda did that.\" George didn\\'t answer, but he nodded slowly. ', 'Slim went on, \"Maybe like that time in Weed you was tellin\\'\\nabout.\" Again George nodded. ', 'Where you think he\\nmight of went?\" It seemed to take George some time to free his words. ', 'George stepped close. ', 'That ain\\'t no good, George.\" \"I know,\" said George. ', 'Le\\'s go now.\" He turned suspiciously on George. ', '\"You\\'re comin\\' with us, fella.\" \"Yeah,\" said George. ', '\\'Course\\nwe\\'ll shoot \\'im. \" George said weakly, \"Maybe Carlson lost his gun.,,\\n\"I seen it this morning,\" said Carlson. ', 'George stopped a moment beside Candy and\\nthey both looked down at the dead girl until Curley called, \"You\\nGeorge! You stick with us so we don\\'t think you had nothin\\' to do\\nwith this.\" George moved slowly after them, and his feet dragged heavily. ', 'Hide in the\\nbrush an\\' wait for George.\" He pulled his hat down low over his\\neyes. ', '\"George gonna give me hell,\" he said. ', '\"George gonna wish he\\nwas alone an\\' not have me botherin\\' him.\" He turned his head and\\nlooked at the bright mountain tops. ', \"If George don't want me . . . . \", '\"I tol\\' you, `Min\\' George because he\\'s such a nice\\nfella an\\' good to you.\\' But you don\\'t never take no care. ', 'I couldn\\' help it.\" \"You never give a thought to George,\" she went on in Lennie\\'s\\nvoice. ', 'I\\'ll go\\nright off in the hills an\\' I\\'ll fin\\' a cave an\\' I\\'ll live there so I won\\'t\\nbe no more trouble to George.\" \"You jus\\' say that,\" she said sharply. ', 'You\\'ll jus\\' stick around an\\' stew the b\\'Jesus outa George all the\\ntime.\" Lennie said, \"I might jus\\' as well go away. ', 'George ain\\'t gonna let\\nme tend no rabbits now.\" Aunt Clara was gone, and from out of Lennie\\'s head there came a\\ngigantic rabbit. ', 'An\\' then what would George think?\" \"I would not forget,\" Lennie said loudly. ', \"Christ knows George done ever'thing\\nhe could to jack you outa the sewer, but it don't do no good. \", \"If you\\nthink George gonna let you tend rabbits, you're even crazier'n\\nusual. \", \"George won't\\ndo nothing like that. \", \"I've knew George since-1 forget when-and he\\nain't never raised his ban' to me with a stick. \", 'I know George. ', '\"He ain\\'t, I tell ya he ain\\'t.\" And he cried, \"Oh! George-George--George!\" George came quietly out of the brush and the rabbit scuttled back\\ninto Lennie\\'s brain. ', 'George said quietly, \"What the hell you yellin\\' about?\" Lennie got up on his knees. ', '\"You ain\\'t gonna leave me, are ya,\\nGeorge? I know you ain\\'t.\" George came stiffly near and sat down beside him. ', '\"You ain\\'t that kind.\" George was silent. ', 'Lennie said, \"George.\" \"Yeah ?\" \"I done another bad thing.\" \"It don\\'t make no difference,\" George said, and he fell silent\\nagain. ', 'George turned his head and listened\\nto the shouts. ', 'Lennie said, \"George.\" \"Yeah ?\" \"Ain\\'t you gonna give me hell?\" \"Give ya hell?\" \"Sure, like you always done before. ', 'Like, `If I di\\'n\\'t have you I\\'d\\ntake my fifty bucks\\' \"\\n\"Jesus Christ, Lennie! You can\\'t remember nothing that happens,\\nbut you remember ever\\' word I say.„\\n\"Well, ain\\'t you gonna say it?\" George shook himself. ', '\"Go on, George. ', 'Ain\\'t you gonna\\ngive me no more hell?\" \"No,\" said George. ', '\"I\\'ll go right off in the hills an\\'\\nfind a cave if you don\\' want me.\" George shook himself again. ', '\"I want you to stay\\nwith me here.\" Lennie said craftily- \"Tell me like you done before.\" \"Tell you what?\" \"\\'Bout the other guys an\\' about us.\" George said, \"Guys like us got no fambly. ', '\"Tell about us now.\" George was quiet for a moment. ', 'George took off his hat. ', 'Lennie said, \"Tell how it\\'s gonna be.\" George had been listening to the distant sounds. ', '\"We gonna get a little place,\"\\nGeorge began. ', 'George raised the gun and his hands shook, and he dropped his\\nhand to the ground again. ', 'We gonna get a little\\nplace.\" \"We\\'ll have a cow,\" said George. ', '\"For the rabbits,\" George repeated. ', 'George looked down at the gun. ', 'George turned\\nand looked toward them. ', '\"Go on, George. ', 'Nobody gon-na hurt nobody nor steal from \\'em.\" Lennie said, \"I thought you was mad at me, George.\" \"No,\" said George. ', 'George raised the gun and listened to\\nthe voices. ', 'We gotta.\" And George raised the gun and steadied it, and he brought the\\nmuzzle of it close to the back of Lennie\\'s head. ', 'George shivered and looked at the gun, and then he threw it from\\nhim, back up on the bank, near the pile of old ashes. ', 'Slim\\'s voice shouted, \"George. ', 'Where you at, George?\" But George sat stify on the bank and looked at his right hand\\nthat had thrown the gun away. ', '\"Got\\nhim, by God.\" He went over and looked down at Lennie, and then\\nhe looked back at George. ', 'Slim came directly to George and sat down beside him, sat very\\nclose to him. ', '\"A guy got to\\nsometimes.\" But Carlson was standing over George. ', '\"I just done it,\" George said tiredly. ', 'Tha\\'s how.\" George\\'s voice was almost a whisper. ', \"Slim twitched George's elbow. \", '\"Come on, George. ', 'Me an\\' you\\'ll go\\nin an\\' get a drink.\" George let himself be helped to his feet. ', '\"Yeah, a drink.\" Slim said, \"You hadda, George. ', 'Come on with\\nme.\" He led George into the entrance of the trail and up toward\\nthe highway. ']\n",
      "['Go out with Slim’s team.\" \"Slim?\" \"Yeah. ', '\"But what?\" \"Well--she got the eye.\" \"Yeah? Married two weeks and got the eye? Maybe that\\'s why\\nCurley\\'s pants is full of ants.\" \"I seen her give Slim the eye. ', \"Slim's a jerkline skinner. \", \"Slim don't need to wear no high-heeled boots on a grain\\nteam. \", 'I seen her give Slim the eye. ', '\"Hi, Slim,\" she said. ', \"Slim's voice came through the door. \", '\"Hi, Goodlookin\\'.\" \"I\\'m tryin\\' to find Curley, Slim.\" \"Well, you ain\\'t tryin\\' very hard. ', 'This was Slim, the\\njerkline skinner. ', '\"Gonna buck barley?\" \"That\\'s what the boss says.\" Slim sat down on a box across the table from\\nGeorge. ', 'Slim looked\\napprovingly at George for having given the compliment. ', 'I\\'ve knew\\nhim for a long time.\" Slim looked through George and beyond him. ', '\"Hi,\\nSlim,\" he said, and then stopped and stared at George and Lennie. ', '\"These guys jus\\' come,\" said Slim by way of introduction. ', '\"Meant to ask you, Slim-how\\'s your bitch? I seen she wasn\\'t under\\nyour wagon this morning.\" \"She slang her pups last night,\" said Slim. ', 'I kept the biggest\"\\n\"What kinda dogs you think they\\'re gonna be?\" \"I dunno,\" said Slim. ', 'Have to keep \\'em a while so they can drink Lulu\\'s milk.\" Carlson said thoughtfully, \"Well, looka here, Slim. ', 'He can\\'t chew nothing else.\" George had been staring intently at Slim. ', 'Slim stood up slowly and with dignity. ', 'Won\\'t be nothing left in a\\ncouple of minutes.\" Carlson stepped back to let Slim precede him, an then the two of\\nthem went out the door. ', 'Slim and George came into the darkening bunk house together. ', 'Slim reached up over the card table and turned on the tin-shaded\\nelectric light. ', 'Slim sat down on a box\\nand George took his place opposite. ', '\"It wasn\\'t nothing,\" said Slim. ', 'We\\'ll have trouble keepin\\' him from getting right in the box with\\nthem pups.\" \"It wasn\\'t nothing,\" Slim repeated. ', 'Slim moved back slightly so the light was not on his face. ', '\"Funny\\nhow you an\\' him string along together.\" It was Slim\\'s calm\\ninvitation to confidence. ', 'Slim\\nneither encouraged nor discouraged him. ', 'Got kinda used to each other after a little while.\" \"Umm,\" said Slim. ', 'George looked over at Slim and saw the calm, Godlike eyes\\nfastened on him. ', 'Well, I ain\\'t done nothing like that no more.\" \"He\\'s a nice fella,\" said Slim. ', '\"Yeah, they get mean,\" Slim agreed. ', '\"But you get used to goin\\' around with a guy an\\' you can\\'t\\nget rid of him.\" \"He ain\\'t mean,\" said Slim. ', 'He looked\\nalarmed and peered over at Slim. ', '\"You wouldn\\'t tell nobody?\" \"What\\'d he do in Weed?\" Slim asked calmly. ', '\"You wouldn\\' tell? . . . . No, \\'course you wouldn\\'.\" \"What\\'d he do in Weed?\" Slim asked again. ', 'And he\\'s so God damn strong, you know.\" Slim\\'s eyes were level and unwinking. ', 'An\\' that night we scrammed outa there.\" Slim sat in silence for a moment. ', 'He jus\\' wanted to touch that red dress, like\\nhe wants to pet them pups all the time.\" \"He ain\\'t mean,\" said Slim. ', 'You take him back or\\nI\\'ll tell Slim not to let you have him.\" Lennie held out his hands pleadingly. ', 'Slim had not moved. ', '\"Hello, Slim. ', 'Didn\\'t neither of you play\\nhorseshoes?\" \"I don\\'t like to play ever\\' night,\" said Slim. ', 'Candy went on, \"Either you guys got a slug of whisky? I gotta gut\\nache.\" \"I ain\\'t,\" said Slim. ', '\"Jesus, how\\nthat nigger can pitch shoes.\" \"He\\'s plenty good,\" said Slim. ', '\"Look, Slim\\'s bitch got a litter right now. ', 'I bet Slim would give you\\none of them pnps to raise up, wouldn\\'t you, Slim?\" The skinner had been studying the old dog with his calm eyes. ', 'I wisht somebody\\'d shoot me if I get old an\\' a\\ncripple.\" Candy looked helplessly at him, for Slim\\'s opinions were law. ', '\"Did I show you this,\\nSlim?\" he asked. ', '\"Right there, read that.\" Slim bent over it. ', '\"Read it out loud.\" \"Dear Editor\"\\': Slim read slowly. \" \\'I read your mag for six years\\nand I think it is the best on the market. ', 'Just thought I would tell you I think\\nyour mag is the best dime\\'s worth I ever spent.\\' \"\\nSlim looked up questioningly. ', 'Read the name at the bottom.\" Slim read, \"\\'Yours for success, William Tenner.\\'\" He glanced up at\\nWhit again. ', '\"Don\\'t you remember Bill\\nTermer? Worked here about three months ago?\" Slim thought . . . . \"Little guy?\" he asked. ', 'There it is.\" \"Guess you\\'re right,\" said Slim. ', 'Candy looked a long time at Slim to try to find some reversal. ', 'And\\nSlim gave him none. ', 'Slim said, \"Carlson.\" \"Yeah?\" \"You know what to do.\" \"What ya mean, Slim?\" \"Take a shovel,\" said Slim shortly. ', 'Slim said loudly, \"One of my lead mules got a bad hoof. ', 'He won\\'t want to come in here no more now he\\'s got a\\npup.\" Slim said, \"Candy, you can have any one of them pups you want.\" Candy did not answer. ', 'Slim gazed at him for a moment\\nand then looked down at his hands; he subdued one hand with the\\nother, and held it down. ', 'Slim.\" Slim took his eyes from old Candy. ', 'Slim.\" \"No. ', 'Slim.\" \"Yeah.\" \"That big new guy\\'s messin\\' around your pups out in the barn.\" \"Well, he ain\\'t doin\\' no harm. ', 'That won\\'t do them no good.\" \"He won\\'t hurt \\'em,\" said Slim. ', '\"If that crazy bastard\\'s foolin\\' around too much,\\njus\\' kick him out, Slim.\" Slim followed the stable buck out of the room. ', '\"Where the hell\\'s\\nSlim?\" \"Went out in the barn,\" said George. ', '\"Curley\\'s just spoilin\\' or he wouldn\\'t start for Slim. ', '\"But jus\\' the\\nsame, he better leave Slim alone. ', 'Nobody don\\'t know what Slim\\ncan do.\" \"Thinks Slim\\'s with his wife, don\\'t he?\" said George. ', '\"\\'Course Slim ain\\'t. ', \"Least I don't think\\nSlim is. \", 'Slim says I better not pet them\\npups so much for a while. ', \"Slim says it ain't good for them; so I\\ncome right in. \", 'I jus\\' had mine in my lap pettin\\'\\nit.\" George asked, \"Did you see Slim out in the barn?\" \"Sure I did. ', 'Anyways I never seen her.\" \"You never seen Slim talkin\\' to her?\" \"Uh-uh. ', 'What was Slim doin\\' in the barn when you seen him?\" \"Slim?\" \"Sure. ', 'Slim came in, followed by Curley and Carlson\\nand Whit. ', \"Slim's hands were black with tar and he was scowling. \", 'Curley said, \"Well, I didn\\'t mean nothing, Slim. ', 'I just ast you.\" Slim said, \"Well, you been askin\\' me too often. ', '\"You tried to\\nthrow a scare into Slim, an\\' you couldn\\'t make it stick. ', 'Slim\\nthrowed a scare inta you. ', 'Slim jumped up. ', '\"The dirty little rat,\" he cried, \"I\\'ll get \\'um\\nmyself.\" George put out his hand and grabbed Slim. ', 'Slim, come help me while the guy got any hand left.\" Suddenly Lennie let go his hold. ', 'Slim and Carlson bent over him. ', 'Then Slim straightened up\\nand regarded Lennie with horror. ', '\"I didn\\'t wanta hurt him.\" Slim said, \"Carlson, you get the candy wagon hitched up. ', 'Slim turned to the whimpering Lennie. ', 'But-Jesus! He ain\\'t hardly\\ngot no han\\' left.\" Slim hurried out, and in a moment returned with\\na tin cup of water. ', 'George said, \"Slim, will we get canned now? We need the stake. ', 'Will Curley\\'s old man can us now?\" Slim smiled wryly. ', '\"Well,\\nthen listen,\" Slim went on. ', 'Slim helped Curley up. ', 'In a moment Slim came\\nback into the bunk house. ', '\"Christ awmighty, I hate to have you mad at me,\" Slim said. ', '\"Slim an\\' George an\\' ever\\'body. ', 'Slim says I ain\\'t to pet \\'em very much.\" Crooks said, \"Well, you been takin\\' \\'em out of the nest all the\\ntime. ', '\"Maybe Slim. ', 'Slim comes in\\nsometimes two, three times a night. ', \"Slim's a real skinner. \", '\"That you, Slim?\" he called. ', '\"Slim went in town. ', 'Nobody been here but Slim. ', 'Slim an\\' the boss.\" Candy quickly changed the subject. ', '\"Slim\\'s as good a skinner as I\\never seen.\" Lennie leaned toward the old swamper \"About them rabbits,\" he\\ninsisted. ', 'Slim and Carlson and young Whit and Curley, and Crooks\\nkeeping back out of attention range. ', 'Then Slim went quietly over to her, and he felt her wrist. ', 'Slim turned quietly to George. ', 'Slim went on, \"Maybe like that time in Weed you was tellin\\'\\nabout.\" Again George nodded. ', 'Slim sighed. ', '\"We come from north so he would of went\\nsouth.\" \"I guess we gotta get \\'im,\" Slim repeated. ', '\"Couldn\\' we maybe bring him in an\\' they\\'ll\\nlock him up? He\\'s nuts, Slim. ', 'He never done this to be mean.\" Slim nodded. ', '\"No, it\\'s been took.\" Slim stood looking down at Curley\\'s wife. ', 'I\\'m\\ngonna get \\'im.\" Slim turned to Candy. ', 'Slim\\'s voice shouted, \"George. ', 'Slim came directly to George and sat down beside him, sat very\\nclose to him. ', '\"Never you mind,\" said Slim. ', \"Slim twitched George's elbow. \", '\"Yeah, a drink.\" Slim said, \"You hadda, George. ']\n"
     ]
    }
   ],
   "source": [
    "def search(query, index, corpus):\n",
    "    \n",
    "    query = [lemmatizer.lemmatize(word) for word in word_tokenize(query.lower()) if word.isalnum() and word not in stop_words]\n",
    "    \n",
    "    matching_documents = set()\n",
    "    \n",
    "    for term in query:\n",
    "        if term in index:\n",
    "            matching_documents.update(index[term])\n",
    "    \n",
    "    results = [corpus[idx] for idx in sorted(matching_documents)]\n",
    "    \n",
    "    return results\n",
    "\n",
    "George = search('George', index, corpus)\n",
    "Slim = search('Slim', index, corpus)\n",
    "print(George)\n",
    "print(Slim)"
   ]
  },
  {
   "cell_type": "markdown",
   "metadata": {},
   "source": [
    "### Parsing\n",
    "Parsing can help systems like Google Translate with understanding the grammatical structure of a sentence in the source language.\n",
    "\n",
    "It is crucial for question answering systems like IBM.\n",
    "\n",
    "It helps with text-to-speech systems.\n",
    "\n",
    "It helps Google understand the queries from users.\n",
    "\n",
    "It is crucial for Siri and Alexa and more chatbots and virtual assistants.\n",
    "\n",
    "### Lemmatization\n",
    "It can help improve sentiment analysis by reducing inflected words to their base form.\n",
    "\n",
    "It can be beneficial for keyword extraction by grouping similar words together. It makes it easier to identify the main keywords.\n",
    "\n",
    "It can aid automatic paraphrasing by simplifying the text and reducing word variations.\n",
    "\n",
    "### Problems\n",
    "I did indeed run into a problem when I wanted to parse my Hungarian book. The problem with NLTK is that it only accepts English and Russian which is why I used an english book for that assignment. I might look for a Hungarian parser for the next project if it involves parsing."
   ]
  }
 ],
 "metadata": {
  "kernelspec": {
   "display_name": "Python 3",
   "language": "python",
   "name": "python3"
  },
  "language_info": {
   "codemirror_mode": {
    "name": "ipython",
    "version": 3
   },
   "file_extension": ".py",
   "mimetype": "text/x-python",
   "name": "python",
   "nbconvert_exporter": "python",
   "pygments_lexer": "ipython3",
   "version": "3.9.13"
  },
  "orig_nbformat": 4
 },
 "nbformat": 4,
 "nbformat_minor": 2
}
