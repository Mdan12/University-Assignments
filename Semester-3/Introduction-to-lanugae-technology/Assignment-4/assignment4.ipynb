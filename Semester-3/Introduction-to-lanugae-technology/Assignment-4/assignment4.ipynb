{
 "cells": [
  {
   "cell_type": "code",
   "execution_count": 53,
   "metadata": {},
   "outputs": [
    {
     "name": "stdout",
     "output_type": "stream",
     "text": [
      "Requirement already satisfied: torch in /opt/homebrew/anaconda3/lib/python3.9/site-packages (2.1.0)\n",
      "Requirement already satisfied: typing-extensions in /opt/homebrew/anaconda3/lib/python3.9/site-packages (from torch) (4.3.0)\n",
      "Requirement already satisfied: jinja2 in /opt/homebrew/anaconda3/lib/python3.9/site-packages (from torch) (2.11.3)\n",
      "Requirement already satisfied: sympy in /opt/homebrew/anaconda3/lib/python3.9/site-packages (from torch) (1.10.1)\n",
      "Requirement already satisfied: networkx in /opt/homebrew/anaconda3/lib/python3.9/site-packages (from torch) (2.8.4)\n",
      "Requirement already satisfied: fsspec in /opt/homebrew/anaconda3/lib/python3.9/site-packages (from torch) (2023.10.0)\n",
      "Requirement already satisfied: filelock in /opt/homebrew/anaconda3/lib/python3.9/site-packages (from torch) (3.6.0)\n",
      "Requirement already satisfied: MarkupSafe>=0.23 in /opt/homebrew/anaconda3/lib/python3.9/site-packages (from jinja2->torch) (2.0.1)\n",
      "Requirement already satisfied: mpmath>=0.19 in /opt/homebrew/anaconda3/lib/python3.9/site-packages (from sympy->torch) (1.2.1)\n",
      "Requirement already satisfied: transformers in /opt/homebrew/anaconda3/lib/python3.9/site-packages (4.34.1)\n",
      "Requirement already satisfied: huggingface-hub<1.0,>=0.16.4 in /opt/homebrew/anaconda3/lib/python3.9/site-packages (from transformers) (0.17.3)\n",
      "Requirement already satisfied: regex!=2019.12.17 in /opt/homebrew/anaconda3/lib/python3.9/site-packages (from transformers) (2022.7.9)\n",
      "Requirement already satisfied: numpy>=1.17 in /opt/homebrew/anaconda3/lib/python3.9/site-packages (from transformers) (1.21.5)\n",
      "Requirement already satisfied: tokenizers<0.15,>=0.14 in /opt/homebrew/anaconda3/lib/python3.9/site-packages (from transformers) (0.14.1)\n",
      "Requirement already satisfied: tqdm>=4.27 in /opt/homebrew/anaconda3/lib/python3.9/site-packages (from transformers) (4.64.1)\n",
      "Requirement already satisfied: packaging>=20.0 in /opt/homebrew/anaconda3/lib/python3.9/site-packages (from transformers) (21.3)\n",
      "Requirement already satisfied: filelock in /opt/homebrew/anaconda3/lib/python3.9/site-packages (from transformers) (3.6.0)\n",
      "Requirement already satisfied: requests in /opt/homebrew/anaconda3/lib/python3.9/site-packages (from transformers) (2.28.1)\n",
      "Requirement already satisfied: safetensors>=0.3.1 in /opt/homebrew/anaconda3/lib/python3.9/site-packages (from transformers) (0.4.0)\n",
      "Requirement already satisfied: pyyaml>=5.1 in /opt/homebrew/anaconda3/lib/python3.9/site-packages (from transformers) (6.0)\n",
      "Requirement already satisfied: typing-extensions>=3.7.4.3 in /opt/homebrew/anaconda3/lib/python3.9/site-packages (from huggingface-hub<1.0,>=0.16.4->transformers) (4.3.0)\n",
      "Requirement already satisfied: fsspec in /opt/homebrew/anaconda3/lib/python3.9/site-packages (from huggingface-hub<1.0,>=0.16.4->transformers) (2023.10.0)\n",
      "Requirement already satisfied: pyparsing!=3.0.5,>=2.0.2 in /opt/homebrew/anaconda3/lib/python3.9/site-packages (from packaging>=20.0->transformers) (3.0.9)\n",
      "Requirement already satisfied: certifi>=2017.4.17 in /opt/homebrew/anaconda3/lib/python3.9/site-packages (from requests->transformers) (2022.9.24)\n",
      "Requirement already satisfied: charset-normalizer<3,>=2 in /opt/homebrew/anaconda3/lib/python3.9/site-packages (from requests->transformers) (2.0.4)\n",
      "Requirement already satisfied: urllib3<1.27,>=1.21.1 in /opt/homebrew/anaconda3/lib/python3.9/site-packages (from requests->transformers) (1.26.11)\n",
      "Requirement already satisfied: idna<4,>=2.5 in /opt/homebrew/anaconda3/lib/python3.9/site-packages (from requests->transformers) (3.3)\n"
     ]
    },
    {
     "name": "stderr",
     "output_type": "stream",
     "text": [
      "[nltk_data] Downloading package punkt to\n",
      "[nltk_data]     /Users/magnusde93/nltk_data...\n",
      "[nltk_data]   Package punkt is already up-to-date!\n"
     ]
    },
    {
     "data": {
      "text/plain": [
       "True"
      ]
     },
     "execution_count": 53,
     "metadata": {},
     "output_type": "execute_result"
    }
   ],
   "source": [
    "import nltk\n",
    "from nltk.tokenize import word_tokenize\n",
    "import numpy as np\n",
    "import os\n",
    "import torch\n",
    "import transformers\n",
    "from transformers import AutoModelForQuestionAnswering, AutoTokenizer, pipeline\n",
    "\n",
    "transformers.logging.set_verbosity_error()\n",
    "\n",
    "!pip install torch\n",
    "!pip install transformers\n",
    "nltk.download('punkt')"
   ]
  },
  {
   "cell_type": "code",
   "execution_count": 74,
   "metadata": {},
   "outputs": [
    {
     "name": "stdout",
     "output_type": "stream",
     "text": [
      "The Levenshtein distance between 'apple' and 'banana' is 5\n",
      "The Levenshtein distance between 'flour' and 'flower' is 2\n",
      "The Levenshtein distance between 'hamburger' and 'cheeseburger' is 5\n",
      "The Levenshtein distance between 'python' and 'java' is 6\n",
      "The Levenshtein distance between 'moon' and 'stars' is 5\n"
     ]
    }
   ],
   "source": [
    "def levenshtein_distance(s1, s2):\n",
    "    matrix = [[0 for _ in range(len(s2) + 1)] for _ in range(len(s1) + 1)]\n",
    "\n",
    "    for i in range(len(s1) + 1):\n",
    "        matrix[i][0] = i\n",
    "    for j in range(len(s2) + 1):\n",
    "        matrix[0][j] = j\n",
    "\n",
    "    for i in range(1, len(s1) + 1):\n",
    "        for j in range(1, len(s2) + 1):\n",
    "            cost = 0 if s1[i - 1] == s2[j - 1] else 1\n",
    "            matrix[i][j] = min(matrix[i - 1][j] + 1,\n",
    "                              matrix[i][j - 1] + 1,\n",
    "                              matrix[i - 1][j - 1] + cost)\n",
    "\n",
    "    return matrix[-1][-1]\n",
    "\n",
    "word1 = [\"apple\", \"flour\", \"hamburger\", \"python\", \"moon\"]\n",
    "word2 = [\"banana\", \"flower\", \"cheeseburger\", \"java\", \"stars\"]\n",
    "for i in range(len(word1)):\n",
    "    distance = levenshtein_distance(word1[i], word2[i])\n",
    "    print(f\"The Levenshtein distance between '{word1[i]}' and '{word2[i]}' is {distance}\")\n"
   ]
  },
  {
   "cell_type": "code",
   "execution_count": 33,
   "metadata": {},
   "outputs": [
    {
     "name": "stdout",
     "output_type": "stream",
     "text": [
      "This sentence should have zero misspelled words but if there are any, they are:  \n",
      "Misspelled word in the same sentence with one word missing a letter:  leavs\n"
     ]
    }
   ],
   "source": [
    "def tokens_file(file_path):\n",
    "    with open(file_path, 'r') as file:\n",
    "        text = file.read()\n",
    "        tokens = word_tokenize(text)\n",
    "        vocabulary = set(tokens)\n",
    "    return vocabulary\n",
    "\n",
    "\n",
    "def detect_misspelled_words(sentence, vocabulary):\n",
    "    words = sentence.split()\n",
    "    misspelled_word = ''\n",
    "\n",
    "    for word in words:\n",
    "        if word.lower() not in vocabulary:\n",
    "            misspelled_word = word.lower()\n",
    "\n",
    "    return misspelled_word\n",
    "\n",
    "file_path = (\"/Users/magnusde93/University-Assignments/Semester-3/Introduction-to-lanugae-technology/of-mice-and-men.txt\")\n",
    "\n",
    "tokens = tokens_file(file_path)\n",
    "\n",
    "\n",
    "correct_sentence = \"Evening of a hot day started the little wind to moving among the leaves\"\n",
    "misspelled_words1 = detect_misspelled_words(correct_sentence, tokens)\n",
    "print(\"This sentence should have zero misspelled words but if there are any, they are: \", misspelled_words1)\n",
    "\n",
    "incorrect_sentence = \"Evening of a hot day started the little wind to moving among the leavs\"\n",
    "misspelled_words2 = detect_misspelled_words(incorrect_sentence, tokens)\n",
    "print(\"Misspelled word in the same sentence with one word missing a letter: \", misspelled_words2)\n"
   ]
  },
  {
   "cell_type": "code",
   "execution_count": 41,
   "metadata": {},
   "outputs": [
    {
     "name": "stdout",
     "output_type": "stream",
     "text": [
      "The top 10 recommendations for the masked word are:  ['quarter', 'half', 'square', 'hundred', 'full', 'whole', 'couple', '½', 'nautical', 'mile']\n",
      "The distance between quorter and quarter is 1\n",
      "The distance between quorter and half is 7\n",
      "The distance between quorter and square is 4\n",
      "The distance between quorter and hundred is 5\n",
      "The distance between quorter and full is 6\n",
      "The distance between quorter and whole is 5\n",
      "The distance between quorter and couple is 6\n",
      "The distance between quorter and ½ is 7\n",
      "The distance between quorter and nautical is 7\n",
      "The distance between quorter and mile is 6\n"
     ]
    }
   ],
   "source": [
    "model = pipeline('fill-mask', model='bert-base-uncased', top_k=10)\n",
    "sentence = \"That ranch we're goin' to is right down there about a quorter mile\"\n",
    "misspelled_word = detect_misspelled_words(sentence, tokens)\n",
    "new_sentence = sentence.replace(misspelled_word, \"[MASK]\")\n",
    "\n",
    "pred = model(new_sentence)\n",
    "Levenshtein_words = []\n",
    "for i in range(10):\n",
    "     Levenshtein_words.append(pred[i][\"token_str\"])\n",
    "print(\"The top 10 recommendations for the masked word are: \", Levenshtein_words)\n",
    "\n",
    "for i in Levenshtein_words:\n",
    "    print(f\"The distance between {misspelled_word} and {i} is {levenshtein_distance(i, misspelled_word)}\")"
   ]
  },
  {
   "cell_type": "code",
   "execution_count": 55,
   "metadata": {},
   "outputs": [
    {
     "name": "stdout",
     "output_type": "stream",
     "text": [
      "Question: Where was J.K. Rowling born?\n",
      "Answer: {'score': 0.8303226232528687, 'start': 28, 'end': 43, 'answer': 'Bristol England'}\n",
      "\n",
      "Question: What did J.K. Rowling study at the University of Exeter?\n",
      "Answer: {'score': 0.9836851954460144, 'start': 350, 'end': 369, 'answer': 'French and Classics'}\n",
      "\n",
      "Question: Who did J.K. Rowling marry, and how many children do they have?\n",
      "Answer: {'score': 0.5860772728919983, 'start': 591, 'end': 604, 'answer': 'Jorge Arantes'}\n",
      "\n",
      "Question: When did the idea for Harry Potter first come to J.K. Rowling?\n",
      "Answer: {'score': 0.9831283688545227, 'start': 870, 'end': 874, 'answer': '1990'}\n",
      "\n",
      "Question: Besides the Harry Potter series, what other type of novels has J.K. Rowling written under a pen name?\n",
      "Answer: {'score': 0.6309955716133118, 'start': 1733, 'end': 1738, 'answer': 'crime'}\n",
      "\n"
     ]
    }
   ],
   "source": [
    "model_name = \"deepset/roberta-base-squad2\"\n",
    "model = AutoModelForQuestionAnswering.from_pretrained(model_name)\n",
    "tokenizer = AutoTokenizer.from_pretrained(model_name)\n",
    "\n",
    "nlp = pipeline('question-answering', model=model_name, tokenizer=model_name)\n",
    "\n",
    "context = \"Rowling was born outside of Bristol England to Peter James Rowling, an aircraft engineer, and Anne Rowling, a science technician. As a child, Rowling often wrote fantasy stories and was very precocious. Rowling attended secondary school at Wyedean School and College, where her mother worked. Rowling then attended the University of Exeter, studying French and Classics. After, Rowling worked as a researcher and bilingual secretary in London for Amnesty International. She later moved to Portugal to teach English at night, and to write during the day. There, she met Portuguese journalist Jorge Arantes. They married two years later, and their daughter, Jessica, was born a year after that. The couple separated a few months after Jessica's birth, and Rowling moved with her infant daughter to Edinburgh, Scotland. Rowling, who had gotten the idea for Harry Potter in 1990, wrote the first book while completing a teacher training course. Rowling then finished Harry Potter in 1995. Initially, only 1,000 copies were printed. Five months later, the book won its first award, and in early 1998, an auction was held in the United States for the rights to publish the novel, which was won by Scholastic Inc. for $105,000. Harry Potter became a sensation, growing larger with each book and shattering sales records. Harry Potter is now a global brand worth an estimated $15 billion, and the books have been adapted into record-breaking films as well. In 2001, Rowling remarried and had a second child. She has also become a noted philanthropist, donating significant money to combat poverty, social inequality, and MS, or multiple sclerosis, a disease from which her mother passed away. She continues to write, and has written several crime novels under a pen name, Robert Galbraith.\"\n",
    "\n",
    "questions = [\n",
    "    \"Where was J.K. Rowling born?\",\n",
    "    \"What did J.K. Rowling study at the University of Exeter?\",\n",
    "    \"Who did J.K. Rowling marry, and how many children do they have?\",\n",
    "    \"When did the idea for Harry Potter first come to J.K. Rowling?\",\n",
    "    \"Besides the Harry Potter series, what other type of novels has J.K. Rowling written under a pen name?\"\n",
    "]\n",
    "\n",
    "\n",
    "for question in questions:\n",
    "    result = nlp(question, context)\n",
    "    print(f\"Question: {question}\")\n",
    "    print(f\"Answer: {result}\\n\")\n",
    "\n"
   ]
  },
  {
   "cell_type": "code",
   "execution_count": 73,
   "metadata": {},
   "outputs": [
    {
     "name": "stdout",
     "output_type": "stream",
     "text": [
      "{'score': 0.1077936589717865, 'start': 905081, 'end': 905088, 'answer': 'Old age'}\n"
     ]
    }
   ],
   "source": [
    "from urllib.request import urlopen\n",
    "import string\n",
    "\n",
    "harry_url = \"https://raw.githubusercontent.com/bobdeng/owlreader/master/ERead/assets/books/Harry%20Potter%20and%20The%20Half-Blood%20Prince.txt\"\n",
    "harry_open = urlopen(harry_url)\n",
    "harry_utf8 = harry_open.read().decode('utf-8')\n",
    "\n",
    "question = \"Why was Harry Potter gay?\"\n",
    "\n",
    "answer = nlp(question, harry_utf8)\n",
    "print(answer)"
   ]
  },
  {
   "cell_type": "markdown",
   "metadata": {},
   "source": [
    "# Part 4\n",
    "For this part it answered right for all questions related to context I fed it. Nothing wrong. Only problem is having a question in two parts. If the question has two parts it only answers the first part.\n",
    "\n",
    "The answer for the question that is not related to the context the answer it gave was hilarious. It is obviously very much incorrect but so funny nonetheless."
   ]
  },
  {
   "cell_type": "markdown",
   "metadata": {},
   "source": [
    "# Part 5\n",
    "I talked to you in person about my final project. Looking forward to actually start working on it. Hopefully it's doable!"
   ]
  }
 ],
 "metadata": {
  "kernelspec": {
   "display_name": "base",
   "language": "python",
   "name": "python3"
  },
  "language_info": {
   "codemirror_mode": {
    "name": "ipython",
    "version": 3
   },
   "file_extension": ".py",
   "mimetype": "text/x-python",
   "name": "python",
   "nbconvert_exporter": "python",
   "pygments_lexer": "ipython3",
   "version": "3.9.13"
  }
 },
 "nbformat": 4,
 "nbformat_minor": 2
}
