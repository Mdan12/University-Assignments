{
 "cells": [
  {
   "cell_type": "markdown",
   "metadata": {},
   "source": [
    "## REI505M Machine Learning - Homework 1\n",
    "### Given Sunday 27.8.2023. Due: Monday 4.9.2023\n",
    "\n",
    "**Objectives**: Pyhton/NumPy practice, Linear regression, Stochastic gradient descent.\n",
    "\n",
    "**Name**: (your name here), **email: ** (your email here), **collaborators:** (if any)\n",
    "\n",
    "Please provide your solutions by filling in the appropriate cells in this notebook, creating new cells as needed. Hand in your solution in PDF format on Gradescope. Aim to hand in a fairly clean notebook, avoid including pages upon pages of outputs from \"dummy\" print statements (use the mod (%) operator to control print/debug statements!)\n",
    "\n",
    "Make sure that you are familiar with the course rules on collaboration (encouraged) and copying (very, very, bad!)\n",
    "\n",
    "To get up to speed with Python and NumPy the following may be helpful:\n",
    "\n",
    "* A tutorial on Python and NumPy from CS231 at Stanford: https://cs231n.github.io/python-numpy-tutorial/\n",
    "\n",
    "* A tutorial in the form of a Jupyter notebook from CS229 at Stanford: https://cs229.stanford.edu/notes2022fall/cs229-python_review_materials.zip\n",
    "\n",
    "**Note**: This notebook is long, and finishing the assignment takes some time (start early!) but it is nowhere as bad as it may seem! In many cases the solution is just a few lines of code, in other cases, the solution can be obtained by performing small modifications to examples that can be found on Canvas."
   ]
  },
  {
   "cell_type": "markdown",
   "metadata": {},
   "source": [
    "### 1) NumPy warmup [20 points]\n",
    "\n",
    "In this exercise you will be given code snippets in Python and your task is to vectorize the code, i.e., recast it as matrix/vector operations and implement using NumPy while maintaining its functionality, see the matrix-vector multiplication example below. The functions correspond to frequently used operations in Machine learning algorithms. **Remember to always show the results of executing your code**."
   ]
  },
  {
   "cell_type": "code",
   "execution_count": 1,
   "metadata": {},
   "outputs": [
    {
     "name": "stdout",
     "output_type": "stream",
     "text": [
      "[ 96.  101.5]\n"
     ]
    }
   ],
   "source": [
    "import numpy as np\n",
    "\n",
    "def matrix_vector_multiplication(A, x):\n",
    "    # Computes a matrix-vector product\n",
    "    # Input: A is an n x m matrix\n",
    "    #        x is an (n,) element vector\n",
    "    # Output: y = Ax\n",
    "    n, m = A.shape\n",
    "    assert(n == x.shape[0])\n",
    "    y = np.zeros(n, dtype=A.dtype)\n",
    "    for i in range(n):\n",
    "        for j in range(m):\n",
    "            y[i] += A[i,j] * x[j]\n",
    "    return y\n",
    "\n",
    "# Test case\n",
    "A = np.array([[1, 7], [32, -4.5]])\n",
    "x = np.array([5, 13])\n",
    "print(matrix_vector_multiplication(A, x)) # Outputs [96., 101.5]"
   ]
  },
  {
   "cell_type": "markdown",
   "metadata": {},
   "source": [
    "An vectorized version uses `numpy.dot` to compute the matrix-vector product"
   ]
  },
  {
   "cell_type": "code",
   "execution_count": 2,
   "metadata": {},
   "outputs": [
    {
     "name": "stdout",
     "output_type": "stream",
     "text": [
      "[ 96.  101.5]\n"
     ]
    }
   ],
   "source": [
    "def matrix_vector_multiplication_vectorized(A, x):\n",
    "    assert(A.shape[0] == x.shape[0])\n",
    "    return np.dot(A, x)\n",
    "print(matrix_vector_multiplication_vectorized(A, x)) # Outputs [96., 101.5]"
   ]
  },
  {
   "cell_type": "markdown",
   "metadata": {},
   "source": [
    "We can easily measure the speedup we can from vectorizing the above code. The results vary between runs but the speedup on a MacBook Pro is more than 2000-fold."
   ]
  },
  {
   "cell_type": "code",
   "execution_count": 3,
   "metadata": {},
   "outputs": [
    {
     "name": "stdout",
     "output_type": "stream",
     "text": [
      "222 ms ± 2.93 ms per loop (mean ± std. dev. of 7 runs, 1 loop each)\n",
      "109 µs ± 12.4 µs per loop (mean ± std. dev. of 7 runs, 10,000 loops each)\n"
     ]
    }
   ],
   "source": [
    "n = 1000\n",
    "A = np.random.rand(n, n)\n",
    "x = np.random.rand(n)\n",
    "\n",
    "%timeit matrix_vector_multiplication(A, x)\n",
    "%timeit matrix_vector_multiplication_vectorized(A, x)"
   ]
  },
  {
   "cell_type": "markdown",
   "metadata": {},
   "source": [
    "Note: A frequent source of frustration when learning NumPy is that $n$-element vectors can be represented as 1D arrays of dimension (n,) and also as 2D arrays of dimension n x 1. The `numpy.reshape` command can be used to go from one representation to the other."
   ]
  },
  {
   "cell_type": "code",
   "execution_count": 4,
   "metadata": {},
   "outputs": [
    {
     "name": "stdout",
     "output_type": "stream",
     "text": [
      "(5,)\n",
      "(5, 1)\n",
      "(5, 1)\n"
     ]
    }
   ],
   "source": [
    "a = np.ones((5,))\n",
    "print(a.shape) # (5,)\n",
    "b = np.ones((5, 1))\n",
    "print(b.shape) # (5, 1)\n",
    "\n",
    "print((a.reshape(5,1)).shape) # (5,1)"
   ]
  },
  {
   "cell_type": "markdown",
   "metadata": {},
   "source": [
    "**a) [5 points]** Implement code that takes two 1D arrays of the same length as input and sums the product of all the pairs."
   ]
  },
  {
   "cell_type": "code",
   "execution_count": 5,
   "metadata": {},
   "outputs": [
    {
     "name": "stdout",
     "output_type": "stream",
     "text": [
      "70\n"
     ]
    }
   ],
   "source": [
    "def sumproducts(x, y):\n",
    "    assert(x.shape[0] == y.shape[0])\n",
    "    s = 0\n",
    "    for i in range(x.shape[0]):\n",
    "        s += x[i] * y[i]\n",
    "    return s\n",
    "\n",
    "x = np.array([1, 2, 3, 4])\n",
    "y = np.array([9, 8, 7, 6])\n",
    "print(sumproducts(x, y)) # Outputs 70"
   ]
  },
  {
   "cell_type": "code",
   "execution_count": 6,
   "metadata": {},
   "outputs": [
    {
     "name": "stdout",
     "output_type": "stream",
     "text": [
      "70\n"
     ]
    }
   ],
   "source": [
    "def sumproducts_vectorized(x, y):\n",
    "    assert(x.shape[0] == y.shape[0])\n",
    "    return np.dot(x, y)\n",
    "\n",
    "print(sumproducts_vectorized(x, y)) # Outputs 70"
   ]
  },
  {
   "cell_type": "markdown",
   "metadata": {},
   "source": [
    "**b) [5 points]** Implement code that takes a 2D array and applies the ReLU function on all the values in the array. The ReLU function is defined as $f(x) = \\max(0, x)$."
   ]
  },
  {
   "cell_type": "code",
   "execution_count": 23,
   "metadata": {},
   "outputs": [
    {
     "name": "stdout",
     "output_type": "stream",
     "text": [
      "[[0.  4.5 3. ]\n",
      " [1.  0.  0. ]]\n"
     ]
    }
   ],
   "source": [
    "def ReLU(A):\n",
    "    n, m = A.shape\n",
    "    B = np.zeros_like(A)\n",
    "    for i in range(n):\n",
    "        for j in range(m):\n",
    "            B[i,j] = np.maximum(0, A[i,j])\n",
    "    return B\n",
    "\n",
    "A = np.array([[-4, 4.5, 3], [1, -2, -3]])\n",
    "print(ReLU(A)) # Outputs [[0., 4.5, 3.], [1., 0., 0.]]"
   ]
  },
  {
   "cell_type": "code",
   "execution_count": 26,
   "metadata": {},
   "outputs": [
    {
     "name": "stdout",
     "output_type": "stream",
     "text": [
      "[[0.  4.5 3. ]\n",
      " [1.  0.  0. ]]\n"
     ]
    }
   ],
   "source": [
    "def ReLU_vectorized(A):\n",
    "    return np.maximum(0,A)\n",
    "\n",
    "print(ReLU_vectorized(A)) # Outputs [[0., 4.5, 3.], [1., 0., 0.]]"
   ]
  },
  {
   "cell_type": "markdown",
   "metadata": {},
   "source": [
    "**c)  [5 points]** Implement vectorized code that computes the Euclidean distance between two 2D arrays of dimensions $(n,m)$,\n",
    "$$\n",
    "d(A, B) = \\sqrt{\\sum_{i=1}^n \\sum_{j=1}^m \\left((A_{ij} - B_{ij})^2\\right)}.\n",
    "$$"
   ]
  },
  {
   "cell_type": "code",
   "execution_count": 28,
   "metadata": {},
   "outputs": [
    {
     "name": "stdout",
     "output_type": "stream",
     "text": [
      "11.180339887498949\n"
     ]
    }
   ],
   "source": [
    "def matrix_distance(A, B):\n",
    "    n, m = A.shape\n",
    "    d = 0\n",
    "    for i in range(n):\n",
    "        for j in range(m):\n",
    "            d += (A[i][j] - B[i][j])**2\n",
    "    return np.sqrt(d)\n",
    "    \n",
    "A = np.array([[1, 2, 3],[4, 5, 6]])\n",
    "B = np.array([[1,-2, 4],[10, 11, 12]])\n",
    "print(matrix_distance(A, B)) # Output 11.18"
   ]
  },
  {
   "cell_type": "code",
   "execution_count": 30,
   "metadata": {},
   "outputs": [
    {
     "name": "stdout",
     "output_type": "stream",
     "text": [
      "11.180339887498949\n"
     ]
    }
   ],
   "source": [
    "def matrix_distance_vectorized(A,B):\n",
    "    return np.linalg.norm(A - B)\n",
    "    \n",
    "\n",
    "print(matrix_distance_vectorized(A, B)) # Output 11.18"
   ]
  },
  {
   "cell_type": "markdown",
   "metadata": {},
   "source": [
    "**d) [5 points]** We test the code further by computing the Euclidean distance between grayscale images from a subset of the (ancient) Yale face database. In particular, we have two images for each of two subjects, and will calculate both intra-subject and inter-subject distance between the images. Early facial recognition algorithms were based on similar approaches but they have now been replaced by neural networks.\n",
    "\n",
    "An image is represented by a matrix where element (i,j) is the intensity of pixel (i,j), a value of zero is black, and 1.0 is white. The numbers in the figure below represent distance between image pairs."
   ]
  },
  {
   "cell_type": "code",
   "execution_count": 31,
   "metadata": {},
   "outputs": [
    {
     "data": {
      "image/png": "[encoded data removed]",
      "text/plain": [
       "<Figure size 640x480 with 16 Axes>"
      ]
     },
     "metadata": {},
     "output_type": "display_data"
    }
   ],
   "source": [
    "import matplotlib.pyplot as plt\n",
    "\n",
    "subjects = [1, 2]\n",
    "expressions = ['normal','sad']\n",
    "\n",
    "height, width = 231, 195\n",
    "\n",
    "# Store all images in a 3D array of dimensions num_images x width x height\n",
    "num_images = len(subjects) * len(expressions)\n",
    "A = np.zeros((num_images, height, width))\n",
    "\n",
    "# Read images from PGM files\n",
    "lookup = {} # For easy image lookup\n",
    "idx = 0\n",
    "for subject in subjects:\n",
    "    for expression in expressions:\n",
    "        # The images are stored as uint8 (8-bit unsigned integers)\n",
    "        # Convert to float to avoid floating point overflows downstream\n",
    "        A[idx,:,:] = plt.imread(f'data/subject{subject:02d}.{expression}.pgm') / 255.0\n",
    "        lookup[(subject, expression)] = idx\n",
    "        idx += 1\n",
    "plt.show()\n",
    "\n",
    "# Compute pairwise distances (symmetric num_images x num_images matrix)\n",
    "B = np.zeros((num_images, num_images))\n",
    "for i in range(num_images):\n",
    "    for j in range(num_images):\n",
    "        B[i,j] = matrix_distance_vectorized(A[i,:,:], A[j,:,:])\n",
    "\n",
    "# Display images and pairwise distances        \n",
    "plot_idx = 0\n",
    "for i in range(num_images):\n",
    "    image_idx = 0\n",
    "    for j in range(0, num_images):\n",
    "        plt.subplot(num_images, num_images, plot_idx + 1)\n",
    "        if j <= i:\n",
    "            plt.imshow(A[image_idx,:,:],cmap='gray')\n",
    "            image_idx += 1\n",
    "        plt.axis('off')\n",
    "        if j >= i:\n",
    "            plt.title(f'{B[i,j]:3.0f}')\n",
    "        plot_idx += 1\n",
    "plt.show()"
   ]
  },
  {
   "cell_type": "markdown",
   "metadata": {},
   "source": [
    "Your Boss, Mr. Burns, asks you implement a facial recognition system from scratch. He is too stingy to use a commercial system and he doesn't trust open source software (\"what kind of idiot gives out software for free?\"). Having taken some linear algebra class during his Nuclear engineering studies, Mr. Burns intructs you to use the Euclidean distance to match an image $x$ of an employee entering the Power Plant with a database of facial images, $z_1, \\ldots, z_N$ of all the employees (including the employee in question) by returning the image $z_k$ with the smallest distance to $x$. The plan is to later apply a threshold to the distance to decide whether the two images are of the same person.\n",
    "\n",
    "What can go wrong with this strategy? List 5 or more potential issues."
   ]
  },
  {
   "cell_type": "markdown",
   "metadata": {},
   "source": [
    "**Your answer here**:"
   ]
  },
  {
   "cell_type": "markdown",
   "metadata": {},
   "source": [
    "### 2) An alternative cost function for linear regression [30 points]\n",
    "\n",
    "The least-squares cost function\n",
    "$$\n",
    "    J(\\theta) = \\frac{1}{2}\\sum_{i=1}^n (f_\\theta(x^{(i)}) - y^{(i)})^2\n",
    "$$\n",
    "is the workhorse of linear regression but it has a significant drawback, namely it is sensitive to 'outliers', data points that differ significantly from the rest. If the prediction, $f_\\theta(x^{(i)})$ differes considerably from the true value $y^{(i)}$, the squared difference will have a large contribution to $J(\\theta)$, magnifying the effect of outlier points. Using the absolute error $|f_\\theta(x^{(i)}) - y^{(i)})|$ instead of the squared error, reduces the effects of outliers but the price to pay is the optimization becomes more difficult.\n",
    "\n",
    "The *log-cosh* cost function\n",
    "$$\n",
    "    J(\\theta) = \\sum_{i=1}^n \\log \\cosh (f_\\theta(x^{(i)}) - y^{(i)})\n",
    "$$\n",
    "alleviates the outlier problem to some extent by behaving like the squred error when the difference between model predictions and data is small but like the absolute error when the difference is large. The log-cosh function is differentiable and can be used in gradient descent algorithms.\n",
    "\n",
    "*Note 1*: Outliers in data can arise for many reasons, they can e.g. represent faulty measurements or simply be due to high variability in the data. Detecting outliers prior to fitting a machine learning model is in general not trivial. A machine learning algorithm should preferrably be robust to the presence of (few) outliers in the data.\n",
    "\n",
    "*Note 2*: The hyperbolic cosine is defined as\n",
    "$$\n",
    "\\cosh(x) = \\frac{e^x + e^{-x}}{2}.\n",
    "$$\n",
    "For large positive or negative values of $x$ one of the exponentials becomes huge which in turn leads to floating point overflow (this happens for $|x|>700$). Instead of computing the function with `np.log(np.cosh(x))` use the following\n",
    "\n",
    "```python\n",
    "   def logcosh_stable(x):\n",
    "      return np.abs(x) + np.log1p(np.exp(-2 * np.abs(x))) - np.log(2)\n",
    "```\n",
    "\n",
    "*Note 3*: The derivative for logcosh is\n",
    "$$\n",
    "\\frac{d}{dx}(\\log \\cosh(x)) = \\tanh(x).\n",
    "$$\n",
    "The implementation of `tanh(x)` in NumPy is numerically stable and can be used as is."
   ]
  },
  {
   "cell_type": "markdown",
   "metadata": {},
   "source": [
    "**a) [20 points]** Implement the gradient descent algorithm for linear regression that uses the *log-cosh* cost function by building on the code from `week01_gradient_descent`. Your code should keep track of the objective function $J(\\theta)$ for each iteration. By plotting a graph of $J(\\theta)$ as a function of the iteration number you can identify whether the algorithm is converging and adjust the step size and max number of iterations accordingly.\n",
    "\n",
    "Test your code on the artificial outlier data set defined below using the model\n",
    "$$\n",
    "f_\\theta(x)=\\theta_0 + \\theta_1 x_1\n",
    "$$\n",
    "and compare the resulting model with the one you get with least squares regression by creating a scatter plot of the data that includes the two regression lines in the plot (see `week01_gradient_descent`)."
   ]
  },
  {
   "cell_type": "code",
   "execution_count": null,
   "metadata": {},
   "outputs": [],
   "source": [
    "import numpy as np\n",
    "\n",
    "# Create an 1D artificial data set with an outlier for testing\n",
    "n = 10\n",
    "x = np.arange(0, 1, 1/n)\n",
    "y = 2*x + 0.15*np.random.randn(n)\n",
    "y[-1] = 10 # Outlier"
   ]
  },
  {
   "cell_type": "code",
   "execution_count": null,
   "metadata": {},
   "outputs": [],
   "source": [
    "def linreg_cosh_gd(X, y, alpha, max_iter):\n",
    "\n",
    "    Jhist = np.zeros(max_iter) # History of the mean squared error\n",
    "    \n",
    "    # INSERT YOUR CODE HERE\n",
    "    \n",
    "    return theta, Jhist\n",
    "\n",
    "# Create data matrix X to account for the intercept term (theta_0)\n",
    "# INSERT YOUR CODE HERE\n",
    "\n",
    "# Fit the logcosh regression model to (X,y) and plot J and report theta values\n",
    "# INSERT YOUR CODE HERE\n",
    "\n",
    "# Fit a least squares model\n",
    "# INSERT YOUR CODE HERE\n",
    "\n",
    "# Compare the two models visually\n",
    "# INSERT YOUR CODE HERE"
   ]
  },
  {
   "cell_type": "markdown",
   "metadata": {},
   "source": [
    "What can you conclude from this (single) experiment?\n",
    "\n",
    "**Your answer here**:"
   ]
  },
  {
   "cell_type": "markdown",
   "metadata": {},
   "source": [
    "**b) [10 points]** Here you apply the method from a) to a $250 \\times 10$ regression data set (taken from Stanford's EE104 course) that has been corrupted in non obvious ways, simulating a real-world scenario with outlier data.\n",
    "\n",
    "The data is in JSON format and is read into NumPy arrays as follows."
   ]
  },
  {
   "cell_type": "code",
   "execution_count": null,
   "metadata": {},
   "outputs": [],
   "source": [
    "import codecs, json \n",
    "\n",
    "obj_text = codecs.open('data/outlier_rem.json', 'r', encoding='utf-8').read()\n",
    "obj = json.loads(obj_text)\n",
    "\n",
    "X_train = np.array(obj['U_train']['data'])\n",
    "y_train = np.array(obj['v_train']['data'])\n",
    "X_test = np.array(obj['U_test']['data'])\n",
    "y_test = np.array(obj['v_test']['data'])"
   ]
  },
  {
   "cell_type": "markdown",
   "metadata": {},
   "source": [
    "Fit a regression model, without a constant term (intercept),\n",
    "$$\n",
    "y = \\theta_1 x_1 + \\theta_2 x_2 + \\ldots + \\theta_{10} x_{10}\n",
    "$$\n",
    "using the log-cosh objective to the corrupted data in (X_train, y_train). Compute model predictions for the values in X_test, $\\hat{y} = X_{\\text{test}} \\theta$ and compute the root-mean-square error (RMSE) between the true values and predictions,\n",
    "$$\n",
    "\\text{RMSE} = \\sqrt{\\frac{1}{n}\\sum_{i=1}^n (\\hat{y}^{(i)} - y^{(i)})^2}.\n",
    "$$\n",
    "Repeat using least squares regression and report the RMSE errors of the two methods.\n",
    " \n",
    "*Note*: The values in (X_test,y_test) were not used to fit the models, hence they provide independent means to assess the quality of the models."
   ]
  },
  {
   "cell_type": "code",
   "execution_count": null,
   "metadata": {},
   "outputs": [],
   "source": [
    "# INSERT YOUR CODE HERE"
   ]
  },
  {
   "cell_type": "markdown",
   "metadata": {},
   "source": [
    "Which method performs better?\n",
    "\n",
    "**Your answer here**:"
   ]
  },
  {
   "cell_type": "markdown",
   "metadata": {},
   "source": [
    "### 3) Linear regression with stochastic gradient descent, [50 points] \n",
    "\n",
    "Here you implement stochastic gradient descent (SGD) for linear least squares regression using only NumPy functionality.\n",
    "\n",
    "The model is on the form\n",
    "$$\n",
    "f_\\theta(x)=\\theta_0 + \\sum_{j=1}^p \\theta_j x_j.\n",
    "$$\n",
    "\n",
    "The following SGD algorithm was presented in class:\n",
    "\n",
    "Iterate $k=1,2,\\ldots,k_{max}$\n",
    "\n",
    "> Select $i$ uniformly at random from from $[1,\\ldots,n]$\n",
    "$$\n",
    " \\theta_j^{(k)} \\leftarrow \\theta_j^{(k-1)} - \\alpha_k \\frac{\\partial \\ell^{(i)} (\\theta_j^{(k-1)})}{\\partial \\theta_j},\\qquad j=1,\\ldots,p\n",
    "$$\n",
    "\n",
    "It turns out that it is more efficient (as in faster convergence) to iterate through the complete data set a number of times such that before each iteration the dataset is reshuffled (randomly permuted). Each pass is called on *epoch* and the number of epochs is a hyperparameter which controls for how long the algorithm is trained (more on this later in the course). You will implement the following strategy below ($n$ denotes the number of examples in the data set)\n",
    "\n",
    "```python\n",
    "for epoch = 1 to num_epochs\n",
    "   idx = random permutation of integers 1...n\n",
    "   for j = 1 to n\n",
    "      i = idx[j]\n",
    "      Update weights using formula above\n",
    "```\n",
    "See the gradient descent code in the Jupyter notebook `week01_gradient_descent` on Canvas to get you started."
   ]
  },
  {
   "cell_type": "markdown",
   "metadata": {},
   "source": [
    "**a) [30 points]** Fill in the `LinearRegressionSGD` class below by adding code to the `fit` and `predict` functions. The `fit` function computes the coefficients in a linear regression model using SGD and `predict` computes the model predictions. Keep track of the objective function values $J(\\theta)$ computed during each epoch. This is necessary for troubleshooting the training procedure.\n",
    "\n",
    "Plot $J(\\theta)$ as a function of epochs and report the $\\theta$-values for the given \"toy\" data set, for hyper-parameters `alpha=0.91` (not a very good value chosen on purpose) and `num_epochs=20`.\n",
    "\n",
    "*Notes*:\n",
    "\n",
    "1) Since the data is generated we know the true values - in practice this is never the case.\n",
    "\n",
    "2) You can use the `linear_reg` dataset used in the `week01_gradient_descent` notebook to get started. Write the $\\theta$ values to the screen every epoch (or every 5th or 10th or ...) to monitor convergence.\n",
    "\n",
    "3) During development you may find it convenient to work with the fit and predict code \"directly\", before implementing them as class functions. This enables you to focus on the learning algorithm first and dealing with Python class formalities later.\n",
    "\n",
    "4) You can use e.g., `numpy.random.shuffle` or `numpy.random.permutation` to generate random permutations of integers.\n",
    "\n",
    "5) (Optional) A discussion on the effects of different randomization strategies on SGD: https://stats.stackexchange.com/questions/242004/why-do-neural-network-researchers-care-about-epochs)"
   ]
  },
  {
   "cell_type": "code",
   "execution_count": null,
   "metadata": {},
   "outputs": [],
   "source": [
    "import numpy as np\n",
    "import matplotlib.pyplot as plt\n",
    "\n",
    "class LinearRegressionSGD(object):\n",
    "    def __init__(self, include_intercept=True, max_iter=100):\n",
    "        self.theta = None # Stores model coefficients\n",
    "\n",
    "    def fit(self, X, y, alpha=0.1, num_epochs=1):\n",
    "        ''' Fits a linear model using stochastic gradient descent.\n",
    "\n",
    "        Inputs\n",
    "        ------\n",
    "        X : 2D numpy array, shape (n, p), containing the training set\n",
    "            Each row is an input vector for one example.\n",
    "        y : 1D numpy array, shape (n,)\n",
    "            Output measurements for all examples in the train set.\n",
    "        alpha : Learning rate (a.k.a. step size).\n",
    "        num_epochs : Number of passes through the training set.\n",
    "                     The number of SGD weight updates is n*num_epochs.\n",
    "\n",
    "        Returns an array containing the squared loss for each epoch.\n",
    "\n",
    "        Post\n",
    "        ----\n",
    "        self.theta vector, shape (p,) has been updated.\n",
    "        '''\n",
    "\n",
    "        n, p = X.shape\n",
    "        self.theta = np.zeros(p) # Starting point\n",
    "        J = np.zeros(num_epochs)\n",
    "        \n",
    "        # INSERT YOUR CODE HERE\n",
    "        \n",
    "        return J\n",
    "\n",
    "    def predict(self, X):\n",
    "        ''' Predict using the linear model.\n",
    "\n",
    "        Input\n",
    "        -----\n",
    "        X : 2D numpy array, shape (n, p) containing the examples of interest.\n",
    "            Each row is a feature vector for one example.\n",
    "        \n",
    "        Output\n",
    "        ------\n",
    "        yhat : 1D numpy array, shape (n,) containing the predictions for the inputs.\n",
    "        '''\n",
    "        \n",
    "        # INSERT YOUR CODE HERE\n",
    "        \n",
    "        pass # Replace with a return statement\n",
    "    \n",
    "# Create a simple 1D data set to test your implementation\n",
    "n = 50\n",
    "x = np.linspace(0, 1, n)\n",
    "y = 2 * x + 5 + 0.75 * np.random.randn(n)\n",
    "\n",
    "# INSERT YOUR CODE HERE"
   ]
  },
  {
   "cell_type": "markdown",
   "metadata": {},
   "source": [
    "**Your answer here**:\n",
    "\n",
    "The value of $\\theta$ obtained with SGD:"
   ]
  },
  {
   "cell_type": "markdown",
   "metadata": {},
   "source": [
    "**b) [10 points]** Find a value of the `alpha` and `num_epochs` parameters that give a better fit and plot the corresponding $J(\\theta)$."
   ]
  },
  {
   "cell_type": "code",
   "execution_count": null,
   "metadata": {},
   "outputs": [],
   "source": [
    "### INSERT YOUR CODE HERE"
   ]
  },
  {
   "cell_type": "markdown",
   "metadata": {},
   "source": [
    "**c) [10 points]** Now apply the above algorithm to a real world housing dataset. The dataset contains $n=20640$ observations where each observation has $p=8$ features. Fit a model on the form\n",
    "$$\n",
    "y = \\theta_0 + \\theta_1 x_1 + \\ldots + \\theta_8 x_8\n",
    "$$\n",
    "Start by solving the regression problem via the normal equations (`numpy.linalg.lstsq`) to have a point of reference.\n",
    "\n",
    "**Note**: (Optional): A description of the data set can be found here: https://inria.github.io/scikit-learn-mooc/python_scripts/datasets_california_housing.html"
   ]
  },
  {
   "cell_type": "code",
   "execution_count": null,
   "metadata": {},
   "outputs": [],
   "source": [
    "from sklearn.datasets import fetch_california_housing\n",
    "X, y = fetch_california_housing(return_X_y=True)\n",
    "\n",
    "# INSERT CODE HERE"
   ]
  },
  {
   "cell_type": "markdown",
   "metadata": {},
   "source": [
    "You may have problems finding a learning rate that gives good results (compare to the values obtained via the normal equations). You therefore need to take a closer look at the data, in particular the average of feature values over all the examples"
   ]
  },
  {
   "cell_type": "code",
   "execution_count": null,
   "metadata": {},
   "outputs": [],
   "source": [
    "print(np.mean(X, axis=0))"
   ]
  },
  {
   "cell_type": "markdown",
   "metadata": {},
   "source": [
    "What do the averages tell you, how is the SGD likely to be affected, and what can be done to remedy it?\n",
    "\n",
    "**Your answer here**: "
   ]
  }
 ],
 "metadata": {
  "kernelspec": {
   "display_name": "Python 3 (ipykernel)",
   "language": "python",
   "name": "python3"
  },
  "language_info": {
   "codemirror_mode": {
    "name": "ipython",
    "version": 3
   },
   "file_extension": ".py",
   "mimetype": "text/x-python",
   "name": "python",
   "nbconvert_exporter": "python",
   "pygments_lexer": "ipython3",
   "version": "3.9.13"
  }
 },
 "nbformat": 4,
 "nbformat_minor": 2
}
