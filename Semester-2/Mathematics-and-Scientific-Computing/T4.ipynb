{
 "cells": [
  {
   "cell_type": "code",
   "execution_count": 3,
   "metadata": {},
   "outputs": [
    {
     "name": "stdout",
     "output_type": "stream",
     "text": [
      "(1, 8, 4, 7, 4, 6, 0)\n",
      "{0, 1, 4, 6, 7, 8}\n",
      "[0, 1, 4, 4, 6, 7, 8]\n",
      "['Afi', 'minn', 'og', 'amma', 'mín']\n"
     ]
    }
   ],
   "source": [
    "def tuple1(n):\n",
    "    return tuple(n)\n",
    "\n",
    "def set1(n):\n",
    "    return set(n)\n",
    "\n",
    "def sorted1(n):\n",
    "    return sorted(n)\n",
    "\n",
    "\n",
    "listi = [1,8,4,7,4,6,0]\n",
    "print(tuple1(listi))\n",
    "print(set1(listi))\n",
    "print(sorted1(listi))\n",
    "\n",
    "print((\"Afi minn og amma mín\").split())"
   ]
  },
  {
   "cell_type": "code",
   "execution_count": 2,
   "metadata": {},
   "outputs": [
    {
     "name": "stdout",
     "output_type": "stream",
     "text": [
      "['a', 'b', 'c']\n"
     ]
    }
   ],
   "source": [
    "L = list(\"abc\")\n",
    "print(L)"
   ]
  },
  {
   "cell_type": "code",
   "execution_count": 4,
   "metadata": {},
   "outputs": [
    {
     "name": "stdout",
     "output_type": "stream",
     "text": [
      "{0: 0, 1: -1, 2: 0, 3: 3, 4: 8, 5: 15}\n"
     ]
    }
   ],
   "source": [
    "formengi = [0,1,2,3,4,5]\n",
    "d = dict()\n",
    "for i in formengi:\n",
    "    xjafna = i**2-2*i\n",
    "    d[i]=xjafna\n",
    "print(d)\n"
   ]
  },
  {
   "cell_type": "code",
   "execution_count": 20,
   "metadata": {},
   "outputs": [
    {
     "name": "stdout",
     "output_type": "stream",
     "text": [
      "{0: 'Garðabær', 1: 'Hafnarfjörður', 2: 'Kópavogur', 3: 'Mosfellsbær', 4: 'Reykjavík', 5: 'Seltjarnarnes'}\n"
     ]
    }
   ],
   "source": [
    "svaedi = [\"Reykjavík\", \"Seltjarnarnes\", \"Mosfellsbær\", \"Kópavogur\", \"Garðabær\", \"Hafnarfjörður\"]\n",
    "svaedi = sorted(svaedi)\n",
    "d = {}\n",
    "i=0\n",
    "while i<len(svaedi):\n",
    "    d[i] = svaedi[i]\n",
    "    i+=1\n",
    "    \n",
    "print(d)"
   ]
  },
  {
   "cell_type": "code",
   "execution_count": 47,
   "metadata": {},
   "outputs": [
    {
     "name": "stdout",
     "output_type": "stream",
     "text": [
      "{'0176': 'Kjartan', '0542': 'Aðalheiður', '0970': 'Sigrún', '1419': 'Erla', '1577': 'Hulda', '2785': 'Bjarki', '4218': 'Kristín', '4854': 'Anton', '5469': 'Íris', '6324': 'Ívar', '6558': 'Ágúst', '7923': 'Steinunn', '8003': 'Eydís', '8148': 'Signý', '8492': 'Andri', '9058': 'Elías', '9134': 'Birta'}\n",
      "{'0176': 'Kjartan', '0542': 'Aðalheiður', '0970': 'Sigrún', '1419': 'Erla', '1577': 'Hulda', '2785': 'Bjarki', '4218': 'Kristín', '4854': 'Anton', '5469': 'Íris', '6324': 'Ívar', '6558': 'Ágúst', '7923': 'Steinunn', '8003': 'Eydís', '8148': 'Signý', '8492': 'Andri', '9058': 'Elías', '9134': 'Birta'}\n",
      "dict_keys(['0176', '0542', '0970', '1419', '1577', '2785', '4218', '4854', '5469', '6324', '6558', '7923', '8003', '8148', '8492', '9058', '9134'])\n"
     ]
    },
    {
     "ename": "TypeError",
     "evalue": "list indices must be integers or slices, not str",
     "output_type": "error",
     "traceback": [
      "\u001b[0;31m---------------------------------------------------------------------------\u001b[0m",
      "\u001b[0;31mTypeError\u001b[0m                                 Traceback (most recent call last)",
      "Cell \u001b[0;32mIn[47], line 22\u001b[0m\n\u001b[1;32m     20\u001b[0m \u001b[39mfor\u001b[39;00m i \u001b[39min\u001b[39;00m tafla:\n\u001b[1;32m     21\u001b[0m     \u001b[39mfor\u001b[39;00m j \u001b[39min\u001b[39;00m profnumer:\n\u001b[0;32m---> 22\u001b[0m         \u001b[39mif\u001b[39;00m \u001b[39mlist\u001b[39;49m(tafla\u001b[39m.\u001b[39;49mkeys())[i] \u001b[39m==\u001b[39m \u001b[39mint\u001b[39m(profnumer[j]):\n\u001b[1;32m     23\u001b[0m             \u001b[39mprint\u001b[39m(tafla[i], profnumer[j], einkunn[j])\n",
      "\u001b[0;31mTypeError\u001b[0m: list indices must be integers or slices, not str"
     ]
    }
   ],
   "source": [
    "from urllib.request import urlopen\n",
    "f = urlopen(\"https://cs.hi.is/python/profnumer.txt\")\n",
    "tafla = {}\n",
    "for lína in f:\n",
    "   (prófnúmer, skírnarnafn) = lína.decode().split()\n",
    "   tafla[prófnúmer] = skírnarnafn\n",
    "print(tafla)\n",
    "s = urlopen(\"https://cs.hi.is/python/profnumer.txt\")\n",
    "tafla1 = {}\n",
    "for lína in s:\n",
    "   (prófnúmer,skírnarnafn) = lína.decode().split()\n",
    "   tafla1[prófnúmer] = skírnarnafn\n",
    "print(tafla1)\n",
    "\n",
    "profnumer = \"176,  542, 1577, 2785, 4218, 6354, 8003, 9134\".split(\", \")\n",
    "profnumer = [eval(i) for i in profnumer]\n",
    "einkunn = \"8.5, 10.0,  4.5,  9.0,  7.5,  6.0,  8.5,  8.0\".split(\", \")\n",
    "einkunn = [eval(i) for i in einkunn]\n",
    "print(tafla.keys())\n",
    "for i in tafla:\n",
    "    for j in profnumer:\n",
    "        if list(tafla.keys())[i] == int(profnumer[j]):\n",
    "            print(tafla[i], profnumer[j], einkunn[j])\n",
    "    \n",
    "\n",
    "\n",
    "\n"
   ]
  }
 ],
 "metadata": {
  "kernelspec": {
   "display_name": "Python 3",
   "language": "python",
   "name": "python3"
  },
  "language_info": {
   "codemirror_mode": {
    "name": "ipython",
    "version": 3
   },
   "file_extension": ".py",
   "mimetype": "text/x-python",
   "name": "python",
   "nbconvert_exporter": "python",
   "pygments_lexer": "ipython3",
   "version": "3.11.1 (main, Dec 23 2022, 09:28:24) [Clang 14.0.0 (clang-1400.0.29.202)]"
  },
  "orig_nbformat": 4,
  "vscode": {
   "interpreter": {
    "hash": "5c7b89af1651d0b8571dde13640ecdccf7d5a6204171d6ab33e7c296e100e08a"
   }
  }
 },
 "nbformat": 4,
 "nbformat_minor": 2
}
