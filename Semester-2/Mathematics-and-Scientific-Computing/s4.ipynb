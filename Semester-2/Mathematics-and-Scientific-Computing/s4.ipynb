{
 "cells": [
  {
   "cell_type": "code",
   "execution_count": 1,
   "metadata": {},
   "outputs": [
    {
     "name": "stdout",
     "output_type": "stream",
     "text": [
      "Sorted Array in Ascending Order:\n",
      "[2, 3, 8]\n"
     ]
    }
   ],
   "source": [
    "def shellSort(array, n):\n",
    "\n",
    "    interval = n // 2\n",
    "    while interval > 0:\n",
    "        for i in range(interval, n):\n",
    "            temp = array[i]\n",
    "            j = i\n",
    "            while j >= interval and array[j - interval] > temp:\n",
    "                array[j] = array[j - interval]\n",
    "                j -= interval\n",
    "\n",
    "            array[j] = temp\n",
    "        interval //= 2\n",
    "\n",
    "\n",
    "data = [8,3,2]\n",
    "data2 = [8,5,1,9,6,2,1,7,11,3]\n",
    "data3 = [12,24,60,69,96,42,13,37]\n",
    "size1, size2, size3 = len(data), len(data2), len(data3)\n",
    "shellSort(data, size1)\n",
    "print('Sorted Array in Ascending Order:')\n",
    "print(data)"
   ]
  },
  {
   "cell_type": "code",
   "execution_count": 40,
   "metadata": {},
   "outputs": [
    {
     "name": "stdout",
     "output_type": "stream",
     "text": [
      "abba abbadís abbadísar abbadísarinnar abbadísartíð \n",
      "217106 alþjóðaheilbrigðisstofnunarinnar\n",
      "217106 alþjóðasiglingamálastofnunarinnar\n",
      "217106 atvinnuleysistryggingasjóðurinn\n",
      "217106 barónessunni\n",
      "217106 bókmenntaheimurinn\n",
      "217106 eldvarpa\n",
      "217106 flugslysarannsóknarnefndarinnar\n",
      "217106 flögrað\n",
      "217106 galdrakerlingin\n",
      "217106 hafnarverkamannsins\n",
      "217106 hnýtta\n",
      "217106 illkvittnislega\n",
      "217106 konunglegan\n",
      "217106 leiðbeiningu\n",
      "217106 margnefndi\n",
      "217106 nemann\n",
      "217106 norðuratlantshafssjávarspendýraráðsins\n",
      "217106 norðurheimskautsrannsóknaráðsins\n",
      "217106 ramman\n",
      "217106 sandhólum\n",
      "217106 skynsemd\n",
      "217106 stjórnarþátttöku\n",
      "217106 sólarhofsins\n",
      "217106 teiknimyndaævintýrapoppálfkonan\n",
      "217106 tötralegum\n",
      "217106 veðurratsjá\n",
      "217106 árásargjörn\n",
      "217106 útdauðar\n"
     ]
    }
   ],
   "source": [
    "from urllib.request import urlopen\n",
    "f = urlopen(\"https://cs.hi.is/python/ord.txt\")\n",
    "ordList = []\n",
    "\n",
    "for line in f:\n",
    "   ordList.append(line.decode().strip())\n",
    "\n",
    "fimmOrd = \"\"\n",
    "for i in range(5):\n",
    "    fimmOrd += ordList[i] + \" \"\n",
    "\n",
    "print(fimmOrd)\n",
    "\n",
    "for k,i in enumerate(ordList, 1):\n",
    "    if k % 10000 == 0 or len(i) > 30:\n",
    "        print(f'{count:6}', i)"
   ]
  },
  {
   "cell_type": "code",
   "execution_count": 52,
   "metadata": {},
   "outputs": [
    {
     "name": "stdout",
     "output_type": "stream",
     "text": [
      "{'0176': '7.0', '0542': '8.0', '0970': '9.5', '1419': '6.5', '1577': '7.0', '2785': '9.0', '4218': '7.0', '4854': '9.0', '5469': '10.0', '6324': '6.5', '6558': '8.5', '7923': '5.5', '8003': '9.5', '8148': '5.0', '8492': '7.5', '9058': '7.5', '9134': '8.0', '9158': '8.0', '9340': '6.5', '9572': '8.0', '9576': '5.5', '9595': '8.5', '9649': '6.5', '9706': '9.0'}\n",
      "{'0176': 'Kjartan Valur Jónsson', '0542': 'Aðalheiður Pétursdóttir', '0970': 'Sigrún Ása Jónsdóttir', '1419': 'Erla Ýr Guðnadóttir', '1577': 'Hulda Ósk Jónasdóttir', '2785': 'Bjarki Már Sveinsson', '4218': 'Kristín Fjóludóttir', '4854': 'Anton Ingi Þórsson', '5469': 'Íris María Birgisdóttir', '6324': 'Ívar Sigurðsson', '6558': 'Ágúst Guðni Ingason', '7923': 'Steinunn Guðlaug Gunnarsdóttir', '8003': 'Eydís Þorsteinsdóttir', '8148': 'Signý Guðrún Pálsdóttir', '8492': 'Andri Oddur Steinarsson', '9058': 'Elías Ari Heimisson', '9134': 'Birta Lárusdóttir', '9158': 'Anna Sveinbjörnsdóttir', '9340': 'Bjarni Rúnar Kjartansson', '9572': 'Arna Þórisdóttir', '9576': 'Mark Johnson', '9595': 'Víðir Kristjánsson', '9649': 'Anna Kristinsdóttir', '9706': 'Jónas Valdimarsson'}\n"
     ]
    }
   ],
   "source": [
    "f = urlopen(\"https://cs.hi.is/python/einkunn.txt\")\n",
    "\n",
    "for line in f:\n",
    "    (tala, einkunn) = line.decode().strip().split()\n",
    "    einkunnir[tala] = einkunn\n",
    "print(einkunnir)\n",
    "\n",
    "f = urlopen(\"https://cs.hi.is/python/nofn.txt\")\n",
    "\n",
    "for line in f:\n",
    "    (tala,nafn) = line.decode().strip().split(maxsplit=1)\n",
    "    nofn[tala] = nafn\n",
    "print(nofn)"
   ]
  },
  {
   "cell_type": "code",
   "execution_count": 53,
   "metadata": {},
   "outputs": [
    {
     "name": "stdout",
     "output_type": "stream",
     "text": [
      "0176 7.0 Kjartan Valur Jónsson\n",
      "0542 8.0 Aðalheiður Pétursdóttir\n",
      "0970 9.5 Sigrún Ása Jónsdóttir\n",
      "1419 6.5 Erla Ýr Guðnadóttir\n",
      "1577 7.0 Hulda Ósk Jónasdóttir\n",
      "2785 9.0 Bjarki Már Sveinsson\n",
      "4218 7.0 Kristín Fjóludóttir\n",
      "4854 9.0 Anton Ingi Þórsson\n",
      "5469 10.0 Íris María Birgisdóttir\n",
      "6324 6.5 Ívar Sigurðsson\n",
      "6558 8.5 Ágúst Guðni Ingason\n",
      "7923 5.5 Steinunn Guðlaug Gunnarsdóttir\n",
      "8003 9.5 Eydís Þorsteinsdóttir\n",
      "8148 5.0 Signý Guðrún Pálsdóttir\n",
      "8492 7.5 Andri Oddur Steinarsson\n",
      "9058 7.5 Elías Ari Heimisson\n",
      "9134 8.0 Birta Lárusdóttir\n",
      "9158 8.0 Anna Sveinbjörnsdóttir\n",
      "9340 6.5 Bjarni Rúnar Kjartansson\n",
      "9572 8.0 Arna Þórisdóttir\n",
      "9576 5.5 Mark Johnson\n",
      "9595 8.5 Víðir Kristjánsson\n",
      "9649 6.5 Anna Kristinsdóttir\n",
      "9706 9.0 Jónas Valdimarsson\n"
     ]
    }
   ],
   "source": [
    "for i in einkunnir:\n",
    "    print(i,einkunnir[i], nofn[i])"
   ]
  },
  {
   "cell_type": "code",
   "execution_count": 86,
   "metadata": {},
   "outputs": [
    {
     "name": "stdout",
     "output_type": "stream",
     "text": [
      "Íris María Birgisdóttir var með hæstu einkunn: 10.0\n"
     ]
    }
   ],
   "source": [
    "def highest(eink,nafn):\n",
    "    highestGrade = 0\n",
    "    highestName = 0\n",
    "    for i in eink:\n",
    "        if (float(eink[i]) > highestGrade):\n",
    "            highestGrade = float(eink[i])\n",
    "            highestName = i\n",
    "    print(f'{nafn[highestName]} var með hæstu einkunn: {highestGrade}')\n",
    "\n",
    "highest(einkunnir,nofn)"
   ]
  }
 ],
 "metadata": {
  "kernelspec": {
   "display_name": "Python 3",
   "language": "python",
   "name": "python3"
  },
  "language_info": {
   "codemirror_mode": {
    "name": "ipython",
    "version": 3
   },
   "file_extension": ".py",
   "mimetype": "text/x-python",
   "name": "python",
   "nbconvert_exporter": "python",
   "pygments_lexer": "ipython3",
   "version": "3.11.1"
  },
  "orig_nbformat": 4,
  "vscode": {
   "interpreter": {
    "hash": "5c7b89af1651d0b8571dde13640ecdccf7d5a6204171d6ab33e7c296e100e08a"
   }
  }
 },
 "nbformat": 4,
 "nbformat_minor": 2
}
