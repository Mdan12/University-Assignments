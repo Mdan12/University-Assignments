{
 "cells": [
  {
   "cell_type": "code",
   "execution_count": 6,
   "metadata": {},
   "outputs": [
    {
     "name": "stdout",
     "output_type": "stream",
     "text": [
      "Það er engin lausn\n"
     ]
    }
   ],
   "source": [
    "import math\n",
    "\n",
    "a = int(input(\"Veldu tölu: \"))\n",
    "b = int(input(\"Veldu tölu: \"))\n",
    "c = int(input(\"Veldu tölu: \"))\n",
    "\n",
    "d = (b**2 - (4 * a * c))\n",
    "\n",
    "if a==0:\n",
    "    print(\"Þetta er línuleg jafna með lausnina: \",)\n",
    "\n",
    "elif d<0:\n",
    "    print(\"Það er engin lausn\")\n",
    "else:\n",
    "    print(\"Fyrri lausn er: \", (-b + math.sqrt(d))/(2*a))\n",
    "    print(\"Seinni lausn er: \", (-b - math.sqrt(d))/(2*a))"
   ]
  },
  {
   "cell_type": "code",
   "execution_count": 7,
   "metadata": {},
   "outputs": [
    {
     "name": "stdout",
     "output_type": "stream",
     "text": [
      "0.6586304715647094 1.7272219045575168\n"
     ]
    }
   ],
   "source": [
    "def trap1(f,a,b,n):\n",
    "    '''heildi f frá a til b með ósamsettri trapisureglu'''\n",
    "   \n",
    "    s = f(a)+f(b)\n",
    "    dx = (b-a)/n\n",
    "    for i in range (1,n):\n",
    "        xi = a+i*dx\n",
    "        s += 2*f(xi)\n",
    "    return dx/2*s\n",
    "\n",
    "\n",
    "from math import sin, e\n",
    "def g(x): return sin(x)/x\n",
    "def h(x): return e**x\n",
    "\n",
    "I1 = trap1(g,1,2,4)\n",
    "I2 = trap1(h,0,1,4)\n",
    "print(I1, I2)\n"
   ]
  },
  {
   "cell_type": "code",
   "execution_count": 2,
   "metadata": {},
   "outputs": [
    {
     "name": "stdout",
     "output_type": "stream",
     "text": [
      "1\n"
     ]
    }
   ],
   "source": [
    "def krot(a):\n",
    "    x=1\n",
    "    while True:\n",
    "        print(x)\n",
    "        y = (x + a/x) / 2\n",
    "        if abs(y-x)<10:\n",
    "            break\n",
    "        x = y\n",
    "krot(10)"
   ]
  },
  {
   "cell_type": "code",
   "execution_count": 2,
   "metadata": {},
   "outputs": [
    {
     "name": "stdout",
     "output_type": "stream",
     "text": [
      "1\n",
      "5.5\n",
      "3.659090909090909\n",
      "3.196005081874647\n",
      "3.16245562280389\n",
      "5\n"
     ]
    }
   ],
   "source": [
    "def krot(a, eps):\n",
    "    x=1\n",
    "    counter=1\n",
    "    while True:\n",
    "        print(x)\n",
    "        y = (x + a/x) / 2\n",
    "        if abs(y-x)<eps:\n",
    "            break\n",
    "        x = y\n",
    "        counter+=1\n",
    "    print(lol)\n",
    "krot(10, 0.001)"
   ]
  },
  {
   "cell_type": "code",
   "execution_count": 7,
   "metadata": {},
   "outputs": [
    {
     "name": "stdout",
     "output_type": "stream",
     "text": [
      "(3.276608177155967, 2.294305745404184)\n",
      "(35.0, 3.9999999999999996)\n"
     ]
    }
   ],
   "source": [
    "def pol2rec(r,theta):\n",
    "    x= r*math.cos(math.radians(theta))\n",
    "    y= r*math.sin(math.radians(theta))\n",
    "    return x, y\n",
    "pol2recanswer = pol2rec(4,35)\n",
    "print(pol2recanswer)\n",
    "\n",
    "\n",
    "\n",
    "def rec2pol(x,y):\n",
    "    theta = (math.atan2(y,x)) *180/math.pi\n",
    "    r = math.sqrt((x**2) + (y**2))\n",
    "    return theta, r\n",
    "\n",
    "print(rec2pol(pol2recanswer[0], pol2recanswer[1]))\n",
    "\n",
    "\n"
   ]
  }
 ],
 "metadata": {
  "kernelspec": {
   "display_name": "Python 3",
   "language": "python",
   "name": "python3"
  },
  "language_info": {
   "codemirror_mode": {
    "name": "ipython",
    "version": 3
   },
   "file_extension": ".py",
   "mimetype": "text/x-python",
   "name": "python",
   "nbconvert_exporter": "python",
   "pygments_lexer": "ipython3",
   "version": "3.11.1 (main, Dec 23 2022, 09:28:24) [Clang 14.0.0 (clang-1400.0.29.202)]"
  },
  "orig_nbformat": 4,
  "vscode": {
   "interpreter": {
    "hash": "5c7b89af1651d0b8571dde13640ecdccf7d5a6204171d6ab33e7c296e100e08a"
   }
  }
 },
 "nbformat": 4,
 "nbformat_minor": 2
}
