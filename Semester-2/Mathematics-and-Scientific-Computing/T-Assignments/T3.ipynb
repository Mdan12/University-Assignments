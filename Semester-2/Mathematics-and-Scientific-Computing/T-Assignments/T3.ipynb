{
 "cells": [
  {
   "cell_type": "code",
   "execution_count": 1,
   "metadata": {},
   "outputs": [
    {
     "name": "stdout",
     "output_type": "stream",
     "text": [
      "[2, 3, 4, 1]\n"
     ]
    }
   ],
   "source": [
    "def headlast(L):\n",
    "    L.append(L[0])\n",
    "    L.pop(0)\n",
    "    return L\n",
    "L = [1,2,3,4]\n",
    "print(headlast(L))"
   ]
  },
  {
   "cell_type": "code",
   "execution_count": 15,
   "metadata": {},
   "outputs": [
    {
     "name": "stdout",
     "output_type": "stream",
     "text": [
      "[4, 3, 2, 1]\n"
     ]
    }
   ],
   "source": [
    "def reverse(L):\n",
    "    n = len(L)\n",
    "    M = []\n",
    "    for i in L[::-1]:\n",
    "        M.append(L[i-1])\n",
    "    return M\n",
    "print(reverse([1,2,3,4]))"
   ]
  },
  {
   "cell_type": "code",
   "execution_count": 49,
   "metadata": {},
   "outputs": [
    {
     "name": "stdout",
     "output_type": "stream",
     "text": [
      "(4.5, 3.0)\n"
     ]
    }
   ],
   "source": [
    "from math import sqrt\n",
    "\n",
    "def statistic(x):\n",
    "    n = len(x)\n",
    "    m = sum(x)*(1/n)\n",
    "    sum1 = 0\n",
    "    for i in x:   \n",
    "        sum1 += (i-m)**2\n",
    "    s = sqrt((1/(n-1))*sum1)\n",
    "    return m, s\n",
    "x = [3,7,7,4]\n",
    "print(statistic(x))"
   ]
  },
  {
   "cell_type": "code",
   "execution_count": 51,
   "metadata": {},
   "outputs": [
    {
     "name": "stdout",
     "output_type": "stream",
     "text": [
      "[1, 2, 3, 4, 5, 8]\n"
     ]
    }
   ],
   "source": [
    "def insertion(L):\n",
    "    i = 1\n",
    "    while i < len(L):\n",
    "        j = i\n",
    "        while j>0 and L[j-1]>L[j]:\n",
    "            L[j], L[j-1] = L[j-1], L[j]\n",
    "            j -=1\n",
    "        i+=1\n",
    "    return L\n",
    "L = [3,8,1,2,5,4]\n",
    "print(insertion(L))"
   ]
  }
 ],
 "metadata": {
  "kernelspec": {
   "display_name": "Python 3",
   "language": "python",
   "name": "python3"
  },
  "language_info": {
   "codemirror_mode": {
    "name": "ipython",
    "version": 3
   },
   "file_extension": ".py",
   "mimetype": "text/x-python",
   "name": "python",
   "nbconvert_exporter": "python",
   "pygments_lexer": "ipython3",
   "version": "3.11.1 (main, Dec 23 2022, 09:28:24) [Clang 14.0.0 (clang-1400.0.29.202)]"
  },
  "orig_nbformat": 4,
  "vscode": {
   "interpreter": {
    "hash": "5c7b89af1651d0b8571dde13640ecdccf7d5a6204171d6ab33e7c296e100e08a"
   }
  }
 },
 "nbformat": 4,
 "nbformat_minor": 2
}
