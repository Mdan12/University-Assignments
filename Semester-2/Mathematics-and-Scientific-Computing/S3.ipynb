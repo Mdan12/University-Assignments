{
 "cells": [
  {
   "attachments": {},
   "cell_type": "markdown",
   "metadata": {},
   "source": [
    "Skrifið fall telja(s) sem byrjar á nota s.split() til að búa til lista af einstökum orðum í s og telur síðan hve margir stafir eru í hverju orði. Fallið á að skila lista með þessari talningu. Þannig ætti\n",
    "\n",
    "telja(\"Afi minn og amma mín\")\n",
    "\n",
    "að skila listanum [3,4,2,4,3]. Prófið líka að telja stafi í nafninu ykkar (t.d. telja(\"Kristján Jónasson\")). Líklega borgar sig að búa fyrst til tóman lista og fara svo í lykkju og bæta nýrri talningu afast í listann í hverri umferð (t.d. með append).\n"
   ]
  },
  {
   "cell_type": "code",
   "execution_count": 4,
   "metadata": {},
   "outputs": [
    {
     "name": "stdout",
     "output_type": "stream",
     "text": [
      "[3, 4, 2, 4, 3]\n",
      "[6, 6, 5, 9]\n"
     ]
    }
   ],
   "source": [
    "def telja(s):\n",
    "    s = s.split(\" \")\n",
    "    listi = []\n",
    "    for i in s:\n",
    "        listi.append(len(i))\n",
    "    return listi\n",
    "\n",
    "\n",
    "print(telja(\"Afi minn og amma mín\"))\n",
    "print(telja(\"Magnús Daníel Budai Einarsson\"))"
   ]
  },
  {
   "attachments": {},
   "cell_type": "markdown",
   "metadata": {},
   "source": [
    "Búið til fall hrópa(s) sem skrifar s út með stórum stöfum og tveimur upphrópunarmerkjum. Hrópið svo nafnið ykkar :)"
   ]
  },
  {
   "cell_type": "code",
   "execution_count": 7,
   "metadata": {},
   "outputs": [
    {
     "name": "stdout",
     "output_type": "stream",
     "text": [
      "MAGNUS DANIEL EINARSSON!!\n"
     ]
    }
   ],
   "source": [
    "def hropa(s):\n",
    "    return s.upper() + \"!!\"\n",
    "\n",
    "print(hropa(\"Magnus Daniel Einarsson\"))"
   ]
  },
  {
   "attachments": {},
   "cell_type": "markdown",
   "metadata": {},
   "source": [
    "Til að athuga hvort stafur c sé hástafur má spyrja: c == c.upper(). Skrifið fall stórir(s) sem skilar lista af rökgildum með i-ta gildið satt ef i-ta orðið í s byrjar á stórum staf. Prófið með sjálfvöldu dæmi og sýnið niðurstöðuna."
   ]
  },
  {
   "cell_type": "code",
   "execution_count": 16,
   "metadata": {},
   "outputs": [
    {
     "name": "stdout",
     "output_type": "stream",
     "text": [
      "False\n"
     ]
    }
   ],
   "source": [
    "def upper(s):\n",
    "    return s == s.upper()\n",
    "print(upper(\"Magnus Daniel Einarsson\"))"
   ]
  },
  {
   "attachments": {},
   "cell_type": "markdown",
   "metadata": {},
   "source": [
    "1. Eftirfarandi formúlu má nota til að nálga afleiðu falls í punkti a:\n",
    "$f'(a) \\approx \\frac{f(a+h) - f(a-h)}{2h}$\n",
    "þar sem h er lítil tala. Skrifið fall töldiff(f, a, h) sem reiknar slíka nálgun og skilar henni. Prófið með $f(x) = \\sqrt{x}$, a=4 og $h = 10^{-4}$ (sem ætti að skila tölu sem er nálægt $\\frac{1}{2\\sqrt{4}}$).\n",
    "2. Skrifið nú töflu yfir nálgunina fyrir $h = 10^{-k}$, k = 1,...10, og látið fylgja með dálk sem sýnir hve skekkjan er mikil. Merkið með ∗ línuna þar sem skekkjan er minnst."
   ]
  },
  {
   "cell_type": "code",
   "execution_count": 44,
   "metadata": {},
   "outputs": [
    {
     "name": "stdout",
     "output_type": "stream",
     "text": [
      "Svarið við lið a er 0.2500000000205116\n",
      "\n",
      "k          útreikningur                mismunur\n",
      "--------------------------------------------------\n",
      "1       0.25001953659254283      1.9536592542834796e-05\n",
      "2        0.2500001953130382      1.953130381870949e-07\n",
      "3       0.25000000195318783      1.953187833692027e-09\n",
      "4        0.2500000000205116      2.0511592424554692e-11\n",
      "5       0.2500000000016378*      1.637801005927031e-12\n",
      "6        0.2499999999239222      7.607781071783393e-11\n",
      "7       0.24999999959085528      4.091447181053809e-10\n",
      "8        0.249999987378402       1.2621597988982103e-08\n",
      "9       0.25000002068509275      2.0685092749772593e-08\n",
      "10      0.25000002068509275      2.0685092749772593e-08\n"
     ]
    }
   ],
   "source": [
    "from math import sqrt\n",
    "# f(a+h)-f(a-h)/2h\n",
    "\n",
    "def toldiff(f,a,h):\n",
    "    return (f(a+h)-f(a-h))/(2 * h)\n",
    "\n",
    "def f(x):\n",
    "    return sqrt(x)\n",
    "\n",
    "print(f\"Svarið við lið a er {toldiff(f,4,10**-4)}\\n\")\n",
    "k=1\n",
    "k2=[]\n",
    "while k<=10:\n",
    "    k2.append(toldiff(f,4,10**-k))\n",
    "    k+=1\n",
    "minimum = min(k2, key=lambda x:abs(x-0.25))\n",
    "print(\"k          útreikningur                mismunur\")\n",
    "print(\"-\"*50)\n",
    "for k,i in enumerate(k2):\n",
    "    if i==minimum:\n",
    "        stringI = str(i)\n",
    "        stringI += \"*\"\n",
    "        print(f\"{k+1:<3}{stringI:^30}{i-0.25:>10}\")\n",
    "    else:\n",
    "        print(f\"{k+1:<3}{i:^30}{abs(0.25-i):>10}\")\n",
    "    "
   ]
  },
  {
   "attachments": {},
   "cell_type": "markdown",
   "metadata": {},
   "source": [
    "Hugsum okkur að ísl_ens sé uppflettitafla sem geymir íslensk-enska orðabók. Hún gæti t.d. innihaldið pörin:\n",
    "\n",
    "    \"reipi\" → \"rope\"\n",
    "    \"hús\" → \"house\" og\n",
    "    \"rauður\" → \"red\".\n",
    "\n",
    "Ef við vilum búa til ensk-íslenska orðabók gætum við snúið töflunni við og fengið pörin \"rope\" →\n",
    "\"reipi\", \"house\" → \"hús\" o.s.frv.\n",
    "\n",
    "1. Skrifið fall snúavið(U) sem snýr uppflettitöflu við á þennan hátt og skilar viðsnúnu töflunni. Gerið ráð fyrir að taflan U hafi hvergi sama gildi fyrir tvo mismunandi lykla. Prófið með orðaskránni að framan og búið til ens_ísl.\n",
    "\n",
    "2. Skrifið nýja útgáfu af fallinu, snúavið2(U), sem er ekki með slíkri einkvæmnitakmörkun. Það á að skila nýrri uppflettitöflu V sem er þannig að ef g er gildi svarandi til tveggja mismunandi lykla, U[x] = U[y] = g þá á gildi V fyrir lykilinn g að vera listi með x og y, V[g] = [x,y]. Bætið nú tveimur pörum við ísl_ens:\n",
    "\n",
    "    \"tómarúm\" → \"vaccum\"\n",
    "    \"ryksuga\" → \"vaccum\"\n",
    "\n",
    "og prófið snúavið2."
   ]
  },
  {
   "cell_type": "code",
   "execution_count": 22,
   "metadata": {},
   "outputs": [
    {
     "name": "stdout",
     "output_type": "stream",
     "text": [
      "{'rope': 'reipi', 'house': 'hús', 'red': 'rauður'}\n"
     ]
    }
   ],
   "source": [
    "def snuavid(U):\n",
    "    return {value: keyname for keyname, value in U.items()}\n",
    "\n",
    "ordabok = {\"reipi\":\"rope\", \"hús\":\"house\", \"rauður\":\"red\"}\n",
    "\n",
    "print(snuavid(ordabok))"
   ]
  },
  {
   "cell_type": "code",
   "execution_count": 23,
   "metadata": {},
   "outputs": [
    {
     "name": "stdout",
     "output_type": "stream",
     "text": [
      "{'rope': ['reipi'], 'house': ['hús'], 'red': ['rauður'], 'vaccum': ['tómarúm', 'ryksuga']}\n"
     ]
    }
   ],
   "source": [
    "def snuavid2(U):\n",
    "    L={}\n",
    "    for keyname, value in U.items():\n",
    "        if value in L:\n",
    "            L[value].append(keyname)\n",
    "        else:\n",
    "            L[value] = [keyname]\n",
    "    return L\n",
    "\n",
    "ordabok = {\"reipi\":\"rope\", \"hús\":\"house\", \"rauður\":\"red\", \"tómarúm\":\"vaccum\", \"ryksuga\":\"vaccum\"}\n",
    "\n",
    "print(snuavid2(ordabok))"
   ]
  }
 ],
 "metadata": {
  "kernelspec": {
   "display_name": "Python 3",
   "language": "python",
   "name": "python3"
  },
  "language_info": {
   "codemirror_mode": {
    "name": "ipython",
    "version": 3
   },
   "file_extension": ".py",
   "mimetype": "text/x-python",
   "name": "python",
   "nbconvert_exporter": "python",
   "pygments_lexer": "ipython3",
   "version": "3.11.1"
  },
  "orig_nbformat": 4,
  "vscode": {
   "interpreter": {
    "hash": "5c7b89af1651d0b8571dde13640ecdccf7d5a6204171d6ab33e7c296e100e08a"
   }
  }
 },
 "nbformat": 4,
 "nbformat_minor": 2
}
