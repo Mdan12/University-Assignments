{
 "cells": [
  {
   "cell_type": "code",
   "execution_count": 24,
   "metadata": {},
   "outputs": [],
   "source": [
    "import math\n",
    "from tabulate import tabulate\n",
    "from urllib.request import urlopen"
   ]
  },
  {
   "cell_type": "markdown",
   "metadata": {},
   "source": [
    "# Verkefni: Annars stigs jafna"
   ]
  },
  {
   "cell_type": "markdown",
   "metadata": {},
   "source": [
    "Skrifið forrit sem leysir annars stigs jöfnu\n",
    "\n",
    "$$\n",
    "a x^2 + b x + c = 0\n",
    "$$\n",
    "\n",
    "Forritið á að lesa inn $a$, $b$ og $c$ með $\\fbox{input}$-skipunum (með viðeigandi beiðnum til notanda). Ef jafnan hefur tvær lausnir á forritið að skrifa „Lausnirnar eru:“ og síðan lausnirnar, ef hún hefur eina lausn á að skrifa hana með viðeigandi skýringu og ef engin lausn er skal skrifa skilaboð um það. Lausn eða lausnir eru gefnar með formúlunni\n",
    "\n",
    "$$\n",
    "x = \\frac{-b \\pm \\sqrt{b^2 - 4ac}}{2a}\n",
    "$$\n",
    "\n",
    "Ef stærðin undir kvaðratrótinni er neikvæð þá er engin lausn, ef hún er núll er ein lausn, annars tvær. Gerið auk þess ráð fyrir þeim möguleika að $a$ sé 0. Ef $b$ er ekki líka 0 þá er jafnan fyrsta stigs og forritið á að skrifa að svo sé, ásamt lausninni (sem er þá ein). Látið $b$ og $c$ vera gefin með afmælisdegi ykkar (dagur og mánuður) og prófið forritið fyrir fjórar mismunandi jöfnur, fyrsta stigs jöfnuna $bx+c=0$ og annars stigs jöfnur sem hafa enga, eina og tvær lausnir þar á meðal jöfnuna $x^2+bx+c=0$. Setjið viðeigandi skjölunarstreng fremst í forritið."
   ]
  },
  {
   "cell_type": "code",
   "execution_count": 1,
   "metadata": {},
   "outputs": [
    {
     "name": "stdout",
     "output_type": "stream",
     "text": [
      "Það er engin lausn\n"
     ]
    }
   ],
   "source": [
    "a = int(input(\"Veldu tölu: \"))\n",
    "b = int(input(\"Veldu tölu: \"))\n",
    "c = int(input(\"Veldu tölu: \"))\n",
    "\n",
    "d = (b**2 - (4 * a * c))\n",
    "\n",
    "if a==0:\n",
    "    print(\"Þetta er línuleg jafna með lausnina: \")\n",
    "\n",
    "elif d<0:\n",
    "    print(\"Það er engin lausn\")\n",
    "else:\n",
    "    print(\"Fyrri lausn er: \", (-b + math.sqrt(d))/(2*a))\n",
    "    print(\"Seinni lausn er: \", (-b - math.sqrt(d))/(2*a))"
   ]
  },
  {
   "cell_type": "markdown",
   "metadata": {},
   "source": [
    "# Töluleg heildun"
   ]
  },
  {
   "cell_type": "markdown",
   "metadata": {},
   "source": [
    "## A. Samsett trapisuregla\n",
    "\n",
    "Í sýnidæmi og æfingu í kafla 4.9 voru búin til föll til að nálga heildi með flatarmáli einnar eða tveggja trapisa. Föllin voru prófuð með heildunum:\n",
    "\n",
    "$$ (*)\\hspace{1cm}\\int_1^2\\frac{\\sin(x)}{x} dx\\hspace{1cm}\\text{og}\\hspace{1cm} (**) \\hspace{1cm}\\int_0^1 e^x dx $$\n",
    "\n",
    "og fengust eftirfarandi nálganir:\n",
    "<center>\n",
    "\n",
    "|           |      (*)      |     (**)      |\n",
    "|:---------:|:-------------:|:-------------:|\n",
    "| 1 trapisa |     0.648     |     1.859     |\n",
    "| 2 trapisur|     0.657     |     1.754     |\n",
    "| rétt gildi|   0.6593299   |   1.7182818   |\n",
    "\n",
    "</center>\n",
    "\n",
    "Enn betri nálgun fæst með samsettri trapisureglu sem notar n trapisur. Forritið hana og prófið með (*) og (**) og $n=4$. Kannið líka hve stórt $n$ þarf að vera til að fá (næstum) 7 rétta aukastafi, sbr. uppgefin rétt gildi. Hér eru formúlurnar sem þarf að nota ásamt skýringarmynd:\n",
    "\n",
    "&nbsp;&nbsp;&nbsp;&nbsp;&nbsp;&nbsp; Bilinu $[a,b]$ er skipt upp í n hlutbil sem hvert hefur lengd  $x = \\Delta \\frac{b-a}{n}$.\n",
    "\n",
    "&nbsp;&nbsp;&nbsp;&nbsp;&nbsp;&nbsp; Skiptipunktarnir eru: $a = x_0 < x_1 < x_2 < \\cdots < x_n = b$ þar sem $x_i = a + iΔx$.\n",
    "<center>\n",
    "\n",
    "![](2AGraph.jpg)\n",
    "\n",
    "</center>\n",
    "\n",
    "&nbsp;&nbsp;&nbsp;&nbsp;&nbsp;&nbsp; þá fæst nálgunin:\n",
    "\n",
    "$$\n",
    "\\int_{a}^{b} f(x)\\,dx\n",
    "\\approx T_n = \\frac{Δ x}{2}(f(x_0) + 2f(x_1) + 2f(x_2) +\n",
    "\\cdots + 2f(x_{n-1}) + f(x_n) )\n",
    "$$"
   ]
  },
  {
   "cell_type": "code",
   "execution_count": 4,
   "metadata": {},
   "outputs": [
    {
     "name": "stdout",
     "output_type": "stream",
     "text": [
      "0.6586304715647094 1.7272219045575168\n"
     ]
    }
   ],
   "source": [
    "def trap1(f,a,b,n):\n",
    "    '''heildi f frá a til b með ósamsettri trapisureglu'''\n",
    "   \n",
    "    s = f(a)+f(b)\n",
    "    dx = (b-a)/n\n",
    "    for i in range (1,n):\n",
    "        xi = a+i*dx\n",
    "        s += 2*f(xi)\n",
    "    return dx/2*s\n",
    "\n",
    "def g(x): return math.sin(x)/x\n",
    "def h(x): return math.e**x\n",
    "\n",
    "I1 = trap1(g,1,2,4)\n",
    "I2 = trap1(h,0,1,4)\n",
    "print(I1, I2)"
   ]
  },
  {
   "cell_type": "markdown",
   "metadata": {},
   "source": [
    "## B. Simpsons-regla\n",
    "Skrifa skal forrit til að nálga heildi með svonefndri Simpsons-regla. Í trapisureglu er heildisbilinu skipt í n\n",
    "\n",
    "hlutbil, fallið sem heilda skal nálgað með beinum línustrikum og heildi þess nálgað með flatarmálinu undir þessum línustrikum. Í Simpsonsreglu er fallið hinsvegar nálgað (eða brúað eins og það er kallað) með parabólum og heildið nálgað með flatarmálinu undir þeim. Skoðið endilega Wikipedíu-grein um aðferðina.\n",
    "\n",
    "Simpsons-formúlan er eftirfarandi:\n",
    "$$\n",
    "\\ \\int{a}^{b} f(x) \\, dx \\approx \\frac{Δ x}{3}\\left(f(x_0) + 4f(x_1)+2f(x_2)+4f(x_3)+2f(x_4)+\\cdots+4f(x_{n-1}) + f(x_{n})\\right)\n",
    "$$\n",
    "\n",
    "þar sem $Δ 𝑥$\n",
    "og $x_i$ eru eins og í A-lið og n\n",
    "\n",
    "er slétt tala.\n",
    "\n",
    "Skrifið fall simpson(f,a,b,n) sem nálgar heildið af f frá a til b með samsettri Simpsons-reglu með n hlutbilum.\n",
    "\n",
    "Prófið með heildunum (*) og (**) úr A-lið með 4 hlutbilum. Ef rétt er forritað ætti að fást (∗)\n",
    "0.65933 og (∗∗) 1.71832. Kannið líka hve stórt 𝑛 þarf að vera til að fá alla 7 aukastafina sem gefnir eru í töflunni í A-lið rétta. Heildið a lokum eitthvert sjálfvalið fall þar sem afmælisdagur ykkar kemur við sögu."
   ]
  },
  {
   "cell_type": "code",
   "execution_count": 3,
   "metadata": {},
   "outputs": [
    {
     "name": "stdout",
     "output_type": "stream",
     "text": [
      "Simpsons-reglan á fyrri jöfnu tveimur hlutblium hefur svarið 0.6593510548608137, hinsvegar hefur seinni jafnan svarið 1.718318841921747 ef skipt er í 4 hlutbita.\n",
      "Ég er fæddur 24.11.1993 og nota því jöfununa með þeim dagsetningum. Svarið er því 33.14483895863248\n"
     ]
    }
   ],
   "source": [
    "def simpson(f,a,b,n):\n",
    "    dx = (b-a)/n\n",
    "    s = f(a)+f(b)\n",
    "    for i in range (1,n):\n",
    "        xi = a+i*dx\n",
    "        if i%2==0:\n",
    "            s += 2*f(xi)\n",
    "        else:\n",
    "            s += 4*f(xi)\n",
    "    return (dx/3)*s  \n",
    "\n",
    "\n",
    "def g(x): return math.sin(x)/x\n",
    "def h(x): return math.e**x\n",
    "def z(x): return math.sin(2*x)*math.cos(2*x)\n",
    "\n",
    "I1 = simpson(g,1,2,2)\n",
    "I2 = simpson(h,0,1,4)\n",
    "I3 = simpson(z,24,93,11)\n",
    "print(f\"Simpsons-reglan á fyrri jöfnu tveimur hlutblium hefur svarið {I1}, hinsvegar hefur seinni jafnan svarið {I2} ef skipt er í 4 hlutbita.\")\n",
    "print(f\"Ég er fæddur 24.11.1993 og nota því jöfununa með þeim dagsetningum. Svarið er því {I3}\")"
   ]
  },
  {
   "cell_type": "markdown",
   "metadata": {},
   "source": [
    "# Ýmis dæmi"
   ]
  },
  {
   "cell_type": "markdown",
   "metadata": {},
   "source": [
    "## A. Hitastigum breytt\n",
    "Hitastig í Fahrenheitgáðum er $T_F = \\frac{9}{5}T_C + 32$ þar sem $𝑇_𝐶$ er hitastigið í Celcíusgráðum. Skrifið forrit sem skrifar út töflu til að breyta milli skalanna sem nær frá $–30^\\text{o}C$ til $50\\text{o}𝐶$ og hleypur á $5\\text{o}𝐶$. Á Makka fæst gráðumerki með option-T og á Windows með Alt-0176. Taflan gæti byrjað svona:\n",
    "<center>\n",
    "\n",
    "|    °C    |      °F       |\n",
    "|:--------:|:-------------:|\n",
    "|   -30    |      -22      |\n",
    "|   -25    |      -13      |\n",
    "|   -20    |       -4      |\n",
    "|   -15    |        5      |\n",
    "|   ...    |      ...      |\n",
    "\n",
    "</center>"
   ]
  },
  {
   "cell_type": "code",
   "execution_count": 3,
   "metadata": {},
   "outputs": [
    {
     "name": "stdout",
     "output_type": "stream",
     "text": [
      "  Celsius    Fahrenheit\n",
      "---------  ------------\n",
      "      -30           -22\n",
      "      -25           -13\n",
      "      -20            -4\n",
      "      -15             5\n",
      "      -10            14\n",
      "       -5            23\n",
      "        0            32\n",
      "        5            41\n",
      "       10            50\n",
      "       15            59\n",
      "       20            68\n",
      "       25            77\n",
      "       30            86\n",
      "       35            95\n",
      "       40           104\n",
      "       45           113\n",
      "       50           122\n"
     ]
    }
   ],
   "source": [
    "def CelciusToFahrenheit():\n",
    "    ctof = []\n",
    "    for i in range(-30, 51, 5):\n",
    "        x = ((9 / 5) * i) + 32\n",
    "        ctof.append([i, x])\n",
    "    print(tabulate(ctof,headers=[\"Celsius\",\"Fahrenheit\"]))\n",
    "\n",
    "CelciusToFahrenheit()"
   ]
  },
  {
   "cell_type": "markdown",
   "metadata": {},
   "source": [
    "## B. Rætur, lograr, kvaðröt\n",
    "\n",
    "1. Skrifið forritsbút með for-lykkju sem finnur kvaðratrætur, náttúrulega logra, og önnur veldi talnanna 1–10. Notið F-strengi til að skrifa (fallega) töflu yfir niðurstöðuna. Hafið 2 aukastafi í kvaðratrótunum og logrunum.\n",
    "2. Endurtakið með while-lykkju."
   ]
  },
  {
   "cell_type": "code",
   "execution_count": 4,
   "metadata": {},
   "outputs": [
    {
     "name": "stdout",
     "output_type": "stream",
     "text": [
      "Ferningsrót 1 er 1.00, lógaritmi 1 er 0.00 og 1 í öðru veldi er 1.0\n",
      "Ferningsrót 2 er 1.41, lógaritmi 2 er 0.69 og 2 í öðru veldi er 4.0\n",
      "Ferningsrót 3 er 1.73, lógaritmi 3 er 1.10 og 3 í öðru veldi er 9.0\n",
      "Ferningsrót 4 er 2.00, lógaritmi 4 er 1.39 og 4 í öðru veldi er 16.0\n",
      "Ferningsrót 5 er 2.24, lógaritmi 5 er 1.61 og 5 í öðru veldi er 25.0\n",
      "Ferningsrót 6 er 2.45, lógaritmi 6 er 1.79 og 6 í öðru veldi er 36.0\n",
      "Ferningsrót 7 er 2.65, lógaritmi 7 er 1.95 og 7 í öðru veldi er 49.0\n",
      "Ferningsrót 8 er 2.83, lógaritmi 8 er 2.08 og 8 í öðru veldi er 64.0\n",
      "Ferningsrót 9 er 3.00, lógaritmi 9 er 2.20 og 9 í öðru veldi er 81.0\n",
      "Ferningsrót 10 er 3.16, lógaritmi 10 er 2.30 og 10 í öðru veldi er 100.0\n",
      "Ferningsrót 1 er 1.00, lógaritmi 1 er 0.00 og 1 í öðru veldi er 1.0\n",
      "Ferningsrót 2 er 1.41, lógaritmi 2 er 0.69 og 2 í öðru veldi er 4.0\n",
      "Ferningsrót 3 er 1.73, lógaritmi 3 er 1.10 og 3 í öðru veldi er 9.0\n",
      "Ferningsrót 4 er 2.00, lógaritmi 4 er 1.39 og 4 í öðru veldi er 16.0\n",
      "Ferningsrót 5 er 2.24, lógaritmi 5 er 1.61 og 5 í öðru veldi er 25.0\n",
      "Ferningsrót 6 er 2.45, lógaritmi 6 er 1.79 og 6 í öðru veldi er 36.0\n",
      "Ferningsrót 7 er 2.65, lógaritmi 7 er 1.95 og 7 í öðru veldi er 49.0\n",
      "Ferningsrót 8 er 2.83, lógaritmi 8 er 2.08 og 8 í öðru veldi er 64.0\n",
      "Ferningsrót 9 er 3.00, lógaritmi 9 er 2.20 og 9 í öðru veldi er 81.0\n",
      "Ferningsrót 10 er 3.16, lógaritmi 10 er 2.30 og 10 í öðru veldi er 100.0\n"
     ]
    }
   ],
   "source": [
    "def RLK(n, k):\n",
    "    for i in range(n,k+1):\n",
    "        squareroot = math.sqrt(i)\n",
    "        logarithm = math.log(i)\n",
    "        square = math.pow(i, 2)\n",
    "        print(f\"Ferningsrót {i} er {squareroot:.2f}, lógaritmi {i} er {logarithm:.2f} og {i} í öðru veldi er {square}\")\n",
    "    while n<=k:\n",
    "        squareroot = math.sqrt(n)\n",
    "        logarithm = math.log(n)\n",
    "        square = math.pow(n, 2)\n",
    "        print(f\"Ferningsrót {n} er {squareroot:.2f}, lógaritmi {n} er {logarithm:.2f} og {n} í öðru veldi er {square}\")\n",
    "        n+=1\n",
    "RLK(1,10)"
   ]
  },
  {
   "cell_type": "markdown",
   "metadata": {},
   "source": [
    "## C. Lograr og veldi\n",
    "\n",
    "Til að reikna logra (lógaritma) hefur Python þrjú föll: Náttúrulegur logri fæst með $\\fbox{log(x)}$, tíu-logri fæst með $\\fbox{log10(x)}$ og loks fæst logri með grunntölu 2 með $\\fbox{log2(x)}$. Fastinn 𝑒 fæst með $\\fbox{math.e}$, og vísisfallið, $e^x$, fæst með $\\fbox{exp(x)}$. Reiknið:\n",
    "1. ln(1)\n",
    "2. lnexp(3)\n",
    "3. log101000\n",
    "4. log28\n",
    "\n",
    "(Ætti að gefa 0, 3, 3 og 3)"
   ]
  },
  {
   "cell_type": "code",
   "execution_count": null,
   "metadata": {},
   "outputs": [],
   "source": [
    "def LogAndPower(log, logexp, log10, log2):\n",
    "    logarithm = math.log(log)\n",
    "    logexponent = math.log(math.exp(logexp))\n",
    "    logarithm10 = math.log(log10, 10)\n",
    "    logarithm2 = math.log(log2, 2)\n",
    "    print(f\"\"\"Lógaritmi af {log} er {logarithm:.0f}, lógaritmi af e í veldinu {logexp} er {logexponent}, \n",
    "lógaritmi af {log10} með grunntöluna 10 er {logarithm10:.0f} og lógaritmi af {log2} með grunntöluna 2 er {logarithm2:.0f}\"\"\")\n",
    "LogAndPower(1, 3, 1000, 8)"
   ]
  },
  {
   "cell_type": "markdown",
   "metadata": {},
   "source": [
    "## D. Rúmmál kúlu\n",
    "\n",
    "Þetta dæmi og það næsta (taflborðið) eru æfingar í útprentun, en ekki síður æfingar í að byggja upp forrit úr minni einingum, sem maður prófar hverja fyrir sig og setur svo saman.\n",
    "1. Skrifið Python fall sem reiknar og skilar rúmmáli kúlu með radíus r. Prófið með kúlu með radíus 2 (ætti að skila 33.51)\n",
    "2. Skrifið fall sem reiknar og skilar radíus hrings með gefið ummál. Prófið.\n",
    "3. Skrifið fall sem tekur inn eðlismassa hlutar í $g/cm^3$ og rúmmáli hans í $m^3$ og skilar þyngd hans í kg. Notið fallið til að reikna þyngd gulltenings sem er 20 cm á kant (eðlismassi gulls er 19.30; ætti að skila 154.4 kg).\n",
    "4. Jörðin er um það bil kúla með ummál 40 þúsund km og eðlisþyngd hennar er 5.5 $g/cm^3$. Notið föllin í liðum 1–3 til að finna massa jarðar í tonnum.\n",
    "\n",
    "Látið öll forritin skrifa stuttan skýringartexta með því sem er prentað."
   ]
  },
  {
   "cell_type": "code",
   "execution_count": null,
   "metadata": {},
   "outputs": [],
   "source": [
    "def volumeOfSphere(radius):\n",
    "    return (4/3)*math.pi*(radius**3)\n",
    "\n",
    "def radiusOfSphere(circumference):\n",
    "    return circumference/(2*math.pi)\n",
    "\n",
    "def weightOfGold(side, densityOfGold):\n",
    "    return side * densityOfGold*1000\n",
    "\n",
    "radius = 2\n",
    "print(f\"Rúmmál kúlu með radíus {radius} er \", round(volumeOfSphere(radius), 2))\n",
    "\n",
    "circumference = 100\n",
    "print(f\"Radíus hrings með ummálið {circumference} er\", round(radiusOfSphere(circumference), 2))\n",
    "\n",
    "side = 20\n",
    "densityOfGold = 19.30\n",
    "print(f\"Eðlismassi gulltenings sem er {side} cm á kant og hefur eðlisþyng {densityOfGold} er {weightOfGold((20/100)**3, 19.3):.2f}\")\n",
    "\n",
    "circumference = 40000\n",
    "density = 5.5 \n",
    "radiusOfEarth = radiusOfSphere(circumference*10**4)\n",
    "volueOfEarth = volumeOfSphere(radiusOfEarth)\n",
    "massOfEarth = volueOfEarth * (density*10**3)\n",
    "print(f\"Massi jarðar með ummálið {(circumference/1000):.0f} km og eðlismassan {density} g/cm^3 er {massOfEarth/(10**6)} tonn\")"
   ]
  },
  {
   "cell_type": "markdown",
   "metadata": {},
   "source": [
    "## E. Taflborð\n",
    "Lokamarkmiðið þessa dæmis er að búa til fall sem prentar út $nxn$ taflborð fyrir slétta tölu $n$ sem lítur svona út þegar $n-8$:\n",
    "\n",
    "\n",
    "    +-----------------+\n",
    "    |   X   X   X   X |\n",
    "    | X   X   X   X   |\n",
    "    |   X   X   X   X |\n",
    "    | X   X   X   X   |\n",
    "    |   X   X   X   X |\n",
    "    | X   X   X   X   |\n",
    "    |   X   X   X   X |\n",
    "    | X   X   X   X   |\n",
    "    +-----------------+\n",
    "\n",
    "Það eru þrjár gerðir af línum:\n",
    "\n",
    "a. Efsta og neðsta línan, með $+$, $2𝑛+1$ striki og aftur $+$.\n",
    "\n",
    "b. Línur eins og önnur línan með þrjú bil og $X$ endurtekið $\\frac{n}{2}$ sinnum.\n",
    "    \n",
    "c. Línur eins og þriðja línan með $X$ og þrjú bil endurtekið $\\frac{n}{2}$ sinnum.\n",
    "\n",
    "1. Skrifið þrjú föll, til að prenta línur af tagi a, b og c. Prófið hvert um sig fyrir $n=2$ og $n=8$.\n",
    "2. Skrifið fall sem kallar á föllin í lið 1. og prentar $nxn$ borð. Látið fallið skrifa villuboð og hætta ef $n$ er ekki slétt tala > 2. Prófið með $n=8$\n",
    "\n",
    "Munið að nota $\\fbox{*}$-virkjann, sem fjölfaldar strengi."
   ]
  },
  {
   "cell_type": "code",
   "execution_count": null,
   "metadata": {},
   "outputs": [],
   "source": [
    "def Chess(n):\n",
    "    if n<2 or n%2!=0:\n",
    "        return ValueError(\"Please pick a number higher than 2 that is not an even number.\")\n",
    "    lines = \"-\"*2*(n+1)\n",
    "    newline = lines.replace(\"-\", '', 1)\n",
    "    print(\"+\", newline, \"+\", sep='')\n",
    "    for i in range(0,n):\n",
    "        print(\"|\", end=' ')\n",
    "        for t in range(0,n):\n",
    "            if (i+t)%2==0:\n",
    "                print(\" \", end=' ')\n",
    "            else:\n",
    "                print(\"X\", end=' ')\n",
    "        print(\"|\")\n",
    "    print(\"+\", newline, \"+\", sep='')      \n",
    "Chess(int(input()))"
   ]
  },
  {
   "cell_type": "markdown",
   "metadata": {},
   "source": [
    "## F. Viðsnúningur lista\n",
    "\n",
    "1. Skrifið fall $\\fbox{hali(L)}$ sem skilar hala L, þ.e. lista með öllum stökum nema því fremsta.\n",
    "2. Skrifið fall $\\fbox{hausaftast(L)}$ sem skilar nýjum lista þar sem haus $L$ hefur verið færður aftast. Ef kallað er með $L=[1,2,3,4]$ ætti fallið að skila $[2,3,4,1]$. Prófið líka með lista búnum til útfrá afmælisdegi (t.d. $3.8.1999 \\to [3,8,99]$).\n",
    "3. Skrifið fall $\\fbox{snúavið(L)}$ sem snýr við lista. Hér er reiknirit:\n",
    "\n",
    "```\n",
    "fall snúavið(L)\n",
    "    n := lengd L\n",
    "    M := tómur listi\n",
    "    fyrir i = n-1,n-2,...,0:\n",
    "        setja i-ta stak L afast í M\n",
    "    skila M\n",
    "```\n",
    "\n",
    "Prófið að snúa við $L=[1,2,3,4]$ sem ætti að skila $[4,3,2,1]$ og líka afmælisdagalistanum úr lið 2."
   ]
  },
  {
   "cell_type": "code",
   "execution_count": 13,
   "metadata": {},
   "outputs": [
    {
     "name": "stdout",
     "output_type": "stream",
     "text": [
      "[2, 3, 4, 1]\n",
      "[3, 4, 1, 2]\n",
      "[4, 3, 2, 1]\n",
      "[93, 11, 24]\n"
     ]
    }
   ],
   "source": [
    "#1\n",
    "def hali(L):\n",
    "    return L[1::]\n",
    "\n",
    "#2\n",
    "def hausaftast(L):\n",
    "    L.append(L.pop(0))\n",
    "    return L\n",
    "\n",
    "#3\n",
    "def snuavid(L):\n",
    "    n = len(L)\n",
    "    M = []\n",
    "    for i in range(n-1,-1,-1):\n",
    "        M.append(L[i])\n",
    "    return M\n",
    "\n",
    "L=[1,2,3,4]\n",
    "print(hausaftast(L))\n",
    "\n",
    "birthday = [24,11,93]\n",
    "print(hausaftast(L))\n",
    "\n",
    "L=[1,2,3,4]\n",
    "print(snuavid(L))\n",
    "\n",
    "birthday = [24,11,93]\n",
    "print(snuavid(birthday))\n"
   ]
  },
  {
   "cell_type": "markdown",
   "metadata": {},
   "source": [
    "# Orðaleikur\n",
    "\n",
    "1. Skrifið fall $\\fbox{telja(s)}$ sem byrjar á nota $\\fbox{s.split()}$ til að búa til lista af einstökum orðum í $\\fbox{s}$ og telur síðan hve margir stafir eru í hverju orði. Fallið á að skila lista með þessari talningu. Þannig ætti $$\\fbox{telja(\"Afi minn og amma mín\")}$$ að skila listanum [3,4,2,4,3]. Prófið líka að telja stafi í nafninu ykkar (t.d. telja(\"Kristján Jónasson\")). Líklega borgar sig að búa fyrst til tóman lista og fara svo í lykkju og bæta nýrri talningu afast í listann í hverri umferð (t.d. með $\\fbox{append}$).\n",
    "2. Búið til fall $\\fbox{hrópa(s)}$ sem skrifar $\\fbox{s}$ út með stórum stöfum og tveimur upphrópunarmerkjum. Hrópið svo nafnið ykkar :)\n",
    "3. Til að athuga hvort stafur $\\fbox{c}$ sé hástafur má spyrja: $\\fbox{c == c.upper()}$. Skrifið fall $\\fbox{stórir(s)}$ sem skilar lista af rökgildum með i-ta gildið satt ef i-ta orðið í $\\fbox{s}$ byrjar á stórum staf. Prófið með sjálfvöldu dæmi og sýnið niðurstöðuna.\n"
   ]
  },
  {
   "cell_type": "code",
   "execution_count": 5,
   "metadata": {},
   "outputs": [
    {
     "name": "stdout",
     "output_type": "stream",
     "text": [
      "[3, 4, 2, 4, 3]\n",
      "MAGNÚS DANÍEL BUDAI EINARSSON!!\n",
      "[False, True, True, False, True]\n"
     ]
    }
   ],
   "source": [
    "def telja(s):\n",
    "  d=[]\n",
    "  w= s.split()\n",
    "  for i in w:\n",
    "    d.append(len(i))\n",
    "  return d\n",
    "\n",
    "def hropa(s):\n",
    "  return s.upper()+\"!!\"\n",
    "  \n",
    "\n",
    "def storir(s):\n",
    "  p= []\n",
    "  w=s.split()\n",
    "  for i in w:\n",
    "    p.append(i[0].isupper())\n",
    "  return p\n",
    "\n",
    "print(telja(\"Afi minn og amma mín\"))\n",
    "print(hropa(\"Magnús Daníel Budai Einarsson\"))\n",
    "print(storir(\"pRufa Þetta Eru sTorir Stafir\"))"
   ]
  },
  {
   "cell_type": "markdown",
   "metadata": {},
   "source": [
    "# Kvaðratrót\n",
    "\n",
    "Um útreikning kvaðratrótar er fjallað í kafla 7.5 í Think Python kennslubókinni. Þar stendur að hægt sé að nota Newtons aðferð, og að ef byrjað er með einhverja nálgun $x$ við $\\sqrt a$ þá fáist betri nálgun, $y$ með því að reikna:\n",
    "$$\n",
    "(*)\\hspace{4cm} y = \\frac{x + a/x}{2}\n",
    "$$\n",
    "\n",
    "Formúluna má m.a. rökstyðja þannig að ef $x$ er nákvæmt gildi þá er $x^2 = a$ svo að $x=\\frac{a}{x}$. Hinsvegar ef $x$ er aðeins minna en kvaðratrótin þá þá verður $\\frac{a}{x}$ aðeins stærra en hún (og öfugt) og því ætti meðaltal $x$ og $\\frac{a}{x}$ að vera betri nálgun. Svo má athuga hve nálgunin er góð með því að skoða muninn á $x$ og $y$. Ef t.d.\n",
    "\n",
    "$$\n",
    "(**)\\hspace{4cm}|x - y| < \\varepsilon\n",
    "$$\n",
    "\n",
    "þar sem $\\varepsilon = 10^{-4}$ er hún orðin nokkuð góð.\n",
    "1. Skrifið Python-fall, $\\fbox{krót(a)}$ sem útfærir þessa hugmynd. Byrjið með upphafsgildið $x = 1$ og finnið svo betri og betri lausn með því að nota while-lykkju sem reiknar $(*)$ aftur og aftur og heldur áfram þangað til $(**)$ er uppfyllt. Prófið að reikna $\\sqrt 9$ og $\\sqrt 10$ (rétt gildi $3.16227766017$).  \n",
    "2. Búið nú til nýja útgáfu af fallinu sem er með tvo inntaksstika, töluna a og nákvæmnikröfu $\\fbox{eps}$, og telur auk þess hve margar ítrekanir eru teknar. Látið það skila bæði lokanálguninni og ítrekanafjöldanum (sbr. fyrra sýnidæmið í kafla 4.7). Skrifið niðurstöður með hæfilegum skýringartextum: lokanálgun, ítrekanafjölda, og muninn á réttri kvaðratrót og lokanálgun. Prófið með nokkrum mismunandi gildum á 𝑎 (m.a. eitthvað mjög stórt gildi) og 𝜀, (m.a. gildi sem er ekkert mjög lítið, t.d. $0.1$ eða $0.01$). Bætið við textareit og skrifið örfá orð um niðurstöðu þessarar prófunar."
   ]
  },
  {
   "cell_type": "code",
   "execution_count": 6,
   "metadata": {},
   "outputs": [],
   "source": [
    "def krot(a):\n",
    "    x=1\n",
    "    eps = 1e-4\n",
    "    y=2\n",
    "    while abs(x - y) >= eps:\n",
    "        x=y\n",
    "        y = (x + a/x)/2\n",
    "    return y\n",
    "\n",
    "def krot2(a, eps):\n",
    "    x=1\n",
    "    y=2\n",
    "    ite = 0\n",
    "    while abs(x - y) >= eps:\n",
    "        x=y\n",
    "        y = (x + a/x)/2\n",
    "        ite += 1\n",
    "    return y, ite"
   ]
  },
  {
   "cell_type": "markdown",
   "metadata": {},
   "source": [
    "# Meðaltal og staðalfrávik\n",
    "\n",
    "Skrifið fall $\\fbox{tölfræði(x)}$ sem skilar pari $\\fbox{(m, s)}$ með meðaltali og staðalfráviki stakanna í listanum $\\fbox{x}$ með því að nota formúlurnar:\n",
    "$$\n",
    "\\begin{split}m &= \\frac{1}{n}\\sum_{i=0}^{n-1}{x[i]}\\\\\n",
    "s &= \\sqrt{\\frac{1}{n-1}\\sum_{i=0}^{n-1}(x[i] - m)^2}\\end{split}\n",
    "$$\n",
    "\n",
    "Prófið með $\\fbox{x = [3,7,7,1]}$ (á að skila $\\fbox{[4.5, 3.0]}$) og líka með lista $\\fbox{[d,m,á]}$ búnum til úr fæðingardegi."
   ]
  },
  {
   "cell_type": "code",
   "execution_count": 15,
   "metadata": {},
   "outputs": [
    {
     "name": "stdout",
     "output_type": "stream",
     "text": [
      "[4.5, 3.0]\n",
      "[42.666666666666664, 44.07191093353377]\n"
     ]
    }
   ],
   "source": [
    "def tolfraedi(x):\n",
    "    n = len(x)\n",
    "    sums = 0\n",
    "    for i in range(n):\n",
    "        sums += x[i]\n",
    "    m = sums/n\n",
    "    sums = 0\n",
    "    for i in range(n):\n",
    "        sums += (x[i] - m)**2\n",
    "    s = math.sqrt(sums/(n-1))\n",
    "    return [m,s]\n",
    "\n",
    "x=[3,7,7,1]\n",
    "print(tolfraedi(x))\n",
    "\n",
    "birthday = [24,11,93]\n",
    "print(tolfraedi(birthday))"
   ]
  },
  {
   "cell_type": "markdown",
   "metadata": {},
   "source": [
    "# Bóluröðun\n",
    "Hér er reiknirit sem raðar n-staka lista x með bóluröðun bubble sort, sem snýst um að rúlla í gegn um stökin og ef tvö samliggjandi stök eru í öfugri röð þá er víxlað á þeim. Þetta er endurtekið þar til öll stökin eru í röð. Minnstu stökin bobbla smám saman eins og loftbólur fremst í listann.\n",
    "\n",
    "```\n",
    "víxlað = satt\n",
    "meðan víxlað\n",
    "   víxlað = ósatt\n",
    "   fyrir i=1,...,n-1:\n",
    "      ef x[i-1] > x[i] þá\n",
    "         víxla á x[i-1] og x[i]\n",
    "         víxlað = satt\n",
    "```\n",
    "\n",
    "Þýðið þetta reiknirit yfir í Python-fall $\\fbox{bóluröðun(x)}$. Athugið að til að víxla á breytum $\\fbox{x}$ og $\\fbox{y}$ má nota $\\fbox{(x,y) = (y,x)}$. Prófið með því að raða listanum $\\fbox{[3,8,1,2,5,4]}$."
   ]
  },
  {
   "cell_type": "code",
   "execution_count": 16,
   "metadata": {},
   "outputs": [
    {
     "name": "stdout",
     "output_type": "stream",
     "text": [
      "Ef við notum bóluröðun á eftirfarandi lista: [3, 8, 1, 2, 5, 4] þá fáum við útkommuna [1, 2, 3, 4, 5, 8]\n"
     ]
    }
   ],
   "source": [
    "def bolurodun(x):\n",
    "    reversed = True\n",
    "    n = len(x)\n",
    "    while (reversed):\n",
    "        reversed = False\n",
    "        for i in range (1,n):\n",
    "            if x[i-1]> x[i]:\n",
    "                x[i-1], x[i] = x[i], x[i-1]\n",
    "                reversed = True\n",
    "    return x\n",
    "\n",
    "x = [3,8,1,2,5,4]\n",
    "\n",
    "print(f\"Ef við notum bóluröðun á eftirfarandi lista: {x} þá fáum við útkommuna {bolurodun(x)}\")"
   ]
  },
  {
   "cell_type": "markdown",
   "metadata": {},
   "source": [
    "# Pólhnit\n",
    "\n",
    "Lesið aðeins um pólhnit á Wikipediu áður en þið spreytið ykkur á eftirfarandi verkefni.\n",
    "\n",
    "1. Skrifið fall $\\fbox{pol2rec(r,theta)}$ sem skilar pari $\\fbox{(x,y)}$, til að breyta úr pólhnitum yfir í rétthyrnd hnit með eftirfarandi formúlum: $$ \\begin{split}x &= r \\cos{\\theta}\\\\ y &= r \\sin{\\theta}\\end{split} $$ Prófið að breyta $(𝑟,\\theta)=(4,35°)$ yfir í rétthyrnd hnit $x$ og $y$ (á að gefa $x=3.277, y=2.294$). Munið að nota $\\fbox{math.radians}$ til að breyta gráðum í radíana.\n",
    "\n",
    "2. Skrifið svo annað fall, $\\fbox{rec2pol(x,y)}$ sem skilar $\\fbox{(r,theta)}$ og breytir í hina áttina með formúlunum: $$ \\begin{split}\\theta &= \\operatorname{atan2}(y,x)\\\\ r &= \\sqrt{x^2 + y^2}\\end{split} $$ Prófið að breyta svarinu sem fékkst í lið 1 aftur til baka í pólhnit."
   ]
  },
  {
   "cell_type": "code",
   "execution_count": 19,
   "metadata": {},
   "outputs": [
    {
     "name": "stdout",
     "output_type": "stream",
     "text": [
      "(3.276608177155967, 2.294305745404184)\n",
      "(4, 35.0)\n"
     ]
    }
   ],
   "source": [
    "def pol2rec(r,theta):\n",
    "    return r * math.cos(math.radians(theta)), r * math.sin(math.radians(theta))\n",
    "\n",
    "print(pol2rec(4,35))\n",
    "\n",
    "def rec2pol(x,y):\n",
    "    return math.ceil(math.sqrt(x**2+y**2)), math.degrees(math.atan2(y,x))\n",
    "\n",
    "x,y= pol2rec(4,35)\n",
    "print(rec2pol(x,y))"
   ]
  },
  {
   "cell_type": "markdown",
   "metadata": {},
   "source": [
    "# Innsetningarröðun og Pythontutor\n",
    "\n",
    "1. Ein einfaldasta röðunaraðferðin er innsetningarröðun (insertion sort). Forritið fyrsta reikniritið í lýsingu hennar á Wikipediu í Python falli. Notið paragildisgjöf, $\\fbox{(x,y) = (y,x)}$ til að víxla (swap) í 5. línu reikniritsins. Prófið að raða listanum $[3,8,1,2,5,4]$. Leysið verkefnið með falli sem hefur listann sem raða skal sem inntaksstika og skilar röðuðum lista. Gætið þess að breyta ekki inntaksstikanum inni í fallinu.\n",
    "2. Á vefsíðan pythontutor.com er hægt að keyra forrit skref fyrir skref og skoða hvernig gildi á breytum breytast. Setjið forritið sem þið skrifuðuð í lið 1 inn á þessa síðu og prófið ykkur áfram."
   ]
  },
  {
   "cell_type": "code",
   "execution_count": 20,
   "metadata": {},
   "outputs": [
    {
     "name": "stdout",
     "output_type": "stream",
     "text": [
      "[1, 2, 3, 4, 5, 8]\n"
     ]
    }
   ],
   "source": [
    "def insertsort(A):\n",
    "  i = 1\n",
    "  while i < len(A):\n",
    "    j = i\n",
    "    while j > 0 and A[j-1] > A[j]:\n",
    "        A[j-1],A[j] = A[j],A[j-1]\n",
    "        j -= 1\n",
    "    i += 1\n",
    "  return A\n",
    "\n",
    "print(insertsort([3,8,1,2,5,4]))"
   ]
  },
  {
   "cell_type": "markdown",
   "metadata": {},
   "source": [
    "# Töluleg diffrun\n",
    "\n",
    "1. Eftirfarandi formúlu má nota til að nálga afleiðu falls í punkti $a$: $$ f'(a) \\approx \\frac{f(a+h) - f(a-h)}{2h} $$ þar sem $h$ er lítil tala. Skrifið fall $\\fbox{töldiff(f, a, h)}$ sem reiknar slíka nálgun og skilar henni. Prófið með $f(x) = \\sqrt{x}, a=4$ og $h=10^{−4}$ (sem ætti að skila tölu sem er nálægt $\\frac{1}{2\\sqrt{4}}$).\n",
    "2. Skrifið nú töflu yfir nálgunina fyrir $h=10^{−k},k=1,...10$, og látið fylgja með dálk sem sýnir hve skekkjan er mikil. Merkið með $*$ línuna þar sem skekkjan er minnst."
   ]
  },
  {
   "cell_type": "code",
   "execution_count": 21,
   "metadata": {},
   "outputs": [
    {
     "name": "stdout",
     "output_type": "stream",
     "text": [
      "Svarið við lið a er 0.2500000000205116\n",
      "\n",
      "k          útreikningur                mismunur\n",
      "--------------------------------------------------\n",
      "1       0.25001953659254283      1.9536592542834796e-05\n",
      "2        0.2500001953130382      1.953130381870949e-07\n",
      "3       0.25000000195318783      1.953187833692027e-09\n",
      "4        0.2500000000205116      2.0511592424554692e-11\n",
      "5       0.2500000000016378*      1.637801005927031e-12\n",
      "6        0.2499999999239222      7.607781071783393e-11\n",
      "7       0.24999999959085528      4.091447181053809e-10\n",
      "8        0.249999987378402       1.2621597988982103e-08\n",
      "9       0.25000002068509275      2.0685092749772593e-08\n",
      "10      0.25000002068509275      2.0685092749772593e-08\n"
     ]
    }
   ],
   "source": [
    "def toldiff(f,a,h):\n",
    "    return (f(a+h)-f(a-h))/(2 * h)\n",
    "\n",
    "def f(x):\n",
    "    return math.sqrt(x)\n",
    "\n",
    "print(f\"Svarið við lið a er {toldiff(f,4,10**-4)}\\n\")\n",
    "k=1\n",
    "k2=[]\n",
    "while k<=10:\n",
    "    k2.append(toldiff(f,4,10**-k))\n",
    "    k+=1\n",
    "minimum = min(k2, key=lambda x:abs(x-0.25))\n",
    "print(\"k          útreikningur                mismunur\")\n",
    "print(\"-\"*50)\n",
    "for k,i in enumerate(k2):\n",
    "    if i==minimum:\n",
    "        stringI = str(i)\n",
    "        stringI += \"*\"\n",
    "        print(f\"{k+1:<3}{stringI:^30}{i-0.25:>10}\")\n",
    "    else:\n",
    "        print(f\"{k+1:<3}{i:^30}{abs(0.25-i):>10}\")"
   ]
  },
  {
   "cell_type": "markdown",
   "metadata": {},
   "source": [
    "# Uppflettitafla afturábak\n",
    "\n",
    "Hugsum okkur að $\\fbox{ísl\\_ens}$ sé uppflettitafla sem geymir íslensk-enska orðabók. Hún gæti t.d. innihaldið pörin: $$\\begin{split} \\fbox{\"reipi\"} \\to \\fbox{\"rope\"} \\\\ \\fbox{\"hús} \\to \\fbox{\"house\"} \\text{og} \\\\ \\fbox{\"rauður\"} \\to \\fbox{\"red\"}.\\end{split}$$\n",
    "\n",
    "Ef við vilum búa til ensk-íslenska orðabók gætum við snúið töflunni við og fengið pörin $\\fbox{\"rope\"} \\to \\fbox{\"reipi\"}, \\fbox{\"house\"} \\to \\fbox{\"hús\"}$ o.s.frv.\n",
    "1. Skrifið fall $\\fbox{snúavið(U)}$ sem snýr uppflettitöflu við á þennan hátt og skilar viðsnúnu töflunni. Gerið ráð fyrir að taflan U hafi hvergi sama gildi fyrir tvo mismunandi lykla. Prófið með orðaskránni að framan og búið til $\\fbox{ens\\_ísl}$.\n",
    "2. Skrifið nýja útgáfu af fallinu, $\\fbox{snúavið2(U)}$, sem er ekki með slíkri einkvæmnitakmörkun. Það á að skila nýrri uppflettitöflu $\\fbox{V}$ sem er þannig að ef $\\fbox{g}$ er gildi svarandi til tveggja mismunandi lykla, $\\fbox{U[x] = U[y] = g}$ þá á gildi V fyrir lykilinn $\\fbox{g}$ að vera listi með $\\fbox{x}$ og $\\fbox{y}$, $\\fbox{V[g] = [x,y]}$. Bætið nú tveimur pörum við $\\fbox{ísl\\_ens}$: $$\\begin{split} \\fbox{\"tómarúm\"} \\to \\fbox{\"vaccum\"} \\\\ \\fbox{\"ryksuga\"} \\ to \\fbox{\"vaccum\"} \\end{split} $$ og prófið $\\fbox{snúavið2}$."
   ]
  },
  {
   "cell_type": "code",
   "execution_count": 22,
   "metadata": {},
   "outputs": [
    {
     "name": "stdout",
     "output_type": "stream",
     "text": [
      "{'rope': 'reipi', 'house': 'hús', 'red': 'rauður'}\n",
      "{'rope': ['reipi'], 'house': ['hús'], 'red': ['rauður'], 'vaccum': ['tómarúm', 'ryksuga']}\n"
     ]
    }
   ],
   "source": [
    "def snuavid(U):\n",
    "    return {value: keyname for keyname, value in U.items()}\n",
    "\n",
    "ordabok = {\"reipi\":\"rope\", \"hús\":\"house\", \"rauður\":\"red\"}\n",
    "\n",
    "print(snuavid(ordabok))\n",
    "\n",
    "def snuavid2(U):\n",
    "    L={}\n",
    "    for keyname, value in U.items():\n",
    "        if value in L:\n",
    "            L[value].append(keyname)\n",
    "        else:\n",
    "            L[value] = [keyname]\n",
    "    return L\n",
    "\n",
    "ordabok = {\"reipi\":\"rope\", \"hús\":\"house\", \"rauður\":\"red\", \"tómarúm\":\"vaccum\", \"ryksuga\":\"vaccum\"}\n",
    "\n",
    "print(snuavid2(ordabok))"
   ]
  },
  {
   "cell_type": "markdown",
   "metadata": {},
   "source": [
    "# Shell-röðun\n",
    "Árið 1959 kom út grein eftir Donald L Shell með hraðvirku reikniriti til að raða 𝑁 tölum (eða öðrum hlutum) sem síðar var kallað Shell-sort. Það er áhugavert að skoða greinina, sérstaklega hvernig reikniritið er sett fram með svonefndu flæðiriti, en í byrjun tölvualdar voru þau algeng. Reikniritið vinnur með minnkandi runu af bilum (gaps), $b_1>b_2>...>b_n=1$. Í fyrstu umferð er sætum $0,b_1,2b_1,…$ raðað með innsetningarröðun (sjá verkefni 9), þvínæst sætum $1,1+b_1,1+2b_1,…,$ o.s.frv. þar til allar hlutrunur sæta með millibili $b_1$ eru komnar í röð. Þetta er svo endurtekið fyrir öll bilin. Í upphaflegu grein Shells var $b_k$ valið sem $\\left\\lfloor N/2^k \\right\\rfloor$ en síðan hafa menn þróað ýmsar aðrar bilarunur ($\\left\\lfloor x \\right\\rfloor = \\operatorname{int}(x)$; þ.e. sker aukastafi af $x$).\n",
    "\n",
    "Hér er reiknirit sem Shell-raðar lista $a[0],a[1]...a[N-1]$ með upphaflegu bilarununni:\n",
    "\n",
    "```\n",
    "fyrir k = 1,2,3,...:\n",
    "   bil = int(N/2^k)\n",
    "   ef bil < 1 þá út úr lykkju\n",
    "   fyrir i = 0, 1,..., bil-1:\n",
    "       raða a[i], a[i+bil], a[i+2*bil],... með innsetningarröðun\n",
    "```\n",
    "\n",
    "Skrifið Python-fall sem Shell-raðar. Byrjið á að leysa verkefni 9 ef þið eruð ekki þegar búin að því. Það er hægt að nota heiltöludeilingu ($\\fbox{//}$) til að reikna $\\fbox{bil}$ og hlutrunan í neðstu línunni fæst með $\\fbox{a[i:N:bil]}$. Byggið á reikniritinu að framan (og alls ekki ná í tilbúið forrit af netinu). Prófið að raða listunum $\\fbox{[8,3,2]}$ og $\\fbox{[8,5,1,9,6,2,1,7,11,3]}$, og auk þess einum sjálfvöldum lista með 12 tveggja stafa tölum.\n"
   ]
  },
  {
   "cell_type": "code",
   "execution_count": 23,
   "metadata": {},
   "outputs": [
    {
     "name": "stdout",
     "output_type": "stream",
     "text": [
      "[2, 3, 8]\n",
      "[1, 1, 2, 3, 5, 6, 7, 8, 9, 11]\n",
      "[11, 13, 18, 29, 40, 44, 58, 67, 67, 71, 77, 92]\n"
     ]
    }
   ],
   "source": [
    "def insertsort(A):\n",
    "  i = 1\n",
    "  while i < len(A):\n",
    "    j = i\n",
    "    while j > 0 and A[j-1] > A[j]:\n",
    "        A[j-1],A[j] = A[j],A[j-1]\n",
    "        j -= 1\n",
    "    i += 1\n",
    "  return A\n",
    "\n",
    "\n",
    "def shellsort(a):\n",
    "  k = 1\n",
    "  N = len(a)\n",
    "  while(True):\n",
    "    bil = N//2**k\n",
    "    k+= 1\n",
    "    if bil < 1:\n",
    "      break\n",
    "    for i in range(bil):\n",
    "      b = insertsort(a[i:N:bil])   \n",
    "  return b\n",
    "\n",
    "print(shellsort([8,3,2]))\n",
    "print(shellsort([8,5,1,9,6,2,1,7,11,3]))\n",
    "print(shellsort([67, 92, 18, 44, 67, 71, 77, 58, 29, 40, 11, 13]))"
   ]
  },
  {
   "cell_type": "markdown",
   "metadata": {},
   "source": [
    "# Skrá með íslenskum orðum\n",
    "\n",
    "Þetta verkefni er lauslega byggt á verkefnum í 9. kafla Think Python kennslubókarinnar. Í skrá með veffang https://cs.hi.is/python/ord.txt eru 217 þúsund íslensk orð. Þið getið skoðað skrána með því að smella á hlekkinn. Í verkefninu sem hér fylgir þarf að nota ýmsar strengjaaðgerðir sem lýst er í kafla 5.2.\n",
    "1. Opnið skrána með $\\fbox{urlopen}$ og lesið hana inn eins og sýnt er í kafla 8.2.4. Prentið út fyrstu 5 orðin og líka tíu þúsundasta hvert orð og öll orð sem eru lengri en 30 stafir.\n",
    "2. Spegilorð (palindrome) er orð sem er eins lesið afturábak og áfram (t.d. kajak). Skrifið rökfall $\\fbox{spegilorð(s)}$ sem kannar hvort s sé spegilorð [rökfall er fall sem skilar $\\fbox{True}$ eða $\\fbox{False}$ og prófið]. Skrifið í framhaldi út öll spegilorð í skránni, 10 á hverja línu. Fyrsta linan ætti að verða: $$\\fbox{abba, afa, aga, agga, aka, ala, alla, ama, amma, ana,}$$\n",
    "3. Finnið þau orð í skránni sem hafa einn sérhljóða og hámarksfjölda samhljóða."
   ]
  },
  {
   "cell_type": "code",
   "execution_count": 25,
   "metadata": {},
   "outputs": [
    {
     "name": "stdout",
     "output_type": "stream",
     "text": [
      "abba abbadís abbadísar abbadísarinnar abbadísartíð \n",
      "  3512 alþjóðaheilbrigðisstofnunarinnar\n",
      "  3574 alþjóðasiglingamálastofnunarinnar\n",
      "  5822 atvinnuleysistryggingasjóðurinn\n",
      " 10000 barónessunni\n",
      " 20000 bókmenntaheimurinn\n",
      " 30000 eldvarpa\n",
      " 39136 flugslysarannsóknarnefndarinnar\n",
      " 40000 flögrað\n",
      " 50000 galdrakerlingin\n",
      " 60000 hafnarverkamannsins\n",
      " 70000 hnýtta\n",
      " 80000 illkvittnislega\n",
      " 90000 konunglegan\n",
      "100000 leiðbeiningu\n",
      "110000 margnefndi\n",
      "120000 nemann\n",
      "121142 norðuratlantshafssjávarspendýraráðsins\n",
      "121175 norðurheimskautsrannsóknaráðsins\n",
      "130000 ramman\n",
      "140000 sandhólum\n",
      "150000 skynsemd\n",
      "160000 stjórnarþátttöku\n",
      "170000 sólarhofsins\n",
      "172917 teiknimyndaævintýrapoppálfkonan\n",
      "180000 tötralegum\n",
      "190000 veðurratsjá\n",
      "200000 árásargjörn\n",
      "210000 útdauðar\n",
      "abba, afa, aga, agga, aka, ala, alla, ama, amma, ana, \n",
      "argra, assa, ata, axa, aða, gíg, gýg, illi, inni, iðaði, \n",
      "kajak, kok, kák, kæk, kók, kúk, mm, muninum, munnum, munum, \n",
      "mussum, natan, nón, píp, rabbar, radar, raddar, rafar, ragar, rakar, \n",
      "rammar, rappar, rasar, rassar, ratar, raðar, rifir, riðir, ruddur, rullur, \n",
      "runur, rár, rær, rór, rör, rýr, sinnis, stúts, summus, sás, \n",
      "tillit, tæt, uku, ullu, undnu, unnu, unu, uxu, á, æ, \n",
      "ísí, ó, óbó, ódó, óró, ý, ['bhmfólks', 'skrappst', 'skyggnst', 'strengst']\n"
     ]
    }
   ],
   "source": [
    "#1\n",
    "f = urlopen(\"https://cs.hi.is/python/ord.txt\")\n",
    "ordList = []\n",
    "\n",
    "for line in f:\n",
    "   ordList.append(line.decode().strip())\n",
    "\n",
    "fimmOrd = \"\"\n",
    "for i in range(5):\n",
    "    fimmOrd += ordList[i] + \" \"\n",
    "\n",
    "print(fimmOrd)\n",
    "\n",
    "for k,i in enumerate(ordList, 1):\n",
    "    if k % 10000 == 0 or len(i) > 30:\n",
    "        print(f'{k:6}', i)\n",
    "        \n",
    "#2\n",
    "def palindrome(s):\n",
    "    return (s==s[::-1])\n",
    "\n",
    "count = 0\n",
    "\n",
    "for i in ordList:\n",
    "    if palindrome(i):\n",
    "        if count == 10:\n",
    "            print()\n",
    "            count = 0\n",
    "        else:\n",
    "            print(i, end=\", \")\n",
    "            count +=1\n",
    "\n",
    "#3\n",
    "def longest(s):\n",
    "    vowels = ['a', 'á', 'e', 'é', 'i', 'í', 'o', 'ó', 'u', 'ú', 'y', 'ý', 'æ', 'ö']\n",
    "    longword = []\n",
    "    longest_word_length = 0\n",
    "    longest_words = []\n",
    "    for i in s:\n",
    "        word = i.lower()\n",
    "        count = sum(1 for char in word if char in vowels)\n",
    "        if count == 1:\n",
    "            longword.append(word)\n",
    "            word_length = len(word)\n",
    "            if word_length > longest_word_length:\n",
    "                longest_word_length = word_length\n",
    "    for word in longword:\n",
    "        if len(word) == longest_word_length:\n",
    "            longest_words.append(word)\n",
    "    print(longest_words)\n",
    "longest(ordList)"
   ]
  },
  {
   "cell_type": "markdown",
   "metadata": {},
   "source": []
  }
 ],
 "metadata": {
  "kernelspec": {
   "display_name": "base",
   "language": "python",
   "name": "python3"
  },
  "language_info": {
   "codemirror_mode": {
    "name": "ipython",
    "version": 3
   },
   "file_extension": ".py",
   "mimetype": "text/x-python",
   "name": "python",
   "nbconvert_exporter": "python",
   "pygments_lexer": "ipython3",
   "version": "3.9.13"
  }
 },
 "nbformat": 4,
 "nbformat_minor": 2
}
