{
 "cells": [
  {
   "cell_type": "code",
   "execution_count": null,
   "metadata": {},
   "outputs": [],
   "source": [
    "import math\n",
    "import tabulate"
   ]
  },
  {
   "cell_type": "markdown",
   "metadata": {},
   "source": [
    "### 1 Verkefni: Annars stigs jafna"
   ]
  },
  {
   "cell_type": "markdown",
   "metadata": {},
   "source": [
    "Skrifið forrit sem leysir annars stigs jöfnu\n",
    "\n",
    "$$\n",
    "a x^2 + b x + c = 0\n",
    "$$\n",
    "\n",
    "Forritið á að lesa inn $a$, $b$ og $c$ með $\\fbox{input}$-skipunum (með viðeigandi beiðnum til notanda). Ef jafnan hefur tvær lausnir á forritið að skrifa „Lausnirnar eru:“ og síðan lausnirnar, ef hún hefur eina lausn á að skrifa hana með viðeigandi skýringu og ef engin lausn er skal skrifa skilaboð um það. Lausn eða lausnir eru gefnar með formúlunni\n",
    "\n",
    "$$\n",
    "x = \\frac{-b \\pm \\sqrt{b^2 - 4ac}}{2a}\n",
    "$$\n",
    "\n",
    "Ef stærðin undir kvaðratrótinni er neikvæð þá er engin lausn, ef hún er núll er ein lausn, annars tvær. Gerið auk þess ráð fyrir þeim möguleika að $a$ sé 0. Ef $b$ er ekki líka 0 þá er jafnan fyrsta stigs og forritið á að skrifa að svo sé, ásamt lausninni (sem er þá ein). Látið $b$ og $c$ vera gefin með afmælisdegi ykkar (dagur og mánuður) og prófið forritið fyrir fjórar mismunandi jöfnur, fyrsta stigs jöfnuna $bx+c=0$ og annars stigs jöfnur sem hafa enga, eina og tvær lausnir þar á meðal jöfnuna $x^2+bx+c=0$. Setjið viðeigandi skjölunarstreng fremst í forritið."
   ]
  },
  {
   "cell_type": "code",
   "execution_count": 1,
   "metadata": {},
   "outputs": [
    {
     "name": "stdout",
     "output_type": "stream",
     "text": [
      "Það er engin lausn\n"
     ]
    }
   ],
   "source": [
    "a = int(input(\"Veldu tölu: \"))\n",
    "b = int(input(\"Veldu tölu: \"))\n",
    "c = int(input(\"Veldu tölu: \"))\n",
    "\n",
    "d = (b**2 - (4 * a * c))\n",
    "\n",
    "if a==0:\n",
    "    print(\"Þetta er línuleg jafna með lausnina: \",)\n",
    "\n",
    "elif d<0:\n",
    "    print(\"Það er engin lausn\")\n",
    "else:\n",
    "    print(\"Fyrri lausn er: \", (-b + math.sqrt(d))/(2*a))\n",
    "    print(\"Seinni lausn er: \", (-b - math.sqrt(d))/(2*a))"
   ]
  },
  {
   "cell_type": "markdown",
   "metadata": {},
   "source": [
    "### 2. Töluleg heildun"
   ]
  },
  {
   "cell_type": "markdown",
   "metadata": {},
   "source": [
    "##### A. Samsett trapisuregla\n",
    "Í sýnidæmi og æfingu í kafla 4.9 voru búin til föll til að nálga heildi með flatarmáli einnar eða tveggja trapisa. Föllin voru prófuð með heildunum:\n",
    "\n",
    "$$\n",
    "(*)\\hspace{1cm}\\int_1^2\\frac{\\sin(x)}{x} dx\\hspace{1cm}\\text{og}\\hspace{1cm}\n",
    "(**)\\hspace{1cm}\\int_0^1 e^x dx\n",
    "$$\n",
    "\n",
    "og fengust eftirfarandi nálganir:\n",
    "<center>\n",
    "\n",
    "|           |      (*)      |     (**)      |\n",
    "|:---------:|:-------------:|:-------------:|\n",
    "| 1 trapisa |     0.648     |     1.859     |\n",
    "| 2 trapisur|     0.657     |     1.754     |\n",
    "| rétt gildi|   0.6593299   |   1.7182818   |\n",
    "\n",
    "</center>\n",
    "\n",
    "Enn betri nálgun fæst með samsettri trapisureglu sem notar n trapisur. Forritið hana og prófið með (*) og (**) og $n=4$. Kannið líka hve stórt $n$ þarf að vera til að fá (næstum) 7 rétta aukastafi, sbr. uppgefin rétt gildi. Hér eru formúlurnar sem þarf að nota ásamt skýringarmynd:\n",
    "\n",
    "&nbsp;&nbsp;&nbsp;&nbsp;&nbsp;&nbsp; Bilinu $[a,b]$ er skipt upp í n hlutbil sem hvert hefur lengd $ \\Delta x = \\dfrac{b-a}{n}$. \\\n",
    "&nbsp;&nbsp;&nbsp;&nbsp;&nbsp;&nbsp; Skiptipunktarnir eru: $a = x_0 < x_1 < x_2 < \\cdots < x_n = b$ þar sem $x_i = a + i\\Delta x$.\n",
    "\n",
    "<center>\n",
    "\n",
    "![Javatpoint](https://cs.hi.is/python/_images/samsett-trap.jpg)  \n",
    "\n",
    "</center>\n",
    "&nbsp;&nbsp;&nbsp;&nbsp;&nbsp;&nbsp; þá fæst nálgunin:\n",
    "\n",
    "$$\n",
    "\\int_{a}^{b} f(x)\\,dx\n",
    "\\approx T_n = \\frac{\\Delta x}{2}(f(x_0) + 2f(x_1) + 2f(x_2) +\n",
    "\\cdots + 2f(x_{n-1}) + f(x_n) )\n",
    "$$"
   ]
  },
  {
   "cell_type": "code",
   "execution_count": null,
   "metadata": {},
   "outputs": [],
   "source": []
  },
  {
   "cell_type": "markdown",
   "metadata": {},
   "source": [
    "##### B. Simpsons-regla\n",
    "Skrifa skal forrit til að nálga heildi með svonefndri Simpsons-regla. Í trapisureglu er heildisbilinu skipt í n\n",
    "\n",
    "hlutbil, fallið sem heilda skal nálgað með beinum línustrikum og heildi þess nálgað með flatarmálinu undir þessum línustrikum. Í Simpsonsreglu er fallið hinsvegar nálgað (eða brúað eins og það er kallað) með parabólum og heildið nálgað með flatarmálinu undir þeim. Skoðið endilega Wikipedíu-grein um aðferðina.\n",
    "\n",
    "Simpsons-formúlan er eftirfarandi:\n",
    "$$\n",
    "\\ \\int{a}^{b} f(x) \\, dx \\approx \\frac{\\Delta x}{3}\\left(f(x_0) + 4f(x_1)+2f(x_2)+4f(x_3)+2f(x_4)+\\cdots+4f(x_{n-1}) + f(x_{n})\\right)\n",
    "$$\n",
    "\n",
    "þar sem $\\Delta 𝑥$\n",
    "og $x_i$ eru eins og í A-lið og n\n",
    "\n",
    "er slétt tala.\n",
    "\n",
    "Skrifið fall simpson(f,a,b,n) sem nálgar heildið af f frá a til b með samsettri Simpsons-reglu með n hlutbilum.\n",
    "\n",
    "Prófið með heildunum (*) og (**) úr A-lið með 4 hlutbilum. Ef rétt er forritað ætti að fást (∗)\n",
    "0.65933 og (∗∗) 1.71832. Kannið líka hve stórt 𝑛 þarf að vera til að fá alla 7 aukastafina sem gefnir eru í töflunni í A-lið rétta. Heildið a lokum eitthvert sjálfvalið fall þar sem afmælisdagur ykkar kemur við sögu."
   ]
  },
  {
   "cell_type": "code",
   "execution_count": null,
   "metadata": {},
   "outputs": [],
   "source": []
  },
  {
   "cell_type": "markdown",
   "metadata": {},
   "source": []
  },
  {
   "cell_type": "code",
   "execution_count": null,
   "metadata": {},
   "outputs": [],
   "source": [
    "from tabulate import tabulate\n",
    "\n",
    "def CelciusToFahrenheit():\n",
    "    ctof = []\n",
    "    for i in range(-30, 51, 5):\n",
    "        x = ((9 / 5) * i) + 32\n",
    "        ctof.append([i, x])\n",
    "    print(tabulate(ctof,headers=[\"Celsius\",\"Fahrenheit\"]))\n",
    "\n",
    "CelciusToFahrenheit()"
   ]
  }
 ],
 "metadata": {
  "kernelspec": {
   "display_name": "base",
   "language": "python",
   "name": "python3"
  },
  "language_info": {
   "codemirror_mode": {
    "name": "ipython",
    "version": 3
   },
   "file_extension": ".py",
   "mimetype": "text/x-python",
   "name": "python",
   "nbconvert_exporter": "python",
   "pygments_lexer": "ipython3",
   "version": "3.9.12"
  }
 },
 "nbformat": 4,
 "nbformat_minor": 2
}
