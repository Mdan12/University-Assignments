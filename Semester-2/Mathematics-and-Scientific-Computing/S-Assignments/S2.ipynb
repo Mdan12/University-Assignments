{
 "cells": [
  {
   "attachments": {},
   "cell_type": "markdown",
   "metadata": {},
   "source": [
    "<h1><center>Heimadæmi S2</center></h1>"
   ]
  },
  {
   "attachments": {},
   "cell_type": "markdown",
   "metadata": {},
   "source": [
    "# Simpsons-regla\n",
    "Skrifa skal forrit til að nálga heildi með svonefndri Simpsons-regla. Í trapisureglu er heildisbilinu skipt í n\n",
    "\n",
    "hlutbil, fallið sem heilda skal nálgað með beinum línustrikum og heildi þess nálgað með flatarmálinu undir þessum línustrikum. Í Simpsonsreglu er fallið hinsvegar nálgað (eða brúað eins og það er kallað) með parabólum og heildið nálgað með flatarmálinu undir þeim. Skoðið endilega Wikipedíu-grein um aðferðina.\n",
    "\n",
    "Simpsons-formúlan er eftirfarandi:\n",
    "$$\n",
    "\\ \\int{a}^{b} f(x) \\, dx \\approx \\frac{\\Delta x}{3}\\left(f(x_0) + 4f(x_1)+2f(x_2)+4f(x_3)+2f(x_4)+\\cdots+4f(x_{n-1}) + f(x_{n})\\right)\n",
    "$$\n",
    "\n",
    "þar sem delta𝑥\n",
    "og xi eru eins og í A-lið og n\n",
    "\n",
    "er slétt tala.\n",
    "\n",
    "Skrifið fall simpson(f,a,b,n) sem nálgar heildið af f frá a til b með samsettri Simpsons-reglu með n hlutbilum.\n",
    "\n",
    "Prófið með heildunum (*) og (**) úr A-lið með 4 hlutbilum. Ef rétt er forritað ætti að fást (∗)\n",
    "0.65933 og (∗∗) 1.71832. Kannið líka hve stórt 𝑛 þarf að vera til að fá alla 7 aukastafina sem gefnir eru í töflunni í A-lið rétta. Heildið a lokum eitthvert sjálfvalið fall þar sem afmælisdagur ykkar kemur við sögu."
   ]
  },
  {
   "cell_type": "code",
   "execution_count": 18,
   "metadata": {},
   "outputs": [
    {
     "name": "stdout",
     "output_type": "stream",
     "text": [
      "Simpsons-reglan á fyrri jöfnu tveimur hlutblium hefur svarið 0.6593510548608137, hinsvegar hefur seinni jafnan svarið 1.718318841921747 ef skipt er í 4 hlutbita.\n",
      "Ég er fæddur 24.11.1993 og nota því jöfununa með þeim dagsetningum. Svarið er því 33.14483895863248\n"
     ]
    }
   ],
   "source": [
    "from math import sin\n",
    "from math import cos\n",
    "\n",
    "def simpson(f,a,b,n):\n",
    "    dx = (b-a)/n\n",
    "    s = f(a)+f(b)\n",
    "    for i in range (1,n):\n",
    "        xi = a+i*dx\n",
    "        if i%2==0:\n",
    "            s += 2*f(xi)\n",
    "        else:\n",
    "            s += 4*f(xi)\n",
    "    return (dx/3)*s  \n",
    "\n",
    "from math import sin, e\n",
    "\n",
    "def g(x): return sin(x)/x\n",
    "def h(x): return e**x\n",
    "def z(x): return sin(2*x)*cos(2*x)\n",
    "\n",
    "I1 = simpson(g,1,2,2)\n",
    "I2 = simpson(h,0,1,4)\n",
    "I3 = simpson(z,24,93,11)\n",
    "print(f\"Simpsons-reglan á fyrri jöfnu tveimur hlutblium hefur svarið {I1}, hinsvegar hefur seinni jafnan svarið {I2} ef skipt er í 4 hlutbita.\")\n",
    "print(f\"Ég er fæddur 24.11.1993 og nota því jöfununa með þeim dagsetningum. Svarið er því {I3}\")"
   ]
  },
  {
   "cell_type": "code",
   "execution_count": 225,
   "metadata": {},
   "outputs": [
    {
     "name": "stdout",
     "output_type": "stream",
     "text": [
      "það tekur 10 trapisur á fyrri jöfnu til þess að fá rétt gildi\n",
      "það tekur 26 trapisur á seinni jöfnu til þess að fá rétt gildi\n"
     ]
    }
   ],
   "source": [
    "n=1\n",
    "while round(simpson(g,1,2,n),7)!=0.6593299:\n",
    "    n+=1\n",
    "print(f\"það tekur {n} trapisur á fyrri jöfnu til þess að fá rétt gildi\")\n",
    "\n",
    "m=1\n",
    "while round(simpson(h,0,1,m),7)!=1.7182818:\n",
    "    m+=1\n",
    "print(f\"það tekur {m} trapisur á seinni jöfnu til þess að fá rétt gildi\")\n"
   ]
  },
  {
   "attachments": {},
   "cell_type": "markdown",
   "metadata": {},
   "source": [
    "# Bóluröðun\n",
    "Hér er reiknirit sem raðar n-staka lista x með bóluröðun bubble sort, sem snýst um að rúlla í gegn um stökin og ef tvö samliggjandi stök eru í öfugri röð þá er víxlað á þeim. Þetta er endurtekið þar til öll stökin eru í röð. Minnstu stökin bobbla smám saman eins og loftbólur fremst í listann.\n",
    "```\n",
    "víxlað = satt\n",
    "meðan víxlað\n",
    "   víxlað = ósatt\n",
    "   fyrir i=1,...,n-1:\n",
    "      ef x[i-1] > x[i] þá\n",
    "         víxla á x[i-1] og x[i]\n",
    "         víxlað = satt\n",
    "```\n",
    "\n",
    "Þýðið þetta reiknirit yfir í Python-fall bóluröðun(x). Athugið að til að víxla á breytum x og y má nota (x,y) = (y,x). Prófið með því að raða listanum [3,8,1,2,5,4].\n"
   ]
  },
  {
   "cell_type": "code",
   "execution_count": 227,
   "metadata": {},
   "outputs": [
    {
     "name": "stdout",
     "output_type": "stream",
     "text": [
      "Ef við notum bóluröðun á eftirfarandi lista: [3, 8, 1, 2, 5, 4] þá fáum við útkommuna [1, 2, 3, 4, 5, 8]\n"
     ]
    }
   ],
   "source": [
    "def bolurodun(x):\n",
    "    reversed = True\n",
    "    n = len(x)\n",
    "    while (reversed):\n",
    "        reversed = False\n",
    "        for i in range (1,n):\n",
    "            if x[i-1]> x[i]:\n",
    "                x[i-1], x[i] = x[i], x[i-1]\n",
    "                reversed = True\n",
    "    return x\n",
    "\n",
    "x = [3,8,1,2,5,4]\n",
    "\n",
    "print(f\"Ef við notum bóluröðun á eftirfarandi lista: {x} þá fáum við útkommuna {bolurodun(x)}\")\n"
   ]
  },
  {
   "attachments": {},
   "cell_type": "markdown",
   "metadata": {},
   "source": [
    "# Vaxtareikningur\n",
    "### 1.\n",
    "Skrifið fall með stika u, p, k, m sem reiknar heildarvexti, 𝑣, af upphæð 𝑢 sem er á 𝑝% vöxtum í 𝑘 ár og 𝑚 mánuði skv. formúlunni:\n",
    "$$\n",
    "𝑣 = 𝑢(1+𝑎)^k (1+\\frac{𝑎𝑚}{12})−𝑢, þar sem 𝑎 = \\frac{𝑝}{100}\n",
    "$$\n",
    "\n",
    "Skerið af aura (með fallinu int), hafið viðeigandi skjölunarstreng í fallinu, og prófið það með því að reikna 2% vexti af 10000 kr. í 3 ár og 4 mánuði (ætti að gefa 682 kr.)."
   ]
  },
  {
   "cell_type": "code",
   "execution_count": 2,
   "metadata": {},
   "outputs": [
    {
     "name": "stdout",
     "output_type": "stream",
     "text": [
      "Ef vextir eru 2% á 10.000kr sem ég legg inn þá eru heildarvextir á þeirri upphæð 682kr. eftir 3. ár og 4 mánuði\n"
     ]
    }
   ],
   "source": [
    "def interest(upphaed, prosenta, ar, manudir):\n",
    "    a = prosenta/100\n",
    "    return (upphaed*(1+a)**ar) * (1+(a*manudir)/12)-upphaed\n",
    "    \n",
    "print(f\"Ef vextir eru 2% á 10.000kr sem ég legg inn þá eru heildarvextir á þeirri upphæð {int(interest(10000, 2, 3, 4))}kr. eftir 3. ár og 4 mánuði\")"
   ]
  },
  {
   "attachments": {},
   "cell_type": "markdown",
   "metadata": {},
   "source": [
    "### 2.\n",
    "Reiknið heildarvexti til dagsins í dag ef 25000 kr. hefðu verið lagðar inn á 3% vexti á fæðingardegi ykkar (nálgið aldur ykkar í heilan mánuð), og reiknið jafnframt út hlutfall vaxtanna af upphaflegri upphæð. Notið f-strengi til að skrifa niðurstöðurnar með hæfilegum skýringartexta."
   ]
  },
  {
   "cell_type": "code",
   "execution_count": 14,
   "metadata": {},
   "outputs": [
    {
     "name": "stdout",
     "output_type": "stream",
     "text": [
      "Ég er 29 ára og tveggja mánaða gamall og fæ því 34208kr. vexti ef ég hefði lagt inn 25.000 kr. við fæðingu.\n",
      "Vaxtarhlufall frá upphafi er: 136.83%\n"
     ]
    }
   ],
   "source": [
    "# Age: 29 year, 2 months\n",
    "\n",
    "print(f\"Ég er 29 ára og tveggja mánaða gamall og fæ því {int(interest(25000, 3, 29, 2))}kr. vexti ef ég hefði lagt inn 25.000 kr. við fæðingu.\")\n",
    "print(f\"Vaxtarhlufall frá upphafi er: {(interest(25000, 3, 29, 2)/25000)*100:.2f}%\")"
   ]
  },
  {
   "attachments": {},
   "cell_type": "markdown",
   "metadata": {},
   "source": [
    "### 3.\n",
    "Skrifið fall sem ákvarðar hve mörg ár og mánuði það tekur upphæð á 𝑛% vöxtum að tvöfaldast (notið t.d. tvöfalda lykkju, og return á viðeigandi stað). Prófið með n = 13 (ætti að gefa 5 ár og 8 mánuði) og með 𝑛 gefnu með fæðingarmánuði ykkar (t.d. 8 fyrir ágúst)."
   ]
  },
  {
   "cell_type": "code",
   "execution_count": 16,
   "metadata": {},
   "outputs": [
    {
     "name": "stdout",
     "output_type": "stream",
     "text": [
      "Ef vextir eru 11% þá tekur það 6 ár og 8 mánuði að tvöfalda upphæðina.\n"
     ]
    }
   ],
   "source": [
    "def interestTime(upp, n):\n",
    "    ar = 0\n",
    "    v=0\n",
    "    while (v<=upp):\n",
    "        manudir = -1\n",
    "        ar +=1\n",
    "        while (v<=upp and manudir<12):\n",
    "            manudir +=1\n",
    "            v = interest(upp, n, ar, manudir)\n",
    "            \n",
    "        \n",
    "    return ar, manudir\n",
    "\n",
    "#Fæddur í Nóvember\n",
    "print(f\"Ef vextir eru 11% þá tekur það {interestTime(1000, 11)[0]} ár og {interestTime(1000, 11)[1]} mánuði að tvöfalda upphæðina.\")"
   ]
  }
 ],
 "metadata": {
  "kernelspec": {
   "display_name": "Python 3",
   "language": "python",
   "name": "python3"
  },
  "language_info": {
   "codemirror_mode": {
    "name": "ipython",
    "version": 3
   },
   "file_extension": ".py",
   "mimetype": "text/x-python",
   "name": "python",
   "nbconvert_exporter": "python",
   "pygments_lexer": "ipython3",
   "version": "3.11.1"
  },
  "orig_nbformat": 4,
  "vscode": {
   "interpreter": {
    "hash": "5c7b89af1651d0b8571dde13640ecdccf7d5a6204171d6ab33e7c296e100e08a"
   }
  }
 },
 "nbformat": 4,
 "nbformat_minor": 2
}
