{
 "cells": [
  {
   "cell_type": "code",
   "execution_count": 21,
   "metadata": {},
   "outputs": [
    {
     "name": "stdout",
     "output_type": "stream",
     "text": [
      "Taylor talan þegar x=0.2 og n=4 er: 0.197395505\n",
      "Taylor talan þegar x=0.2 og n=10 er: 0.19739556\n"
     ]
    }
   ],
   "source": [
    "def taylortan(x,n):\n",
    "    sum = x\n",
    "    liður = x\n",
    "    for i in range(1,n):\n",
    "        k = (2*i)+1\n",
    "        liður *= -x*x\n",
    "        sum += liður/k\n",
    "    return sum\n",
    "\n",
    "\n",
    "\n",
    "print(f'Taylor talan þegar x=0.2 og n=4 er: {taylortan(0.2,4):.9}')\n",
    "print(f'Taylor talan þegar x=0.2 og n=10 er: {taylortan(0.2,10):.9}')"
   ]
  },
  {
   "cell_type": "code",
   "execution_count": 14,
   "metadata": {},
   "outputs": [
    {
     "name": "stdout",
     "output_type": "stream",
     "text": [
      "128\n",
      "127.0\n",
      "8\n"
     ]
    }
   ],
   "source": [
    "from math import floor\n",
    "\n",
    "sum=0\n",
    "for i in range(1,256,2):\n",
    "    sum+=1\n",
    "print(sum)\n",
    "print(254/2)  \n",
    "print(2**3)"
   ]
  }
 ],
 "metadata": {
  "kernelspec": {
   "display_name": "base",
   "language": "python",
   "name": "python3"
  },
  "language_info": {
   "codemirror_mode": {
    "name": "ipython",
    "version": 3
   },
   "file_extension": ".py",
   "mimetype": "text/x-python",
   "name": "python",
   "nbconvert_exporter": "python",
   "pygments_lexer": "ipython3",
   "version": "3.9.13"
  }
 },
 "nbformat": 4,
 "nbformat_minor": 2
}
