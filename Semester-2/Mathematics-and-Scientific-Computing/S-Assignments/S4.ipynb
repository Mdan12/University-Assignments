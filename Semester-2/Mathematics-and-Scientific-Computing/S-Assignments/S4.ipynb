{
 "cells": [
  {
   "attachments": {},
   "cell_type": "markdown",
   "metadata": {},
   "source": [
    "## 12 Shell-röðun"
   ]
  },
  {
   "cell_type": "code",
   "execution_count": 2,
   "metadata": {},
   "outputs": [
    {
     "name": "stdout",
     "output_type": "stream",
     "text": [
      "[2, 3, 8]\n",
      "[1, 1, 2, 3, 5, 6, 7, 8, 9, 11]\n",
      "[11, 13, 18, 29, 40, 44, 58, 67, 67, 71, 77, 92]\n"
     ]
    }
   ],
   "source": [
    "def insertsort(A):\n",
    "  i = 1\n",
    "  while i < len(A):\n",
    "    j = i\n",
    "    while j > 0 and A[j-1] > A[j]:\n",
    "        A[j-1],A[j] = A[j],A[j-1]\n",
    "        j -= 1\n",
    "    i += 1\n",
    "  return A\n",
    "\n",
    "\n",
    "def shellsort(a):\n",
    "  k = 1\n",
    "  N = len(a)\n",
    "  while(True):\n",
    "    bil = N//2**k\n",
    "    k+= 1\n",
    "    if bil < 1:\n",
    "      break\n",
    "    for i in range(bil):\n",
    "      b = insertsort(a[i:N:bil])   \n",
    "  return b\n",
    "\n",
    "print(shellsort([8,3,2]))\n",
    "print(shellsort([8,5,1,9,6,2,1,7,11,3]))\n",
    "print(shellsort([67, 92, 18, 44, 67, 71, 77, 58, 29, 40, 11, 13]))\n"
   ]
  },
  {
   "attachments": {},
   "cell_type": "markdown",
   "metadata": {},
   "source": [
    "## 13.1 Skrá með íslenskum orðum"
   ]
  },
  {
   "cell_type": "code",
   "execution_count": 5,
   "metadata": {},
   "outputs": [
    {
     "name": "stdout",
     "output_type": "stream",
     "text": [
      "abba abbadís abbadísar abbadísarinnar abbadísartíð \n",
      "  3512 alþjóðaheilbrigðisstofnunarinnar\n",
      "  3574 alþjóðasiglingamálastofnunarinnar\n",
      "  5822 atvinnuleysistryggingasjóðurinn\n",
      " 10000 barónessunni\n",
      " 20000 bókmenntaheimurinn\n",
      " 30000 eldvarpa\n",
      " 39136 flugslysarannsóknarnefndarinnar\n",
      " 40000 flögrað\n",
      " 50000 galdrakerlingin\n",
      " 60000 hafnarverkamannsins\n",
      " 70000 hnýtta\n",
      " 80000 illkvittnislega\n",
      " 90000 konunglegan\n",
      "100000 leiðbeiningu\n",
      "110000 margnefndi\n",
      "120000 nemann\n",
      "121142 norðuratlantshafssjávarspendýraráðsins\n",
      "121175 norðurheimskautsrannsóknaráðsins\n",
      "130000 ramman\n",
      "140000 sandhólum\n",
      "150000 skynsemd\n",
      "160000 stjórnarþátttöku\n",
      "170000 sólarhofsins\n",
      "172917 teiknimyndaævintýrapoppálfkonan\n",
      "180000 tötralegum\n",
      "190000 veðurratsjá\n",
      "200000 árásargjörn\n",
      "210000 útdauðar\n"
     ]
    }
   ],
   "source": [
    "from urllib.request import urlopen\n",
    "f = urlopen(\"https://cs.hi.is/python/ord.txt\")\n",
    "ordList = []\n",
    "\n",
    "for line in f:\n",
    "   ordList.append(line.decode().strip())\n",
    "\n",
    "fimmOrd = \"\"\n",
    "for i in range(5):\n",
    "    fimmOrd += ordList[i] + \" \"\n",
    "\n",
    "print(fimmOrd)\n",
    "\n",
    "for k,i in enumerate(ordList, 1):\n",
    "    if k % 10000 == 0 or len(i) > 30:\n",
    "        print(f'{k:6}', i)"
   ]
  },
  {
   "attachments": {},
   "cell_type": "markdown",
   "metadata": {},
   "source": [
    "## 13.2 "
   ]
  },
  {
   "cell_type": "code",
   "execution_count": 19,
   "metadata": {},
   "outputs": [
    {
     "name": "stdout",
     "output_type": "stream",
     "text": [
      "abba, afa, aga, agga, aka, ala, alla, ama, amma, ana, \n",
      "argra, assa, ata, axa, aða, gíg, gýg, illi, inni, iðaði, \n",
      "kajak, kok, kák, kæk, kók, kúk, mm, muninum, munnum, munum, \n",
      "mussum, natan, nón, píp, rabbar, radar, raddar, rafar, ragar, rakar, \n",
      "rammar, rappar, rasar, rassar, ratar, raðar, rifir, riðir, ruddur, rullur, \n",
      "runur, rár, rær, rór, rör, rýr, sinnis, stúts, summus, sás, \n",
      "tillit, tæt, uku, ullu, undnu, unnu, unu, uxu, á, æ, \n",
      "ísí, ó, óbó, ódó, óró, ý, "
     ]
    }
   ],
   "source": [
    "def palindrome(s):\n",
    "    return (s==s[::-1])\n",
    "\n",
    "count = 0\n",
    "\n",
    "for i in ordList:\n",
    "    if palindrome(i):\n",
    "        if count == 10:\n",
    "            print()\n",
    "            count = 0\n",
    "        else:\n",
    "            print(i, end=\", \")\n",
    "            count +=1"
   ]
  },
  {
   "attachments": {},
   "cell_type": "markdown",
   "metadata": {},
   "source": [
    "## 13.3"
   ]
  },
  {
   "cell_type": "code",
   "execution_count": 38,
   "metadata": {},
   "outputs": [
    {
     "name": "stdout",
     "output_type": "stream",
     "text": [
      "['bhmfólks', 'skrappst', 'skyggnst', 'strengst']\n"
     ]
    }
   ],
   "source": [
    "def longest(s):\n",
    "    vowels = ['a', 'á', 'e', 'é', 'i', 'í', 'o', 'ó', 'u', 'ú', 'y', 'ý', 'æ', 'ö']\n",
    "    longword = []\n",
    "    longest_word_length = 0\n",
    "    longest_words = []\n",
    "    for i in s:\n",
    "        word = i.lower()\n",
    "        count = sum(1 for char in word if char in vowels)\n",
    "        if count == 1:\n",
    "            longword.append(word)\n",
    "            word_length = len(word)\n",
    "            if word_length > longest_word_length:\n",
    "                longest_word_length = word_length\n",
    "    for word in longword:\n",
    "        if len(word) == longest_word_length:\n",
    "            longest_words.append(word)\n",
    "    print(longest_words)\n",
    "longest(ordList)"
   ]
  },
  {
   "attachments": {},
   "cell_type": "markdown",
   "metadata": {},
   "source": [
    "## 15.1 og 15.2 Sameining nafnaskrár og einkunnarskrár"
   ]
  },
  {
   "cell_type": "code",
   "execution_count": 6,
   "metadata": {},
   "outputs": [
    {
     "name": "stdout",
     "output_type": "stream",
     "text": [
      "{'0176': '7.0', '0542': '8.0', '0970': '9.5', '1419': '6.5', '1577': '7.0', '2785': '9.0', '4218': '7.0', '4854': '9.0', '5469': '10.0', '6324': '6.5', '6558': '8.5', '7923': '5.5', '8003': '9.5', '8148': '5.0', '8492': '7.5', '9058': '7.5', '9134': '8.0', '9158': '8.0', '9340': '6.5', '9572': '8.0', '9576': '5.5', '9595': '8.5', '9649': '6.5', '9706': '9.0'}\n",
      "{'0176': 'Kjartan Valur Jónsson', '0542': 'Aðalheiður Pétursdóttir', '0970': 'Sigrún Ása Jónsdóttir', '1419': 'Erla Ýr Guðnadóttir', '1577': 'Hulda Ósk Jónasdóttir', '2785': 'Bjarki Már Sveinsson', '4218': 'Kristín Fjóludóttir', '4854': 'Anton Ingi Þórsson', '5469': 'Íris María Birgisdóttir', '6324': 'Ívar Sigurðsson', '6558': 'Ágúst Guðni Ingason', '7923': 'Steinunn Guðlaug Gunnarsdóttir', '8003': 'Eydís Þorsteinsdóttir', '8148': 'Signý Guðrún Pálsdóttir', '8492': 'Andri Oddur Steinarsson', '9058': 'Elías Ari Heimisson', '9134': 'Birta Lárusdóttir', '9158': 'Anna Sveinbjörnsdóttir', '9340': 'Bjarni Rúnar Kjartansson', '9572': 'Arna Þórisdóttir', '9576': 'Mark Johnson', '9595': 'Víðir Kristjánsson', '9649': 'Anna Kristinsdóttir', '9706': 'Jónas Valdimarsson'}\n"
     ]
    }
   ],
   "source": [
    "f = urlopen(\"https://cs.hi.is/python/einkunn.txt\")\n",
    "einkunnir = {}\n",
    "for line in f:\n",
    "    (tala, einkunn) = line.decode().strip().split()\n",
    "    einkunnir[tala] = einkunn\n",
    "print(einkunnir)\n",
    "\n",
    "f = urlopen(\"https://cs.hi.is/python/nofn.txt\")\n",
    "nofn = {}\n",
    "for line in f:\n",
    "    (tala,nafn) = line.decode().strip().split(maxsplit=1)\n",
    "    nofn[tala] = nafn\n",
    "print(nofn)"
   ]
  },
  {
   "attachments": {},
   "cell_type": "markdown",
   "metadata": {},
   "source": [
    "## 15.3"
   ]
  },
  {
   "cell_type": "code",
   "execution_count": 7,
   "metadata": {},
   "outputs": [
    {
     "name": "stdout",
     "output_type": "stream",
     "text": [
      "0176 7.0 Kjartan Valur Jónsson\n",
      "0542 8.0 Aðalheiður Pétursdóttir\n",
      "0970 9.5 Sigrún Ása Jónsdóttir\n",
      "1419 6.5 Erla Ýr Guðnadóttir\n",
      "1577 7.0 Hulda Ósk Jónasdóttir\n",
      "2785 9.0 Bjarki Már Sveinsson\n",
      "4218 7.0 Kristín Fjóludóttir\n",
      "4854 9.0 Anton Ingi Þórsson\n",
      "5469 10.0 Íris María Birgisdóttir\n",
      "6324 6.5 Ívar Sigurðsson\n",
      "6558 8.5 Ágúst Guðni Ingason\n",
      "7923 5.5 Steinunn Guðlaug Gunnarsdóttir\n",
      "8003 9.5 Eydís Þorsteinsdóttir\n",
      "8148 5.0 Signý Guðrún Pálsdóttir\n",
      "8492 7.5 Andri Oddur Steinarsson\n",
      "9058 7.5 Elías Ari Heimisson\n",
      "9134 8.0 Birta Lárusdóttir\n",
      "9158 8.0 Anna Sveinbjörnsdóttir\n",
      "9340 6.5 Bjarni Rúnar Kjartansson\n",
      "9572 8.0 Arna Þórisdóttir\n",
      "9576 5.5 Mark Johnson\n",
      "9595 8.5 Víðir Kristjánsson\n",
      "9649 6.5 Anna Kristinsdóttir\n",
      "9706 9.0 Jónas Valdimarsson\n"
     ]
    }
   ],
   "source": [
    "for i in einkunnir:\n",
    "    print(i,einkunnir[i], nofn[i])"
   ]
  },
  {
   "attachments": {},
   "cell_type": "markdown",
   "metadata": {},
   "source": [
    "## 15.4"
   ]
  },
  {
   "cell_type": "code",
   "execution_count": 8,
   "metadata": {},
   "outputs": [
    {
     "name": "stdout",
     "output_type": "stream",
     "text": [
      "Íris María Birgisdóttir var með hæstu einkunn: 10.0\n"
     ]
    }
   ],
   "source": [
    "def highest(eink,nafn):\n",
    "    highestGrade = 0\n",
    "    highestName = 0\n",
    "    for i in eink:\n",
    "        if (float(eink[i]) > highestGrade):\n",
    "            highestGrade = float(eink[i])\n",
    "            highestName = i\n",
    "    print(f'{nafn[highestName]} var með hæstu einkunn: {highestGrade}')\n",
    "\n",
    "highest(einkunnir,nofn)"
   ]
  }
 ],
 "metadata": {
  "kernelspec": {
   "display_name": "base",
   "language": "python",
   "name": "python3"
  },
  "language_info": {
   "codemirror_mode": {
    "name": "ipython",
    "version": 3
   },
   "file_extension": ".py",
   "mimetype": "text/x-python",
   "name": "python",
   "nbconvert_exporter": "python",
   "pygments_lexer": "ipython3",
   "version": "3.9.13"
  },
  "orig_nbformat": 4,
  "vscode": {
   "interpreter": {
    "hash": "38cca0c38332a56087b24af0bc80247f4fced29cb4f7f437d91dc159adec9c4e"
   }
  }
 },
 "nbformat": 4,
 "nbformat_minor": 2
}
