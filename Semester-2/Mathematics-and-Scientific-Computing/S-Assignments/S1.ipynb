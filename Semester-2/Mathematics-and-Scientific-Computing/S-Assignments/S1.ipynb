{
 "cells": [
  {
   "attachments": {},
   "cell_type": "markdown",
   "id": "b7c21dd1",
   "metadata": {},
   "source": [
    "# Hitastigum breytt\n",
    "Forrit sem skrifar út töflu til að breyta milli celcius og fahrenheit sem nær frá –30𝐶 til 50𝐶 og hleypur á 5𝐶. "
   ]
  },
  {
   "cell_type": "code",
   "execution_count": 29,
   "id": "70e4a3da",
   "metadata": {},
   "outputs": [
    {
     "name": "stdout",
     "output_type": "stream",
     "text": [
      "°C       °F\n",
      "------------\n",
      "-30     -22\n",
      "-25     -13\n",
      "-20      -4\n",
      "-15       5\n",
      "-10      14\n",
      "-5       23\n",
      " 0       32  \n",
      " 5       41  \n",
      " 10      50  \n",
      " 15      59  \n",
      " 20      68  \n",
      " 25      77  \n",
      " 30      86  \n",
      " 35      95  \n",
      " 40      104 \n",
      " 45      113 \n",
      " 50      122 \n"
     ]
    }
   ],
   "source": [
    "def CelciusToFahrenheit():\n",
    "    print(\"°C       °F\")\n",
    "    print(\"------------\")\n",
    "    for i in range(-30,51,5):\n",
    "        x = ((9/5)*i)+32\n",
    "        if i<0:\n",
    "            print(f\"{i:<3}    {x:>4.0f}\")\n",
    "        else:\n",
    "            print(f\" {i:<3}     {x:<4.0f}\")\n",
    "CelciusToFahrenheit()"
   ]
  },
  {
   "attachments": {},
   "cell_type": "markdown",
   "id": "bf7b50c9",
   "metadata": {},
   "source": [
    "# Rætur, lograr, kvaðröt\n",
    "Forrit sem reiknar ferningsrót, lógaritma og annað veldi á heiltölum frá 1 til og með 10. Hér er notast við for loop-u og while statements."
   ]
  },
  {
   "cell_type": "code",
   "execution_count": 5,
   "id": "c0712fdf",
   "metadata": {},
   "outputs": [
    {
     "name": "stdout",
     "output_type": "stream",
     "text": [
      "Ferningsrót 1 er 1.00, lógaritmi 1 er 0.00 og 1 í öðru veldi er 1\n",
      "Ferningsrót 2 er 1.41, lógaritmi 2 er 0.69 og 2 í öðru veldi er 4\n",
      "Ferningsrót 3 er 1.73, lógaritmi 3 er 1.10 og 3 í öðru veldi er 9\n",
      "Ferningsrót 4 er 2.00, lógaritmi 4 er 1.39 og 4 í öðru veldi er 16\n",
      "Ferningsrót 5 er 2.24, lógaritmi 5 er 1.61 og 5 í öðru veldi er 25\n",
      "Ferningsrót 6 er 2.45, lógaritmi 6 er 1.79 og 6 í öðru veldi er 36\n",
      "Ferningsrót 7 er 2.65, lógaritmi 7 er 1.95 og 7 í öðru veldi er 49\n",
      "Ferningsrót 8 er 2.83, lógaritmi 8 er 2.08 og 8 í öðru veldi er 64\n",
      "Ferningsrót 9 er 3.00, lógaritmi 9 er 2.20 og 9 í öðru veldi er 81\n",
      "Ferningsrót 10 er 3.16, lógaritmi 10 er 2.30 og 10 í öðru veldi er 100\n",
      "Ferningsrót 1 er 1.00, lógaritmi 1 er 0.00 og 1 í öðru veldi er 1\n",
      "Ferningsrót 2 er 1.41, lógaritmi 2 er 0.69 og 2 í öðru veldi er 4\n",
      "Ferningsrót 3 er 1.73, lógaritmi 3 er 1.10 og 3 í öðru veldi er 9\n",
      "Ferningsrót 4 er 2.00, lógaritmi 4 er 1.39 og 4 í öðru veldi er 16\n",
      "Ferningsrót 5 er 2.24, lógaritmi 5 er 1.61 og 5 í öðru veldi er 25\n",
      "Ferningsrót 6 er 2.45, lógaritmi 6 er 1.79 og 6 í öðru veldi er 36\n",
      "Ferningsrót 7 er 2.65, lógaritmi 7 er 1.95 og 7 í öðru veldi er 49\n",
      "Ferningsrót 8 er 2.83, lógaritmi 8 er 2.08 og 8 í öðru veldi er 64\n",
      "Ferningsrót 9 er 3.00, lógaritmi 9 er 2.20 og 9 í öðru veldi er 81\n",
      "Ferningsrót 10 er 3.16, lógaritmi 10 er 2.30 og 10 í öðru veldi er 100\n"
     ]
    }
   ],
   "source": [
    "import math\n",
    "\n",
    "def RLK(n, k):\n",
    "    for i in range(n,k+1):\n",
    "        squareroot = math.sqrt(i)\n",
    "        logarithm = math.log(i)\n",
    "        square = pow(i, 2)\n",
    "        print(f\"Ferningsrót {i} er {squareroot:.2f}, lógaritmi {i} er {logarithm:.2f} og {i} í öðru veldi er {square}\")\n",
    "    while n<=k:\n",
    "        squareroot = math.sqrt(n)\n",
    "        logarithm = math.log(n)\n",
    "        square = pow(n, 2)\n",
    "        print(f\"Ferningsrót {n} er {squareroot:.2f}, lógaritmi {n} er {logarithm:.2f} og {n} í öðru veldi er {square}\")\n",
    "        n+=1\n",
    "RLK(1,10)"
   ]
  },
  {
   "attachments": {},
   "cell_type": "markdown",
   "id": "c07391f4",
   "metadata": {},
   "source": [
    "# Lograr og veldi\n",
    "Forrit sem reiknar lógaritma af 1, lógaritma af e í veldinu 3, lógaritma af 1000 með grunntöluna 10 og lógaritma af 8 með grunntöluna 2."
   ]
  },
  {
   "cell_type": "code",
   "execution_count": 10,
   "id": "b25a4715",
   "metadata": {},
   "outputs": [
    {
     "name": "stdout",
     "output_type": "stream",
     "text": [
      "Lógaritmi af 1 er 0, lógaritmi af e í veldinu 3 er 3.0, \n",
      "lógaritmi af 1000 með grunntöluna 10 er 3 og lógaritmi af 8 með grunntöluna 2 er 3\n"
     ]
    }
   ],
   "source": [
    "def LogAndPower(log, logexp, log10, log2):\n",
    "    logarithm = math.log(log)\n",
    "    logexponent = math.log(math.exp(logexp))\n",
    "    logarithm10 = math.log(log10, 10)\n",
    "    logarithm2 = math.log(log2, 2)\n",
    "    print(f\"\"\"Lógaritmi af {log} er {logarithm:.0f}, lógaritmi af e í veldinu {logexp} er {logexponent}, \n",
    "lógaritmi af {log10} með grunntöluna 10 er {logarithm10:.0f} og lógaritmi af {log2} með grunntöluna 2 er {logarithm2:.0f}\"\"\")\n",
    "LogAndPower(1, 3, 1000, 8)"
   ]
  },
  {
   "attachments": {},
   "cell_type": "markdown",
   "id": "77f0589c",
   "metadata": {},
   "source": [
    "# Rúmmál kúlu\n",
    "Forrit sem reiknar rúmmál kúlu þar sem aðeins radíus er gefin tala, radíus hrings útfrá gefnu ummáli, eðlismassa hlutar með sömu eðlisþyngd og gull og reiknar einnig þyng jarðar."
   ]
  },
  {
   "cell_type": "code",
   "execution_count": 18,
   "id": "3fd6ea05-98f0-4aee-a0ce-ba1cb030af2e",
   "metadata": {},
   "outputs": [
    {
     "name": "stdout",
     "output_type": "stream",
     "text": [
      "Rúmmál kúlu með radíus 2 er  33.51\n",
      "Radíus hrings með ummálið 100 er 15.92\n",
      "Eðlismassi gulltenings sem er 20 cm á kant og hefur eðlisþyng 19.3 er 154.40\n",
      "Massi jarðar með ummálið 40 km og eðlismassan 5.5 g/cm^3 er 5.944176107017148e+21 tonn\n"
     ]
    }
   ],
   "source": [
    "def volumeOfSphere(radius):\n",
    "    return (4/3)*math.pi*(radius**3)\n",
    "\n",
    "def radiusOfSphere(circumference):\n",
    "    return circumference/(2*math.pi)\n",
    "\n",
    "def weightOfGold(side, densityOfGold):\n",
    "    return side * densityOfGold*1000\n",
    "\n",
    "radius = 2\n",
    "print(f\"Rúmmál kúlu með radíus {radius} er \", round(volumeOfSphere(radius), 2))\n",
    "\n",
    "circumference = 100\n",
    "print(f\"Radíus hrings með ummálið {circumference} er\", round(radiusOfSphere(circumference), 2))\n",
    "\n",
    "side = 20\n",
    "densityOfGold = 19.30\n",
    "print(f\"Eðlismassi gulltenings sem er {side} cm á kant og hefur eðlisþyng {densityOfGold} er {weightOfGold((20/100)**3, 19.3):.2f}\")\n",
    "\n",
    "circumference = 40000\n",
    "density = 5.5 \n",
    "radiusOfEarth = radiusOfSphere(circumference*10**4)\n",
    "volueOfEarth = volumeOfSphere(radiusOfEarth)\n",
    "massOfEarth = volueOfEarth * (density*10**3)\n",
    "print(f\"Massi jarðar með ummálið {(circumference/1000):.0f} km og eðlismassan {density} g/cm^3 er {massOfEarth/(10**6)} tonn\")"
   ]
  },
  {
   "attachments": {},
   "cell_type": "markdown",
   "id": "0af6b74c",
   "metadata": {},
   "source": [
    "# Taflborð\n",
    "Forrit sem býr til taflborð í stærð sem notandi gefur upp."
   ]
  },
  {
   "cell_type": "code",
   "execution_count": 3,
   "id": "76015dc8",
   "metadata": {},
   "outputs": [
    {
     "data": {
      "text/plain": [
       "ValueError('Please pick a number higher than 2 that is not an even number.')"
      ]
     },
     "execution_count": 3,
     "metadata": {},
     "output_type": "execute_result"
    }
   ],
   "source": [
    "def Chess(n):\n",
    "    if n<2 or n%2!=0:\n",
    "        return ValueError(\"Please pick a number higher than 2 that is not an even number.\")\n",
    "    lines = \"-\"*2*(n+1)\n",
    "    newline = lines.replace(\"-\", '', 1)\n",
    "    print(\"+\", newline, \"+\", sep='')\n",
    "    for i in range(0,n):\n",
    "        print(\"|\", end=' ')\n",
    "        for t in range(0,n):\n",
    "            if (i+t)%2==0:\n",
    "                print(\" \", end=' ')\n",
    "            else:\n",
    "                print(\"X\", end=' ')\n",
    "        print(\"|\")\n",
    "    print(\"+\", newline, \"+\", sep='')      \n",
    "Chess(int(input()))"
   ]
  }
 ],
 "metadata": {
  "kernelspec": {
   "display_name": "Python 3",
   "language": "python",
   "name": "python3"
  },
  "language_info": {
   "codemirror_mode": {
    "name": "ipython",
    "version": 3
   },
   "file_extension": ".py",
   "mimetype": "text/x-python",
   "name": "python",
   "nbconvert_exporter": "python",
   "pygments_lexer": "ipython3",
   "version": "3.9.13"
  },
  "vscode": {
   "interpreter": {
    "hash": "38cca0c38332a56087b24af0bc80247f4fced29cb4f7f437d91dc159adec9c4e"
   }
  }
 },
 "nbformat": 4,
 "nbformat_minor": 5
}
