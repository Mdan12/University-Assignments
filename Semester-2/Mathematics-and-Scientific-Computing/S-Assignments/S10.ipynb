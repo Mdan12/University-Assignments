{
 "cells": [
  {
   "cell_type": "code",
   "execution_count": 22,
   "metadata": {},
   "outputs": [
    {
     "name": "stdout",
     "output_type": "stream",
     "text": [
      "True\n",
      "True\n"
     ]
    }
   ],
   "source": [
    "def kennitala(string):\n",
    "    sum = 0\n",
    "\n",
    "    string = list(map(int,' '.join(str(string)).split()))\n",
    "    calc = [3,2,7,6,5,4,3,2]\n",
    "\n",
    "    for i in range(8):\n",
    "        sum += string[i]*calc[i]\n",
    "    randomnumb = 11-(sum%11)\n",
    "    return randomnumb == string[8]    \n",
    "\n",
    "print(kennitala(\"2411932769\"))\n",
    "print(kennitala(\"9999999999\"))"
   ]
  },
  {
   "cell_type": "code",
   "execution_count": 34,
   "metadata": {},
   "outputs": [
    {
     "name": "stdout",
     "output_type": "stream",
     "text": [
      "Name          Exam number             Identity number\n",
      "['Sigrún Jónsdóttir', 'Kristín Fjóludóttir', 'Birta Lárusdóttir', 'Erla Ýr Guðnadóttir', 'Anton Ingi Þórsson', 'Íris María Birgisdóttir', 'Ívar Sigurðsson', 'Ágúst Guðni Ingason', 'Steinunn Guðlaug Gunnarsdóttir', 'Eydís Þorsteinsdóttir', 'Signý Guðrún Pálsdóttir', 'Elías Ari Heimisson', 'Mark Johnson', 'Víðir Kristjánsson', 'Jónas Valdimarsson']\n"
     ]
    },
    {
     "ename": "TypeError",
     "evalue": "'list' object is not callable",
     "output_type": "error",
     "traceback": [
      "\u001b[0;31m---------------------------------------------------------------------------\u001b[0m",
      "\u001b[0;31mTypeError\u001b[0m                                 Traceback (most recent call last)",
      "\u001b[1;32m/Users/magnusde93/University-Assignments/Semester-2/Mathematics-and-Scientific-Computing/S-Assignments/S10.ipynb Cell 2\u001b[0m in \u001b[0;36m<cell line: 11>\u001b[0;34m()\u001b[0m\n\u001b[1;32m     <a href='vscode-notebook-cell:/Users/magnusde93/University-Assignments/Semester-2/Mathematics-and-Scientific-Computing/S-Assignments/S10.ipynb#W2sZmlsZQ%3D%3D?line=9'>10</a>\u001b[0m \u001b[39mprint\u001b[39m(Name)\n\u001b[1;32m     <a href='vscode-notebook-cell:/Users/magnusde93/University-Assignments/Semester-2/Mathematics-and-Scientific-Computing/S-Assignments/S10.ipynb#W2sZmlsZQ%3D%3D?line=10'>11</a>\u001b[0m \u001b[39mfor\u001b[39;00m i \u001b[39min\u001b[39;00m Name:\n\u001b[0;32m---> <a href='vscode-notebook-cell:/Users/magnusde93/University-Assignments/Semester-2/Mathematics-and-Scientific-Computing/S-Assignments/S10.ipynb#W2sZmlsZQ%3D%3D?line=11'>12</a>\u001b[0m     \u001b[39mprint\u001b[39m(Name(i), ExamNumber(i), IdNumber(i))\n",
      "\u001b[0;31mTypeError\u001b[0m: 'list' object is not callable"
     ]
    }
   ],
   "source": [
    "import numpy as np\n",
    "\n",
    "A = np.loadtxt(\"https://cs.hi.is/python/kennitolur.txt\", delimiter=',', skiprows=1, dtype=str).T\n",
    "\n",
    "Name = A[0].tolist()\n",
    "ExamNumber = A[1].astype(int)\n",
    "IdNumber = A[2].astype(int)\n",
    "\n",
    "print(\"Name          Exam number             Identity number\")\n",
    "for i in Name:\n",
    "    print(Name(i), ExamNumber(i), IdNumber(i))\n"
   ]
  }
 ],
 "metadata": {
  "kernelspec": {
   "display_name": "base",
   "language": "python",
   "name": "python3"
  },
  "language_info": {
   "codemirror_mode": {
    "name": "ipython",
    "version": 3
   },
   "file_extension": ".py",
   "mimetype": "text/x-python",
   "name": "python",
   "nbconvert_exporter": "python",
   "pygments_lexer": "ipython3",
   "version": "3.9.13"
  },
  "orig_nbformat": 4
 },
 "nbformat": 4,
 "nbformat_minor": 2
}
