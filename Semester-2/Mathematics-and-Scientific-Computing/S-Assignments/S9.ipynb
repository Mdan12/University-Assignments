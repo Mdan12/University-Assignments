{
 "cells": [
  {
   "attachments": {},
   "cell_type": "markdown",
   "metadata": {},
   "source": [
    "# 35 Póker"
   ]
  },
  {
   "cell_type": "code",
   "execution_count": 20,
   "metadata": {},
   "outputs": [
    {
     "name": "stdout",
     "output_type": "stream",
     "text": [
      "Hlutfall með tvær tvennur: 4.7%\n"
     ]
    }
   ],
   "source": [
    "from random import sample\n",
    "\n",
    "def pókerhönd():\n",
    "  stokkur = [(i,j) for i in range(1,5) for j in range(1,14)]\n",
    "  return sample(stokkur, 5)\n",
    "\n",
    "def með_tvær_tvennur(hönd):\n",
    "  # Skilar sönnu ef hönd geymir tvær tvennur\n",
    "  gildi = [spil[1] for spil in hönd]\n",
    "  M = set(gildi)                 # búa til mengi\n",
    "  if len(M) != 3:\n",
    "    return False                 # það verða að vera 3 gildi\n",
    "  for spil in M:\n",
    "    talning = gildi.count(spil)\n",
    "    if talning > 2: return False # og ekkert spil má koma 3svar\n",
    "  return True                    # það eru tvær tvennur!\n",
    "\n",
    "def hlutfall_með_2x2(n):\n",
    "  talning = 0\n",
    "  for i in range(n):\n",
    "    hönd = pókerhönd()\n",
    "    if með_tvær_tvennur(hönd):\n",
    "      talning += 1\n",
    "  return talning/n\n",
    "\n",
    "hf = hlutfall_með_2x2(100000)\n",
    "print(f'Hlutfall með tvær tvennur: {hf*100:.1f}%')"
   ]
  },
  {
   "attachments": {},
   "cell_type": "markdown",
   "metadata": {},
   "source": [
    "## 1."
   ]
  },
  {
   "cell_type": "code",
   "execution_count": 21,
   "metadata": {},
   "outputs": [
    {
     "data": {
      "text/plain": [
       "False"
      ]
     },
     "execution_count": 21,
     "metadata": {},
     "output_type": "execute_result"
    }
   ],
   "source": [
    "def ertvenna(hönd):\n",
    "  # Skilar sönnu ef hönd geymir tvær tvennur\n",
    "  gildi = [spil[1] for spil in hönd]\n",
    "  M = set(gildi)                 # búa til mengi\n",
    "  if len(M) == 4:\n",
    "    for spil in M:\n",
    "      talning = gildi.count(spil)\n",
    "      if talning == 2: \n",
    "        return True # og ekkert spil má koma 3svar\n",
    "  return False \n",
    "ertvenna(pókerhönd())"
   ]
  },
  {
   "attachments": {},
   "cell_type": "markdown",
   "metadata": {},
   "source": [
    "## 2."
   ]
  },
  {
   "cell_type": "code",
   "execution_count": 22,
   "metadata": {},
   "outputs": [
    {
     "data": {
      "text/plain": [
       "False"
      ]
     },
     "execution_count": 22,
     "metadata": {},
     "output_type": "execute_result"
    }
   ],
   "source": [
    "def erþrenna(hönd):\n",
    "  # Skilar sönnu ef hönd geymir þrennu\n",
    "  gildi = [spil[1] for spil in hönd]\n",
    "  M = set(gildi)\n",
    "  if len(M) == 3:\n",
    "    for spil in M:\n",
    "      talning = gildi.count(spil)\n",
    "      if talning == 3: \n",
    "        return True # og ekkert spil má koma 3svar\n",
    "  return False \n",
    "erþrenna(pókerhönd())"
   ]
  },
  {
   "attachments": {},
   "cell_type": "markdown",
   "metadata": {},
   "source": [
    "## 3."
   ]
  },
  {
   "cell_type": "code",
   "execution_count": 23,
   "metadata": {},
   "outputs": [
    {
     "data": {
      "text/plain": [
       "False"
      ]
     },
     "execution_count": 23,
     "metadata": {},
     "output_type": "execute_result"
    }
   ],
   "source": [
    "def erfullthus(hönd):\n",
    "  gildi = [spil[1] for spil in hönd]\n",
    "  M = set(gildi)\n",
    "  if len(M) == 2:\n",
    "    for spil in M:\n",
    "      talning = [gildi.count(i) for i in M]\n",
    "      if (2 in talning and 3 in talning):\n",
    "        return True\n",
    "  return False \n",
    "erfullthus(pókerhönd())"
   ]
  },
  {
   "attachments": {},
   "cell_type": "markdown",
   "metadata": {},
   "source": [
    "## 4."
   ]
  },
  {
   "cell_type": "code",
   "execution_count": 24,
   "metadata": {},
   "outputs": [
    {
     "data": {
      "text/plain": [
       "False"
      ]
     },
     "execution_count": 24,
     "metadata": {},
     "output_type": "execute_result"
    }
   ],
   "source": [
    "def erlitur(hönd):\n",
    "  # Skilar sönnu ef hönd geymir þrennu\n",
    "  gildi = [spil[0] for spil in hönd]\n",
    "  M = set(gildi)\n",
    "  if len(M) == 1:\n",
    "      return True\n",
    "  return False \n",
    "erlitur(pókerhönd())"
   ]
  },
  {
   "attachments": {},
   "cell_type": "markdown",
   "metadata": {},
   "source": [
    "## 5."
   ]
  },
  {
   "cell_type": "code",
   "execution_count": 26,
   "metadata": {},
   "outputs": [
    {
     "name": "stdout",
     "output_type": "stream",
     "text": [
      "Hlutfall með tvennur með 1 milljón tilraunir í Python: 42.329%\n",
      "Hlutfall samkvæmt netinu með tvennur er 42.4%\n",
      "Hlutfall með þrennur með 1 milljón tilraunir í Python: 2.108%\n",
      "Hlutfall samkvæmt netinu með þrennur er 2.11%\n",
      "Hlutfall með fullt hús með 1 milljón tilraunir í Python: 0.149%\n",
      "Hlutfall samkvæmt netinu með full hús er 0.144%\n",
      "Hlutfall með sama lit með 1 milljón tilraunir í Python: 0.197%\n",
      "Hlutfall samkvæmt netinu með sama lit er 0.198%\n"
     ]
    }
   ],
   "source": [
    "def hlutfall(n):\n",
    "    tvennur = 0\n",
    "    þrennur = 0\n",
    "    fullthus = 0\n",
    "    litur = 0\n",
    "\n",
    "    for i in range(n):\n",
    "        if ertvenna(pókerhönd()):\n",
    "            tvennur+=1\n",
    "        if erþrenna(pókerhönd()):\n",
    "            þrennur +=1\n",
    "        if erfullthus(pókerhönd()):\n",
    "            fullthus += 1\n",
    "        if erlitur(pókerhönd()):\n",
    "            litur+=1\n",
    "    return tvennur, þrennur, fullthus, litur\n",
    "\n",
    "first, second, third, fourth = hlutfall(1000000)\n",
    "\n",
    "print(f'Hlutfall með tvennur með 1 milljón tilraunir í Python: {first/10000:.3f}%')\n",
    "print(\"Hlutfall samkvæmt netinu með tvennur er 42.4%\")\n",
    "print(f'Hlutfall með þrennur með 1 milljón tilraunir í Python: {second/10000:.3f}%')\n",
    "print(\"Hlutfall samkvæmt netinu með þrennur er 2.11%\")\n",
    "print(f'Hlutfall með fullt hús með 1 milljón tilraunir í Python: {third/10000:.3f}%')\n",
    "print(\"Hlutfall samkvæmt netinu með full hús er 0.144%\")\n",
    "print(f'Hlutfall með sama lit með 1 milljón tilraunir í Python: {fourth/10000:.3f}%')\n",
    "print(\"Hlutfall samkvæmt netinu með sama lit er 0.198%\")\n",
    "\n"
   ]
  },
  {
   "attachments": {},
   "cell_type": "markdown",
   "metadata": {},
   "source": [
    "# 36. Stærð Jarðskjálfta"
   ]
  },
  {
   "cell_type": "code",
   "execution_count": 13,
   "metadata": {},
   "outputs": [
    {
     "name": "stdout",
     "output_type": "stream",
     "text": [
      "4.6 \n",
      "\n",
      "Miðstöð   Stærð\n",
      "----------------\n",
      "USGS       5.60\n",
      "GCMT       5.61\n",
      "GFZ        5.57\n"
     ]
    }
   ],
   "source": [
    "from math import log10, e\n",
    "import pandas as pd\n",
    "def earthquake(M0):\n",
    "    M = 2/3*(log10(M0)-9.1)\n",
    "    return M\n",
    "\n",
    "print(earthquake(1e16), \"\\n\")\n",
    "\n",
    "\n",
    "stærð = {\"USGS\": 3.20E17, \"GCMT\": 3.29e17, \"GFZ\": 2.9e17}\n",
    "print(\"Miðstöð   Stærð\")\n",
    "print(\"-\"*16)\n",
    "\n",
    "for miðstöð in stærð:\n",
    "    vægisst = earthquake(stærð[miðstöð])\n",
    "    print(f\"{miðstöð:10} {vægisst:.2f}\")\n",
    "\n"
   ]
  },
  {
   "attachments": {},
   "cell_type": "markdown",
   "metadata": {},
   "source": [
    "# 37. Valkvæðir Stikar"
   ]
  },
  {
   "attachments": {},
   "cell_type": "markdown",
   "metadata": {},
   "source": [
    "## 1."
   ]
  },
  {
   "cell_type": "code",
   "execution_count": 17,
   "metadata": {},
   "outputs": [
    {
     "data": {
      "text/html": [
       "<div>\n",
       "<style scoped>\n",
       "    .dataframe tbody tr th:only-of-type {\n",
       "        vertical-align: middle;\n",
       "    }\n",
       "\n",
       "    .dataframe tbody tr th {\n",
       "        vertical-align: top;\n",
       "    }\n",
       "\n",
       "    .dataframe thead th {\n",
       "        text-align: right;\n",
       "    }\n",
       "</style>\n",
       "<table border=\"1\" class=\"dataframe\">\n",
       "  <thead>\n",
       "    <tr style=\"text-align: right;\">\n",
       "      <th></th>\n",
       "      <th>x</th>\n",
       "      <th>a</th>\n",
       "      <th>log_a(x)</th>\n",
       "    </tr>\n",
       "  </thead>\n",
       "  <tbody>\n",
       "    <tr>\n",
       "      <th>0</th>\n",
       "      <td>100</td>\n",
       "      <td>10</td>\n",
       "      <td>2</td>\n",
       "    </tr>\n",
       "    <tr>\n",
       "      <th>1</th>\n",
       "      <td>243</td>\n",
       "      <td>3</td>\n",
       "      <td>5</td>\n",
       "    </tr>\n",
       "    <tr>\n",
       "      <th>2</th>\n",
       "      <td>128</td>\n",
       "      <td>2</td>\n",
       "      <td>7</td>\n",
       "    </tr>\n",
       "  </tbody>\n",
       "</table>\n",
       "</div>"
      ],
      "text/plain": [
       "     x   a  log_a(x)\n",
       "0  100  10         2\n",
       "1  243   3         5\n",
       "2  128   2         7"
      ]
     },
     "execution_count": 17,
     "metadata": {},
     "output_type": "execute_result"
    }
   ],
   "source": [
    "from math import log, exp\n",
    "\n",
    "def lnrót(x, a):\n",
    "   return round(log(x)/log(a))\n",
    "a = lnrót(100,10)\n",
    "b = lnrót(243,3)\n",
    "c = lnrót(128,2)\n",
    "\n",
    "data = [[100,10,a], [243,3,b],[128,2,c]]\n",
    "df = pd.DataFrame(data, columns=['x', 'a', \"log_a(x)\"])\n",
    "df\n"
   ]
  },
  {
   "attachments": {},
   "cell_type": "markdown",
   "metadata": {},
   "source": [
    "## 2."
   ]
  },
  {
   "cell_type": "code",
   "execution_count": 18,
   "metadata": {},
   "outputs": [
    {
     "name": "stdout",
     "output_type": "stream",
     "text": [
      "[1.000, 2.718, 7.389, 20.086, 54.598, 148.413]\n"
     ]
    }
   ],
   "source": [
    "aba = [exp(x) for x in range(6)]\n",
    "def nauk(listi, tala):\n",
    "   print(\"[\", end=\"\")\n",
    "   for i,k in enumerate(listi):\n",
    "      if i == len(listi)-1:\n",
    "         print(f\"{k:.{tala}f}\", end=\"\")\n",
    "      else:\n",
    "         print(f\"{k:.{tala}f}\", end=\", \")\n",
    "   print(\"]\")\n",
    "\n",
    "nauk(aba, 3)"
   ]
  }
 ],
 "metadata": {
  "kernelspec": {
   "display_name": "base",
   "language": "python",
   "name": "python3"
  },
  "language_info": {
   "codemirror_mode": {
    "name": "ipython",
    "version": 3
   },
   "file_extension": ".py",
   "mimetype": "text/x-python",
   "name": "python",
   "nbconvert_exporter": "python",
   "pygments_lexer": "ipython3",
   "version": "3.9.13"
  },
  "orig_nbformat": 4
 },
 "nbformat": 4,
 "nbformat_minor": 2
}
