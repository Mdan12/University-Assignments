{
 "cells": [
  {
   "attachments": {},
   "cell_type": "markdown",
   "metadata": {},
   "source": [
    "# 35 Póker"
   ]
  },
  {
   "cell_type": "code",
   "execution_count": 5,
   "metadata": {},
   "outputs": [
    {
     "name": "stdout",
     "output_type": "stream",
     "text": [
      "Hlutfall með tvær tvennur: 4.7%\n"
     ]
    }
   ],
   "source": [
    "from random import sample\n",
    "\n",
    "def pókerhönd():\n",
    "  stokkur = [(i,j) for i in range(1,5) for j in range(1,14)]\n",
    "  return sample(stokkur, 5)\n",
    "\n",
    "def með_tvær_tvennur(hönd):\n",
    "  # Skilar sönnu ef hönd geymir tvær tvennur\n",
    "  gildi = [spil[1] for spil in hönd]\n",
    "  M = set(gildi)                 # búa til mengi\n",
    "  if len(M) != 3:\n",
    "    return False                 # það verða að vera 3 gildi\n",
    "  for spil in M:\n",
    "    talning = gildi.count(spil)\n",
    "    if talning > 2: return False # og ekkert spil má koma 3svar\n",
    "  return True                    # það eru tvær tvennur!\n",
    "\n",
    "def hlutfall_með_2x2(n):\n",
    "  talning = 0\n",
    "  for i in range(n):\n",
    "    hönd = pókerhönd()\n",
    "    if með_tvær_tvennur(hönd):\n",
    "      talning += 1\n",
    "  return talning/n\n",
    "\n",
    "hf = hlutfall_með_2x2(100000)\n",
    "print(f'Hlutfall með tvær tvennur: {hf*100:.1f}%')"
   ]
  },
  {
   "attachments": {},
   "cell_type": "markdown",
   "metadata": {},
   "source": [
    "## 1."
   ]
  },
  {
   "cell_type": "code",
   "execution_count": 6,
   "metadata": {},
   "outputs": [
    {
     "data": {
      "text/plain": [
       "True"
      ]
     },
     "execution_count": 6,
     "metadata": {},
     "output_type": "execute_result"
    }
   ],
   "source": [
    "def ertvenna(hönd):\n",
    "  # Skilar sönnu ef hönd geymir tvær tvennur\n",
    "  gildi = [spil[1] for spil in hönd]\n",
    "  M = set(gildi)                 # búa til mengi\n",
    "  if len(M) == 4:\n",
    "    for spil in M:\n",
    "      talning = gildi.count(spil)\n",
    "      if talning == 2: \n",
    "        return True # og ekkert spil má koma 3svar\n",
    "  return False \n",
    "ertvenna(pókerhönd())"
   ]
  },
  {
   "attachments": {},
   "cell_type": "markdown",
   "metadata": {},
   "source": [
    "## 2."
   ]
  },
  {
   "cell_type": "code",
   "execution_count": 138,
   "metadata": {},
   "outputs": [
    {
     "data": {
      "text/plain": [
       "False"
      ]
     },
     "execution_count": 138,
     "metadata": {},
     "output_type": "execute_result"
    }
   ],
   "source": [
    "def erþrenna(hönd):\n",
    "  # Skilar sönnu ef hönd geymir þrennu\n",
    "  gildi = [spil[1] for spil in hönd]\n",
    "  M = set(gildi)\n",
    "  if len(M) == 3:\n",
    "    for spil in M:\n",
    "      talning = gildi.count(spil)\n",
    "      if talning == 3: \n",
    "        return True # og ekkert spil má koma 3svar\n",
    "  return False \n",
    "erþrenna(pókerhönd())"
   ]
  },
  {
   "attachments": {},
   "cell_type": "markdown",
   "metadata": {},
   "source": [
    "## 3."
   ]
  },
  {
   "cell_type": "code",
   "execution_count": 49,
   "metadata": {},
   "outputs": [
    {
     "data": {
      "text/plain": [
       "False"
      ]
     },
     "execution_count": 49,
     "metadata": {},
     "output_type": "execute_result"
    }
   ],
   "source": [
    "def erfullthus(hönd):\n",
    "  gildi = [spil[1] for spil in hönd]\n",
    "  M = set(gildi)\n",
    "  if len(M) == 2:\n",
    "    for spil in M:\n",
    "      talning = [gildi.count(i) for i in M]\n",
    "      if (2 in talning and 3 in talning):\n",
    "        return True\n",
    "  return False \n",
    "erfullthus(pókerhönd())"
   ]
  },
  {
   "attachments": {},
   "cell_type": "markdown",
   "metadata": {},
   "source": [
    "## 4."
   ]
  },
  {
   "cell_type": "code",
   "execution_count": 48,
   "metadata": {},
   "outputs": [
    {
     "data": {
      "text/plain": [
       "False"
      ]
     },
     "execution_count": 48,
     "metadata": {},
     "output_type": "execute_result"
    }
   ],
   "source": [
    "def erlitur(hönd):\n",
    "  # Skilar sönnu ef hönd geymir þrennu\n",
    "  gildi = [spil[0] for spil in hönd]\n",
    "  M = set(gildi)\n",
    "  if len(M) == 1:\n",
    "      return True\n",
    "  return False \n",
    "erlitur(pókerhönd())"
   ]
  },
  {
   "attachments": {},
   "cell_type": "markdown",
   "metadata": {},
   "source": [
    "## 5."
   ]
  },
  {
   "cell_type": "code",
   "execution_count": 63,
   "metadata": {},
   "outputs": [
    {
     "name": "stdout",
     "output_type": "stream",
     "text": [
      "Hlutfall með tvennur: 42.172%\n",
      "Hlutfall með þrennur: 2.093%\n",
      "Hlutfall með fullt hús: 0.141%\n",
      "Hlutfall með sama lit: 0.190%\n"
     ]
    }
   ],
   "source": [
    "def hlutfall(n):\n",
    "    tvennur = 0\n",
    "    þrennur = 0\n",
    "    fullthus = 0\n",
    "    litur = 0\n",
    "\n",
    "    for i in range(n):\n",
    "        if ertvenna(pókerhönd()):\n",
    "            tvennur+=1\n",
    "        if erþrenna(pókerhönd()):\n",
    "            þrennur +=1\n",
    "        if erfullthus(pókerhönd()):\n",
    "            fullthus += 1\n",
    "        if erlitur(pókerhönd()):\n",
    "            litur+=1\n",
    "    return tvennur, þrennur, fullthus, litur\n",
    "\n",
    "first, second, third, fourth = hlutfall(1000000)\n",
    "\n",
    "print(f'Hlutfall með tvennur: {first/10000:.3f}%')\n",
    "print(f'Hlutfall með þrennur: {second/10000:.3f}%')\n",
    "print(f'Hlutfall með fullt hús: {third/10000:.3f}%')\n",
    "print(f'Hlutfall með sama lit: {fourth/10000:.3f}%')"
   ]
  },
  {
   "attachments": {},
   "cell_type": "markdown",
   "metadata": {},
   "source": [
    "# 36. Stærð Jarðskjálfta"
   ]
  },
  {
   "cell_type": "code",
   "execution_count": 122,
   "metadata": {},
   "outputs": [
    {
     "name": "stdout",
     "output_type": "stream",
     "text": [
      "4.6\n"
     ]
    },
    {
     "data": {
      "text/html": [
       "<div>\n",
       "<style scoped>\n",
       "    .dataframe tbody tr th:only-of-type {\n",
       "        vertical-align: middle;\n",
       "    }\n",
       "\n",
       "    .dataframe tbody tr th {\n",
       "        vertical-align: top;\n",
       "    }\n",
       "\n",
       "    .dataframe thead th {\n",
       "        text-align: right;\n",
       "    }\n",
       "</style>\n",
       "<table border=\"1\" class=\"dataframe\">\n",
       "  <thead>\n",
       "    <tr style=\"text-align: right;\">\n",
       "      <th></th>\n",
       "      <th>Miðstöð</th>\n",
       "      <th>Land</th>\n",
       "      <th>M0</th>\n",
       "      <th>Stærð</th>\n",
       "    </tr>\n",
       "  </thead>\n",
       "  <tbody>\n",
       "    <tr>\n",
       "      <th>0</th>\n",
       "      <td>USGS</td>\n",
       "      <td>Bandaríkin</td>\n",
       "      <td>3.200000e+17</td>\n",
       "      <td>5.574932</td>\n",
       "    </tr>\n",
       "    <tr>\n",
       "      <th>1</th>\n",
       "      <td>GCMT</td>\n",
       "      <td>Bandaríkin</td>\n",
       "      <td>3.290000e+17</td>\n",
       "      <td>5.574932</td>\n",
       "    </tr>\n",
       "    <tr>\n",
       "      <th>2</th>\n",
       "      <td>GFZ</td>\n",
       "      <td>Þýskaland</td>\n",
       "      <td>2.900000e+17</td>\n",
       "      <td>5.574932</td>\n",
       "    </tr>\n",
       "  </tbody>\n",
       "</table>\n",
       "</div>"
      ],
      "text/plain": [
       "  Miðstöð        Land            M0     Stærð\n",
       "0    USGS  Bandaríkin  3.200000e+17  5.574932\n",
       "1    GCMT  Bandaríkin  3.290000e+17  5.574932\n",
       "2     GFZ   Þýskaland  2.900000e+17  5.574932"
      ]
     },
     "execution_count": 122,
     "metadata": {},
     "output_type": "execute_result"
    }
   ],
   "source": [
    "from math import log10, e\n",
    "import pandas as pd\n",
    "def earthquake(M0):\n",
    "    M = 2/3*(log10(M0)-9.1)\n",
    "    return M\n",
    "\n",
    "print(earthquake(1e16))\n",
    "\n",
    "\n",
    "stærð = [[\"USGS\", \"Bandaríkin\", 3.2*1e17], [\"GCMT\", \"Bandaríkin\", 3.29*1e17], [\"GFZ\",\"Þýskaland\", 2.9*1e17]]\n",
    "\n",
    "df = pd.DataFrame(stærð, columns=['Miðstöð', 'Land', \"M0\"])\n",
    "\n",
    "\n",
    "for i in df[\"M0\"]:\n",
    "    df[\"Stærð\"]=earthquake(i)\n",
    "\n",
    "df\n"
   ]
  },
  {
   "attachments": {},
   "cell_type": "markdown",
   "metadata": {},
   "source": [
    "# 37. Valkvæðir Stikar"
   ]
  },
  {
   "attachments": {},
   "cell_type": "markdown",
   "metadata": {},
   "source": [
    "## 1."
   ]
  },
  {
   "cell_type": "code",
   "execution_count": 136,
   "metadata": {},
   "outputs": [
    {
     "data": {
      "text/html": [
       "<div>\n",
       "<style scoped>\n",
       "    .dataframe tbody tr th:only-of-type {\n",
       "        vertical-align: middle;\n",
       "    }\n",
       "\n",
       "    .dataframe tbody tr th {\n",
       "        vertical-align: top;\n",
       "    }\n",
       "\n",
       "    .dataframe thead th {\n",
       "        text-align: right;\n",
       "    }\n",
       "</style>\n",
       "<table border=\"1\" class=\"dataframe\">\n",
       "  <thead>\n",
       "    <tr style=\"text-align: right;\">\n",
       "      <th></th>\n",
       "      <th>x</th>\n",
       "      <th>a</th>\n",
       "      <th>log_a(x)</th>\n",
       "    </tr>\n",
       "  </thead>\n",
       "  <tbody>\n",
       "    <tr>\n",
       "      <th>0</th>\n",
       "      <td>100</td>\n",
       "      <td>10</td>\n",
       "      <td>2</td>\n",
       "    </tr>\n",
       "    <tr>\n",
       "      <th>1</th>\n",
       "      <td>243</td>\n",
       "      <td>3</td>\n",
       "      <td>5</td>\n",
       "    </tr>\n",
       "    <tr>\n",
       "      <th>2</th>\n",
       "      <td>128</td>\n",
       "      <td>2</td>\n",
       "      <td>7</td>\n",
       "    </tr>\n",
       "  </tbody>\n",
       "</table>\n",
       "</div>"
      ],
      "text/plain": [
       "     x   a  log_a(x)\n",
       "0  100  10         2\n",
       "1  243   3         5\n",
       "2  128   2         7"
      ]
     },
     "execution_count": 136,
     "metadata": {},
     "output_type": "execute_result"
    }
   ],
   "source": [
    "from math import log, exp\n",
    "\n",
    "def lnrót(x, a):\n",
    "   return round(log(x)/log(a))\n",
    "a = lnrót(100,10)\n",
    "b = lnrót(243,3)\n",
    "c = lnrót(128,2)\n",
    "\n",
    "data = [[100,10,a], [243,3,b],[128,2,c]]\n",
    "df = pd.DataFrame(data, columns=['x', 'a', \"log_a(x)\"])\n",
    "df\n"
   ]
  },
  {
   "attachments": {},
   "cell_type": "markdown",
   "metadata": {},
   "source": [
    "## 2."
   ]
  },
  {
   "cell_type": "code",
   "execution_count": 137,
   "metadata": {},
   "outputs": [
    {
     "name": "stdout",
     "output_type": "stream",
     "text": [
      "[1.000, 2.718, 7.389, 20.086, 54.598, 148.413]\n"
     ]
    }
   ],
   "source": [
    "aba = [exp(x) for x in range(6)]\n",
    "def nauk(listi):\n",
    "   print(\"[\", end=\"\")\n",
    "   for i,k in enumerate(listi):\n",
    "      if i == len(listi)-1:\n",
    "         print(f\"{k:.3f}\", end=\"\")\n",
    "      else:\n",
    "         print(f\"{k:.3f}\", end=\", \")\n",
    "   print(\"]\")\n",
    "\n",
    "nauk(aba)"
   ]
  }
 ],
 "metadata": {
  "kernelspec": {
   "display_name": "base",
   "language": "python",
   "name": "python3"
  },
  "language_info": {
   "codemirror_mode": {
    "name": "ipython",
    "version": 3
   },
   "file_extension": ".py",
   "mimetype": "text/x-python",
   "name": "python",
   "nbconvert_exporter": "python",
   "pygments_lexer": "ipython3",
   "version": "3.9.13"
  },
  "orig_nbformat": 4
 },
 "nbformat": 4,
 "nbformat_minor": 2
}
